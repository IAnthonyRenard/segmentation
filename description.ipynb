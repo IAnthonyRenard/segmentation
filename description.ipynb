{
 "cells": [
  {
   "cell_type": "markdown",
   "id": "ac6c1b25-535a-4c0e-a0c4-50cbb23bcbde",
   "metadata": {
    "extensions": {
     "jupyter_dashboards": {
      "activeView": "grid_default",
      "views": {
       "grid_default": {
        "col": null,
        "height": 2,
        "hidden": true,
        "locked": true,
        "row": null,
        "width": 2
       }
      }
     }
    },
    "jp-MarkdownHeadingCollapsed": true,
    "tags": []
   },
   "source": [
    "# Projet 5 : Segmenter des clients d’un site e-commerce\n",
    "\n",
    "\n",
    "<center><img alt=\"segmentation\" src=\"images/segments.png\"/></center>\n"
   ]
  },
  {
   "cell_type": "markdown",
   "id": "dacdd4d4-78d7-4e58-816a-3726ddec9547",
   "metadata": {
    "jp-MarkdownHeadingCollapsed": true,
    "tags": []
   },
   "source": [
    "# 1. INTRODUCTION\n",
    "## Contexte\n",
    "\n",
    "Contexte : Olist souhaite que ses équipes d'e-commerce dispose d’une segmentation des clients qu’elles pourront utiliser au quotidien pour leurs campagnes de communication.\n",
    "\n",
    "<center><img alt=\"olist\" src=\"images/olist.png\"/></center>\n",
    "    \n",
    "## Objectif \n",
    "Objectif : fournir à l’équipe marketing une description actionnable de la segmentation et de sa logique sous-jacente pour une utilisation optimale, ainsi qu’une proposition de contrat de maintenance basée sur une analyse de la stabilité des segments au cours du temps."
   ]
  },
  {
   "cell_type": "markdown",
   "id": "5ca584e7-2cc9-4de8-b80a-7eb950ef0bb2",
   "metadata": {
    "extensions": {
     "jupyter_dashboards": {
      "activeView": "grid_default",
      "views": {
       "grid_default": {
        "col": null,
        "height": 2,
        "hidden": true,
        "locked": true,
        "row": null,
        "width": 2
       }
      }
     }
    },
    "jp-MarkdownHeadingCollapsed": true,
    "tags": []
   },
   "source": [
    "# 2. Démarche méthodologique\n",
    "\n",
    "Dans un premier temps, je vais <a href=\"Renard_Anthony_1_notebook_exploration_012023.ipynb#C313\">charger</a> les 9 fichiers sources qui seront notre point d'entrée. Ensuite je ferai un **inventaire** et un **nettoyage** des jeux de données afin d'avoir 9 datasets \"propres\" pour l'analyse des données. Je passerai ensuite par une phase de création de \"features\" afin de pouvoir connaitre notre clientèle sous de nouveaux aspects. Je rassemblerai ensuite certains dataframes/colonnes. Juste après je calculerai la récence, la fréquence et les dépenses de nos clients pour créer 3 nouvelles features : R, F et M (RFM).  Après des analyses multivariées et univariées, je segmenterai la clientèle grâce à 3 classifieurs (K-Means++, classification hiérarchique et DBSCAN) en utilisant certaines features et je choisirai le plus performant. Je vais ensuite créer des scénarios afin de quantifier l'impact (gains financiers) des actions levées. Enfin, je finirai mon étude par une proposition de contrat de maintenance. \n",
    "<center><img alt=\"demarche\" src=\"images/demarche.png\"/></center>"
   ]
  },
  {
   "cell_type": "markdown",
   "id": "17226077-1517-43d9-b1ab-432602828df1",
   "metadata": {
    "extensions": {
     "jupyter_dashboards": {
      "activeView": "grid_default",
      "views": {
       "grid_default": {
        "col": null,
        "height": 2,
        "hidden": true,
        "locked": true,
        "row": null,
        "width": 2
       }
      }
     }
    },
    "tags": []
   },
   "source": [
    "# 3. Exploration des données"
   ]
  },
  {
   "cell_type": "markdown",
   "id": "9aaec49f-6ea7-4190-b923-8f6b4800eac9",
   "metadata": {
    "tags": []
   },
   "source": [
    "## <a href=\"Renard_Anthony_1_notebook_exploration_012023.ipynb#C31\">3.1 Chargement<a>"
   ]
  },
  {
   "cell_type": "markdown",
   "id": "ca439f4f-5edf-40a3-a4e4-30e44dc2eb7c",
   "metadata": {},
   "source": [
    "Chargement du fichier CSV, des librairies et des fonctions utiles. "
   ]
  },
  {
   "cell_type": "markdown",
   "id": "96dd54ea-31f7-4477-b95e-7be6d65f531c",
   "metadata": {
    "extensions": {
     "jupyter_dashboards": {
      "activeView": "grid_default",
      "views": {
       "grid_default": {
        "col": null,
        "height": 2,
        "hidden": true,
        "locked": true,
        "row": null,
        "width": 2
       }
      }
     }
    },
    "tags": []
   },
   "source": [
    "## 3.2 Présentation de la structure"
   ]
  },
  {
   "cell_type": "markdown",
   "id": "28a08174-bd20-45e2-a430-0a0613d7b028",
   "metadata": {
    "extensions": {
     "jupyter_dashboards": {
      "activeView": "grid_default",
      "views": {
       "grid_default": {
        "col": null,
        "height": 2,
        "hidden": true,
        "locked": true,
        "row": null,
        "width": 2
       }
      }
     }
    },
    "tags": []
   },
   "source": [
    "###  <a href=\"projet3.ipynb#C321\">3.2.1 Nombre de lignes et de colonnes et types<a>"
   ]
  },
  {
   "cell_type": "markdown",
   "id": "1ef05112-1329-4a52-80c9-3e60934125d4",
   "metadata": {
    "extensions": {
     "jupyter_dashboards": {
      "activeView": "grid_default",
      "views": {
       "grid_default": {
        "col": null,
        "height": 2,
        "hidden": true,
        "locked": true,
        "row": null,
        "width": 2
       }
      }
     }
    },
    "jp-MarkdownHeadingCollapsed": true,
    "tags": []
   },
   "source": [
    "Nous avons en notre possession 9 dataframes. Voici leur configuration après leur <a href=\"Renard_Anthony_1_notebook_exploration_012023ipynb#C313\">chargement<a> : <br> \n",
    "\n",
    "\n",
    "<table>\n",
    "      <tr>\n",
    "        <th><center>N°</center></th>\n",
    "        <th><center>Nom</center></th>\n",
    "        <th><center>Nombre de lignes</center></th>\n",
    "        <th><center>Nombre de colonnes</center></th>\n",
    "        <th><center>Type float64</center></th>\n",
    "        <th><center>Type int64</center></th>\n",
    "        <th><center>Type objet</center></th>\n",
    "      </tr>\n",
    "      <tr>\n",
    "        <td><center>1</center></td>\n",
    "        <td><center>df_customers</center></td>\n",
    "        <td><center>99441</center></td>\n",
    "        <td><center>5</center></td>\n",
    "        <td><center>0</center></td>\n",
    "        <td><center>1</center></td>\n",
    "        <td><center>4</center></td>\n",
    "      </tr>\n",
    "       <tr>\n",
    "        <td><center>2</center></td>\n",
    "        <td><center>df_geolocation</center></td>\n",
    "        <td><center>1000163</center></td>\n",
    "        <td><center>5</center></td>\n",
    "        <td><center>2</center></td>\n",
    "        <td><center>1</center></td>\n",
    "        <td><center>2</center></td>\n",
    "      </tr>\n",
    "       <tr>\n",
    "        <td><center>3</center></td>\n",
    "        <td><center>df_order_items</center></td>\n",
    "        <td><center>112650</center></td>\n",
    "        <td><center>7</center></td>\n",
    "        <td><center>2</center></td>\n",
    "        <td><center>1</center></td>\n",
    "        <td><center>4</center></td>\n",
    "      </tr>\n",
    "         <tr>\n",
    "        <td><center>4</center></td>\n",
    "        <td><center>df_order_payments</center></td>\n",
    "        <td><center>103886</center></td>\n",
    "        <td><center>5</center></td>\n",
    "        <td><center>1</center></td>\n",
    "        <td><center>2</center></td>\n",
    "        <td><center>2</center></td>\n",
    "      </tr>\n",
    "         <tr>\n",
    "        <td><center>5</center></td>\n",
    "        <td><center>df_order_reviews</center></td>\n",
    "        <td><center>99224</center></td>\n",
    "        <td><center>7</center></td>\n",
    "        <td><center>0</center></td>\n",
    "        <td><center>1</center></td>\n",
    "        <td><center>6</center></td>\n",
    "      </tr>\n",
    "      <tr>\n",
    "        <td><center>6</center></td>\n",
    "        <td><center>df_orders</center></td>\n",
    "        <td><center>99441</center></td>\n",
    "        <td><center>8</center></td>\n",
    "        <td><center>0</center></td>\n",
    "        <td><center>0</center></td>\n",
    "        <td><center>8</center></td>\n",
    "      </tr>\n",
    "      <tr>\n",
    "        <td><center>7</center></td>\n",
    "        <td><center>df_products</center></td>\n",
    "        <td><center>32951</center></td>\n",
    "        <td><center>9</center></td>\n",
    "        <td><center>7</center></td>\n",
    "        <td><center>0</center></td>\n",
    "        <td><center>2</center></td>\n",
    "      </tr>\n",
    "      <tr>\n",
    "        <td><center>8</center></td>\n",
    "        <td><center>df_sellers</center></td>\n",
    "        <td><center>3095</center></td>\n",
    "        <td><center>4</center></td>\n",
    "        <td><center>0</center></td>\n",
    "        <td><center>1</center></td>\n",
    "        <td><center>3</center></td>\n",
    "      </tr>\n",
    "      <tr>\n",
    "        <td><center>9</center></td>\n",
    "        <td><center>df_product_category_name_translation</center></td>\n",
    "        <td><center>71</center></td>\n",
    "        <td><center>2</center></td>\n",
    "        <td><center>0</center></td>\n",
    "        <td><center>0</center></td>\n",
    "        <td><center>2</center></td>\n",
    "      </tr>\n",
    "</table><br>\n"
   ]
  },
  {
   "cell_type": "markdown",
   "id": "fc4f0d10-9b1b-41d3-a4e2-a8152a0bfd52",
   "metadata": {},
   "source": [
    "###  <a href=\"Renard_Anthony_1_notebook_exploration_012023.ipynb#C322\">3.2.2 Liens entre les dataframes<a>"
   ]
  },
  {
   "cell_type": "markdown",
   "id": "5ff86546-77c7-4145-90ed-09117bbb2a1b",
   "metadata": {},
   "source": [
    "<center><img alt=\"liens\" src=\"images/liens.png\"/></center>"
   ]
  },
  {
   "cell_type": "markdown",
   "id": "83dc842d-a364-424b-984d-0097a24bccfa",
   "metadata": {
    "tags": []
   },
   "source": [
    "## 3.3 Nettoyage"
   ]
  },
  {
   "cell_type": "markdown",
   "id": "89391132-eb3d-4266-84f2-93eb90c442ce",
   "metadata": {
    "extensions": {
     "jupyter_dashboards": {
      "activeView": "grid_default",
      "views": {
       "grid_default": {
        "col": null,
        "height": 2,
        "hidden": true,
        "locked": true,
        "row": null,
        "width": 2
       }
      }
     }
    },
    "tags": []
   },
   "source": [
    "### <a href=\"Renard_Anthony_1_notebook_exploration_012023.ipynb#C331\"> 3.3.1 Les manquants<a>"
   ]
  },
  {
   "cell_type": "markdown",
   "id": "e01126df-8472-40b8-95e0-8238c17a6240",
   "metadata": {
    "extensions": {
     "jupyter_dashboards": {
      "activeView": "grid_default",
      "views": {
       "grid_default": {
        "col": null,
        "height": 2,
        "hidden": true,
        "locked": true,
        "row": null,
        "width": 2
       }
      }
     }
    },
    "tags": []
   },
   "source": [
    "Les colonnes éléments suivants présentes des valeurs manquantes : \n",
    "\n",
    "<table>\n",
    "      <tr>\n",
    "        <th><center>N°</center></th>\n",
    "        <th><center>Nom dataframe</center></th>\n",
    "        <th><center>Nom colonne</center></th>\n",
    "        <th><center>Quantité</center></th>\n",
    "        <th><center>Pourcentage</center></th>\n",
    "        <th><center>Commentaire</center></th>\n",
    "      </tr>\n",
    "      <tr>\n",
    "        <td><center>1</center></td>\n",
    "        <td><center>df_order_reviews</center></td>\n",
    "        <td><center>review_comment_title</center></td>\n",
    "        <td><center>87656</center></td>\n",
    "        <td><center>88.34</center></td>\n",
    "        <td><center>Remplissage par \"not provided\"</center></td>\n",
    "      </tr>\n",
    "       <tr>\n",
    "        <td><center>2</center></td>\n",
    "        <td><center>df_order_reviews</center></td>\n",
    "        <td><center>review_comment_message</center></td>\n",
    "        <td><center>58247</center></td>\n",
    "        <td><center>58.70</center></td>\n",
    "        <td><center>Remplissage par \"not provided\"</center></td>\n",
    "      </tr>\n",
    "       <tr>\n",
    "        <td><center>3</center></td>\n",
    "        <td><center>df_orders</center></td>\n",
    "        <td><center>order_delivered_customer_date</center></td>\n",
    "        <td><center>2965</center></td>\n",
    "        <td><center>2.98</center></td>\n",
    "        <td><center>Lignes supprimées</center></td>\n",
    "      </tr>\n",
    "         <tr>\n",
    "        <td><center>4</center></td>\n",
    "        <td><center>df_orders</center></td>\n",
    "        <td><center>order_delivered_carrier_date</center></td>\n",
    "        <td><center>1783</center></td>\n",
    "        <td><center>1.79</center></td>\n",
    "        <td><center>Lignes supprimées</center></td>\n",
    "      </tr>\n",
    "         <tr>\n",
    "        <td><center>5</center></td>\n",
    "        <td><center>df_orders</center></td>\n",
    "        <td><center>order_approved_at</center></td>\n",
    "        <td><center>160</center></td>\n",
    "        <td><center>0.16</center></td>\n",
    "        <td><center>Lignes supprimées</center></td>\n",
    "      </tr>\n",
    "      <tr>\n",
    "        <td><center>6</center></td>\n",
    "        <td><center>df_products</center></td>\n",
    "        <td><center>product_category_name</center></td>\n",
    "        <td><center>610</center></td>\n",
    "        <td><center>1.85</center></td>\n",
    "        <td><center>Lignes supprimées</center></td>\n",
    "      </tr>\n",
    "      <tr>\n",
    "        <td><center>7</center></td>\n",
    "        <td><center>df_products</center></td>\n",
    "        <td><center>product_name_lenght</center></td>\n",
    "        <td><center>610</center></td>\n",
    "        <td><center>1.85</center></td>\n",
    "        <td><center>Lignes supprimées</center></td>\n",
    "      </tr>\n",
    "     <tr>\n",
    "        <td><center>8</center></td>\n",
    "        <td><center>df_products</center></td>\n",
    "        <td><center>product_description_lenght</center></td>\n",
    "        <td><center>610</center></td>\n",
    "        <td><center>1.85</center></td>\n",
    "        <td><center>Lignes supprimées</center></td>\n",
    "      </tr>\n",
    "      <tr>\n",
    "        <td><center>9</center></td>\n",
    "        <td><center>df_products</center></td>\n",
    "        <td><center>product_photos_qty</center></td>\n",
    "        <td><center>610</center></td>\n",
    "        <td><center>1.85</center></td>\n",
    "        <td><center>Lignes supprimées</center></td>\n",
    "      </tr>\n",
    "    <tr>\n",
    "        <td><center>10</center></td>\n",
    "        <td><center>df_products</center></td>\n",
    "        <td><center>product_weight_g</center></td>\n",
    "        <td><center>2</center></td>\n",
    "        <td><center>0.01</center></td>\n",
    "        <td><center>Lignes supprimées</center></td>\n",
    "      </tr>\n",
    "        <tr>\n",
    "        <td><center>11</center></td>\n",
    "        <td><center>df_products</center></td>\n",
    "        <td><center>product_length_cm</center></td>\n",
    "        <td><center>2</center></td>\n",
    "        <td><center>0.01</center></td>\n",
    "        <td><center>Lignes supprimées</center></td>\n",
    "      </tr>\n",
    "        <tr>\n",
    "        <td><center>12</center></td>\n",
    "        <td><center>df_products</center></td>\n",
    "        <td><center>product_height_cm</center></td>\n",
    "        <td><center>2</center></td>\n",
    "        <td><center>0.01</center></td>\n",
    "        <td><center>Lignes supprimées</center></td>\n",
    "      </tr>\n",
    "        <tr>\n",
    "        <td><center>13</center></td>\n",
    "        <td><center>df_products</center></td>\n",
    "        <td><center>product_width_cm</center></td>\n",
    "        <td><center>2</center></td>\n",
    "        <td><center>0.01</center></td>\n",
    "        <td><center>Lignes supprimées</center></td>\n",
    "      </tr>\n",
    "</table><br>"
   ]
  },
  {
   "cell_type": "markdown",
   "id": "53b09dcf-8fab-476d-ad80-759b68044a8e",
   "metadata": {},
   "source": [
    "Conclusion : lorsque que la proportion de quantité de manquants est très faible, les lignes concernées sont supprimées. Suite aux opérations effectuées (décrites dans la colonne \"commentaires\" ci-dessus), il n'y a maintenant plus de manquant."
   ]
  },
  {
   "cell_type": "markdown",
   "id": "34135e28-5795-4fbd-ab2a-337cb5e28401",
   "metadata": {
    "tags": []
   },
   "source": [
    "### <a href=\"Renard_Anthony_1_notebook_exploration_012023.ipynb#C332\"> 3.3.2 Les types<a>"
   ]
  },
  {
   "cell_type": "markdown",
   "id": "c77bd5f0-3d51-494f-a71a-4e7d5758a31e",
   "metadata": {},
   "source": [
    "<table>\n",
    "      <tr>\n",
    "        <th><center>N°</center></th>\n",
    "        <th><center>Nom</center></th>\n",
    "        <th><center>Type float64</center></th>\n",
    "        <th><center>Type int64</center></th>\n",
    "        <th><center>Type objet</center></th>\n",
    "        <th><center>Type datetime</center></th>\n",
    "      </tr>\n",
    "      <tr>\n",
    "        <td><center>1</center></td>\n",
    "        <td><center>df_customers</center></td>\n",
    "        <td><center>0</center></td>\n",
    "        <td><center>1 -> 0</center></td>\n",
    "        <td><center>4 -> 5</center></td>\n",
    "        <td><center>0</center></td>\n",
    "      </tr>\n",
    "       <tr>\n",
    "        <td><center>2</center></td>\n",
    "        <td><center>df_geolocation</center></td>\n",
    "        <td><center>2</center></td>\n",
    "        <td><center>1 -> 0</center></td>\n",
    "        <td><center>2 -> 3</center></td>\n",
    "        <td><center>0</center></td>\n",
    "      </tr>\n",
    "       <tr>\n",
    "        <td><center>3</center></td>\n",
    "        <td><center>df_order_items</center></td>\n",
    "        <td><center>2</center></td>\n",
    "        <td><center>1 -> 0</center></td>\n",
    "        <td><center>4</center></td>\n",
    "        <td><center>0 -> 1</center></td>\n",
    "      </tr>\n",
    "          <tr>\n",
    "        <td><center>4</center></td>\n",
    "        <td><center>df_order_reviews</center></td>\n",
    "        <td><center>0</center></td>\n",
    "        <td><center>1 -> 0</center></td>\n",
    "        <td><center>6 -> 5</center></td>\n",
    "        <td><center>0 -> 2</center></td>\n",
    "      </tr>\n",
    "      <tr>\n",
    "        <td><center>5</center></td>\n",
    "        <td><center>df_orders</center></td>\n",
    "        <td><center>0</center></td>\n",
    "        <td><center>0</center></td>\n",
    "        <td><center>8 -> 3</center></td>\n",
    "        <td><center>0 -> 5</center></td>\n",
    "      </tr>\n",
    "      <tr>\n",
    "        <td><center>6</center></td>\n",
    "        <td><center>df_sellers</center></td>\n",
    "        <td><center>0</center></td>\n",
    "        <td><center>1 -> 0</center></td>\n",
    "        <td><center>3 -> 4</center></td>\n",
    "        <td><center>0</center></td>\n",
    "      </tr>\n",
    "</table><br>"
   ]
  },
  {
   "cell_type": "markdown",
   "id": "7f2764d2-60a4-428b-bdf1-4f8860b262ed",
   "metadata": {},
   "source": [
    "Colonnes concernées sont :<br>\n",
    "1. customer_zip_code_prefix<br>\n",
    "2. geolocation_zip_code_prefix<br>\n",
    "3. order_item_id + shipping_limit_date<br>\n",
    "4. review_creation_date + review_answer_timestamp + review_score\n",
    "5. order_purchase_timestamp + order_approved_at + order_delivered_carrier_date + order_delivered_customer_date + order_estimated_delivery_date <br>\n",
    "6. seller_zip_code_prefix"
   ]
  },
  {
   "cell_type": "markdown",
   "id": "94c25c4c-6d65-4318-b698-bcbdbfde39a2",
   "metadata": {
    "tags": []
   },
   "source": [
    "### <a href=\"Renard_Anthony_1_notebook_exploration_012023.ipynb#C333\"> 3.3.3  Les doublons</a>"
   ]
  },
  {
   "cell_type": "markdown",
   "id": "c52b62b1-166f-4a3e-a0ae-228143f5d084",
   "metadata": {},
   "source": [
    "<table>\n",
    "      <tr>\n",
    "        <th><center>Nom</center></th>\n",
    "        <th><center>Nombre de lignes</center></th>\n",
    "        <th><center>Commentaire</center></th>\n",
    "      </tr>\n",
    "      <tr>\n",
    "        <td><center>df_customers</center></td>\n",
    "        <td><center>1 000 163 -> 19015 (-98%)</center></td>\n",
    "        <td><center>zip code prefix unique</center></td>\n",
    "      </tr>\n",
    "       <tr>\n",
    "        <td><center>df_order_review</center></td>\n",
    "        <td><center>99224 -> 98673 (-0,6%)</center></td>\n",
    "        <td><center>order_id unique : le plus récent concervé</center></td>\n",
    "      </tr>\n",
    "</table><br>"
   ]
  },
  {
   "cell_type": "markdown",
   "id": "ff15d931-7861-484a-a07a-398eaef5d2eb",
   "metadata": {},
   "source": [
    "Les répétitions des classes objets détectées dans les autres dataframes ne sembles pas incohérentes"
   ]
  },
  {
   "cell_type": "markdown",
   "id": "130e6ca8-5eb9-417f-989e-ebe8078f907e",
   "metadata": {
    "extensions": {
     "jupyter_dashboards": {
      "activeView": "grid_default",
      "views": {
       "grid_default": {
        "col": null,
        "height": 2,
        "hidden": true,
        "locked": true,
        "row": null,
        "width": 2
       }
      }
     }
    },
    "tags": []
   },
   "source": [
    "### <a href=\"Renard_Anthony_1_notebook_exploration_012023.ipynb#C334\">3.3.4 Outliers<a>   "
   ]
  },
  {
   "cell_type": "markdown",
   "id": "b7b1495b-193f-4103-9bd3-7b95533db603",
   "metadata": {
    "tags": []
   },
   "source": [
    "#### <a href=\"Renard_Anthony_1_notebook_exploration_012023.ipynb#C3341\">3.3.4.1 df_customers<a>   "
   ]
  },
  {
   "cell_type": "markdown",
   "id": "47b8a02c-dce2-4489-a425-ab262b85bc52",
   "metadata": {},
   "source": [
    "Nous avons ici que des variables \"object\". Les valeurs ressorties par \"describes\" semble cohérentes"
   ]
  },
  {
   "cell_type": "markdown",
   "id": "623807a7-c1da-4914-a582-e76db91a8465",
   "metadata": {
    "tags": []
   },
   "source": [
    "#### <a href=\"Renard_Anthony_1_notebook_exploration_012023.ipynb#C3342\">3.3.4.2 df_geolocation<a>  "
   ]
  },
  {
   "cell_type": "markdown",
   "id": "f634a446-f98e-4562-b105-e998b6f357c4",
   "metadata": {},
   "source": [
    "Les boxplots des variables numériques ne révèlent pas de défauts."
   ]
  },
  {
   "cell_type": "markdown",
   "id": "1d71b740-d409-420a-8b03-75702246483a",
   "metadata": {},
   "source": [
    "<center><img alt=\"outliers\" src=\"images/outliers/geolocation/lat.png\"/></center>\n",
    "<center><img alt=\"outliers\" src=\"images/outliers/geolocation/lg.png\"/></center>"
   ]
  },
  {
   "cell_type": "markdown",
   "id": "a9bb9e24-deda-41bf-b7fa-5166a5abc7f2",
   "metadata": {},
   "source": [
    "Les valeurs ressorties par \"describe()\" pour les types objets sembles cohérentes."
   ]
  },
  {
   "cell_type": "markdown",
   "id": "ebe27545-ae42-44ec-b691-d9257d27cc1f",
   "metadata": {
    "tags": []
   },
   "source": [
    "#### <a href=\"Renard_Anthony_1_notebook_exploration_012023.ipynb#C3343\">3.3.4.3 df_order_items<a>  "
   ]
  },
  {
   "cell_type": "markdown",
   "id": "00ad5aed-24d4-4528-bc03-14e69755aeef",
   "metadata": {},
   "source": [
    "Les boxplots des variables numériques ne révèlent pas de défauts."
   ]
  },
  {
   "cell_type": "markdown",
   "id": "670b4454-4cea-4a8e-908c-93332a63fee7",
   "metadata": {},
   "source": [
    "<center><img alt=\"outliers\" src=\"images/outliers/order_items/price.png\"/></center>\n",
    "<center><img alt=\"outliers\" src=\"images/outliers/order_items/freight.png\"/></center>"
   ]
  },
  {
   "cell_type": "markdown",
   "id": "1053c0d9-a8c1-45d4-8968-075840104797",
   "metadata": {},
   "source": [
    "Les valeurs ressorties par \"describe()\" pour les types objets et datetimes sembles cohérentes."
   ]
  },
  {
   "cell_type": "markdown",
   "id": "3e546642-d32a-44c8-83d8-7043c18c595e",
   "metadata": {
    "tags": []
   },
   "source": [
    "#### <a href=\"Renard_Anthony_1_notebook_exploration_012023.ipynb#C3344\">3.3.4.4 df_order_payments<a>  "
   ]
  },
  {
   "cell_type": "markdown",
   "id": "9f0746ea-7441-4adf-9ab8-6cf68119881a",
   "metadata": {},
   "source": [
    "Les boxplots des variables numériques ne révèlent pas de défauts."
   ]
  },
  {
   "cell_type": "markdown",
   "id": "227cba9e-2b26-48a6-a79f-87ce2c760aa2",
   "metadata": {},
   "source": [
    "<center><img alt=\"outliers\" src=\"images/outliers/order_payments/sequential_pay.png\"/></center>\n",
    "<center><img alt=\"outliers\" src=\"images/outliers/order_payments/pay_inst.png\"/></center>\n",
    "<center><img alt=\"outliers\" src=\"images/outliers/order_payments/pay_value.png\"/></center>"
   ]
  },
  {
   "cell_type": "markdown",
   "id": "ae9a9382-ed40-481d-b561-cb132869aab5",
   "metadata": {},
   "source": [
    "Les valeurs ressorties par \"describe()\" pour les types objets sembles cohérentes."
   ]
  },
  {
   "cell_type": "markdown",
   "id": "ef876722-10c0-404b-8cb1-e033e7a1d41b",
   "metadata": {
    "tags": []
   },
   "source": [
    "#### <a href=\"Renard_Anthony_1_notebook_exploration_012023.ipynb#C3345\">3.3.4.5 df_order_reviews<a>  "
   ]
  },
  {
   "cell_type": "markdown",
   "id": "412fbee2-d119-49a7-be96-7e849f46ec39",
   "metadata": {},
   "source": [
    "Le boxplot de la variables numérique ne révèle pas de défauts."
   ]
  },
  {
   "cell_type": "markdown",
   "id": "11b93f28-2eca-423b-9a8e-439de79044e6",
   "metadata": {},
   "source": [
    "<center><img alt=\"outliers\" src=\"images/outliers/order_reviews/review_score.png\"/></center>"
   ]
  },
  {
   "cell_type": "markdown",
   "id": "e34a86cc-c4c1-48b6-b0af-f8beda21758f",
   "metadata": {},
   "source": [
    "Les valeurs ressorties par \"describe()\" pour les types objets et datetimes sembles cohérentes."
   ]
  },
  {
   "cell_type": "markdown",
   "id": "f6cf67cf-329d-4aa4-8e7f-4c2f72db3255",
   "metadata": {
    "tags": []
   },
   "source": [
    "#### <a href=\"Renard_Anthony_1_notebook_exploration_012023.ipynb#C3346\">3.3.4.6 df_orders<a>  "
   ]
  },
  {
   "cell_type": "markdown",
   "id": "4da7236d-e71d-4844-9c48-a336211bbeb7",
   "metadata": {},
   "source": [
    "Les valeurs ressorties par \"describe()\" pour les types objets et datetimes sembles cohérentes."
   ]
  },
  {
   "cell_type": "markdown",
   "id": "941c2f34-65d6-4d73-ae24-3e60ef97c26f",
   "metadata": {
    "tags": []
   },
   "source": [
    "#### <a href=\"Renard_Anthony_1_notebook_exploration_012023.ipynb#C3347\">3.3.4.7 df_products<a>  "
   ]
  },
  {
   "cell_type": "markdown",
   "id": "12315501-41e5-4fb4-83ec-e2fb4e7f5b5d",
   "metadata": {},
   "source": [
    "Les boxplots des variables numériques ne révèlent pas de défauts."
   ]
  },
  {
   "cell_type": "markdown",
   "id": "8c4b867c-28f3-476e-a965-f1b6ceb08585",
   "metadata": {},
   "source": [
    "<center><img alt=\"outliers\" src=\"images/outliers/products/name_lenght.png\"/></center>\n",
    "<center><img alt=\"outliers\" src=\"images/outliers/products/descrip_lenght.png\"/></center>\n",
    "<center><img alt=\"outliers\" src=\"images/outliers/products/photos.png\"/></center>\n",
    "\n",
    "<center><img alt=\"outliers\" src=\"images/outliers/products/length.png\"/></center>\n",
    "<center><img alt=\"outliers\" src=\"images/outliers/products/width.png\"/></center>\n",
    "<center><img alt=\"outliers\" src=\"images/outliers/products/height.png\"/></center>"
   ]
  },
  {
   "cell_type": "markdown",
   "id": "57cc7324-d20c-43bb-91ce-a70ca1bc700e",
   "metadata": {},
   "source": [
    "<center><img alt=\"outliers\" src=\"images/outliers/products/weight.png\"/></center>"
   ]
  },
  {
   "cell_type": "markdown",
   "id": "6d9ff90f-1205-4d10-822f-8052d3a81d0d",
   "metadata": {},
   "source": [
    "Les valeurs ressorties par \"describe()\" pour les types objets sembles cohérentes."
   ]
  },
  {
   "cell_type": "markdown",
   "id": "65e185b8-ed53-434f-8e1a-6baf7460e319",
   "metadata": {},
   "source": [
    "#### <a href=\"Renard_Anthony_1_notebook_exploration_012023.ipynb#C3348\">3.3.4.8 df_sellers<a>  "
   ]
  },
  {
   "cell_type": "markdown",
   "id": "dc6813d5-2bea-41fe-a628-28583d8ffc9f",
   "metadata": {},
   "source": [
    "Les valeurs ressorties par \"describe()\" pour les types objets sembles cohérentes."
   ]
  },
  {
   "cell_type": "markdown",
   "id": "a4ae738d-05b0-49b4-9c3d-3292af36dce9",
   "metadata": {},
   "source": [
    "#### <a href=\"Renard_Anthony_1_notebook_exploration_012023.ipynb#C3349\">3.3.4.9 df_product_category_name_translations<a>  "
   ]
  },
  {
   "cell_type": "markdown",
   "id": "f84f7dbd-fcfd-4dc6-ad82-5b7528c70504",
   "metadata": {},
   "source": [
    "Les valeurs ressorties par \"describe()\" pour les types objets sembles cohérentes."
   ]
  },
  {
   "cell_type": "markdown",
   "id": "18906c5f-0ea9-4051-8004-5b311fa8b9d5",
   "metadata": {
    "tags": []
   },
   "source": [
    "### <a href=\"Renard_Anthony_1_notebook_exploration_012023.ipynb#C335\">3.3.5 Bilan du nettoyage<a> "
   ]
  },
  {
   "cell_type": "markdown",
   "id": "42a7c6a5-e037-4638-a56a-1967dcc55671",
   "metadata": {},
   "source": [
    "Nous avons en notre possession 9 dataframes. Voici leur configuration après leur <a href=\"Renard_Anthony_1_notebook_exploration_012023ipynb#C313\">chargement<a> : <br> \n",
    "\n",
    "\n",
    "<table>\n",
    "      <tr>\n",
    "        <th><center>N°</center></th>\n",
    "        <th><center>Nom</center></th>\n",
    "        <th><center>Nombre de lignes</center></th>\n",
    "        <th><center>Nombre de colonnes</center></th>\n",
    "        <th><center>Type float64</center></th>\n",
    "        <th><center>Type int64</center></th>\n",
    "        <th><center>Type objet</center></th>\n",
    "        <th><center>Type datetime</center></th>\n",
    "      </tr>\n",
    "      <tr>\n",
    "        <td><center>1</center></td>\n",
    "        <td><center>df_customers</center></td>\n",
    "        <td><center>99441</center></td>\n",
    "        <td><center>5</center></td>\n",
    "        <td><center>0</center></td>\n",
    "        <td><center>0</center></td>\n",
    "        <td><center>5</center></td>\n",
    "        <td><center>0</center></td>\n",
    "      </tr>\n",
    "       <tr>\n",
    "        <td><center>2</center></td>\n",
    "        <td><center>df_geolocation</center></td>\n",
    "        <td><center>19015</center></td>\n",
    "        <td><center>5</center></td>\n",
    "        <td><center>2</center></td>\n",
    "        <td><center>0</center></td>\n",
    "        <td><center>3</center></td>\n",
    "        <td><center>0</center></td>\n",
    "      </tr>\n",
    "       <tr>\n",
    "        <td><center>3</center></td>\n",
    "        <td><center>df_order_items</center></td>\n",
    "        <td><center>112650</center></td>\n",
    "        <td><center>7</center></td>\n",
    "        <td><center>2</center></td>\n",
    "        <td><center>0</center></td>\n",
    "        <td><center>4</center></td>\n",
    "        <td><center>1</center></td>\n",
    "      </tr>\n",
    "         <tr>\n",
    "        <td><center>4</center></td>\n",
    "        <td><center>df_order_payments</center></td>\n",
    "        <td><center>103886</center></td>\n",
    "        <td><center>5</center></td>\n",
    "        <td><center>1</center></td>\n",
    "        <td><center>2</center></td>\n",
    "        <td><center>2</center></td>\n",
    "        <td><center>0</center></td>\n",
    "      </tr>\n",
    "         <tr>\n",
    "        <td><center>5</center></td>\n",
    "        <td><center>df_order_reviews</center></td>\n",
    "        <td><center>98673</center></td>\n",
    "        <td><center>7</center></td>\n",
    "        <td><center>0</center></td>\n",
    "        <td><center>1</center></td>\n",
    "        <td><center>4</center></td>\n",
    "        <td><center>2</center></td>\n",
    "      </tr>\n",
    "      <tr>\n",
    "        <td><center>6</center></td>\n",
    "        <td><center>df_orders</center></td>\n",
    "        <td><center>96461</center></td>\n",
    "        <td><center>8</center></td>\n",
    "        <td><center>0</center></td>\n",
    "        <td><center>0</center></td>\n",
    "        <td><center>3</center></td>\n",
    "        <td><center>5</center></td>\n",
    "      </tr>\n",
    "      <tr>\n",
    "        <td><center>7</center></td>\n",
    "        <td><center>df_products</center></td>\n",
    "        <td><center>32340</center></td>\n",
    "        <td><center>9</center></td>\n",
    "        <td><center>7</center></td>\n",
    "        <td><center>0</center></td>\n",
    "        <td><center>2</center></td>\n",
    "        <td><center>0</center></td>\n",
    "      </tr>\n",
    "      <tr>\n",
    "        <td><center>8</center></td>\n",
    "        <td><center>df_sellers</center></td>\n",
    "        <td><center>3095</center></td>\n",
    "        <td><center>4</center></td>\n",
    "        <td><center>0</center></td>\n",
    "        <td><center>0</center></td>\n",
    "        <td><center>4</center></td>\n",
    "        <td><center>0</center></td>\n",
    "      </tr>\n",
    "      <tr>\n",
    "        <td><center>9</center></td>\n",
    "        <td><center>df_product_category_name_translation</center></td>\n",
    "        <td><center>71</center></td>\n",
    "        <td><center>2</center></td>\n",
    "        <td><center>0</center></td>\n",
    "        <td><center>0</center></td>\n",
    "        <td><center>2</center></td>\n",
    "        <td><center>0</center></td>\n",
    "      </tr>\n",
    "</table><br>\n"
   ]
  },
  {
   "cell_type": "markdown",
   "id": "28a00339-717e-4356-9a9a-5ded26b6a4ec",
   "metadata": {},
   "source": [
    "Nous avons maintenant 9 dataframes complets (ne comportant pas de vide) et nettoyés\n",
    "Les vérifications suivantes ont été réalisées :<br>\n",
    "-Manquants<br>\n",
    "-Types<br>\n",
    "-Doublons<br>\n",
    "-Outliers sur tous les types<br>\n",
    "\n",
    "Les dataframes sont maintenant prêtes à être rassemblées."
   ]
  },
  {
   "cell_type": "markdown",
   "id": "8ebbe9d0-d251-45d7-a03c-04198884a6d1",
   "metadata": {
    "tags": []
   },
   "source": [
    "# <a href=\"Renard_Anthony_1_notebook_exploration_012023.ipynb#C4\"> 4. Création de features <a>"
   ]
  },
  {
   "cell_type": "markdown",
   "id": "27231b1c-f5d8-4cf8-883e-ab5419497945",
   "metadata": {},
   "source": [
    "Grace aux différentes dataframes proposées, je vais créer plusieurs features qui vont nous permettre de mettre en valeurs certains aspects de notre clientèle : <br>\n",
    "1. Total_unit_price : permettant de connaitre la somme total par lignes de commandes.\n",
    "2. s1_duree_approbation : durée entre la validation d'achat client et la validation de l'achat par le site e-commerce\n",
    "3. s2_attente_prise_transport : durée entre la validation de l'achat par le site e-commerce et le transporteur\n",
    "4. s3_duree_transport : durée entre la prise en charge par le transporteur et l'arrivée du colis chez le client\n",
    "5. s123_duree_attente_client : durée entre la validation de l'achat par le client et l'arrivée du colis chez lui\n",
    "6. retard_livraison : durée entre la date promise de livraison et la date réelle de réception\n",
    "7. retard_livraison_class : illustre si oui ou non le colis est arrivée en retard chez le client"
   ]
  },
  {
   "cell_type": "markdown",
   "id": "930c5e0b-45b7-4c7d-b2e4-38ed03b6574d",
   "metadata": {
    "tags": []
   },
   "source": [
    "# <a href=\"Renard_Anthony_1_notebook_exploration_012023.ipynb#C5\">5. Rassemblement des dataframes/features <a>"
   ]
  },
  {
   "cell_type": "markdown",
   "id": "6b81df62-8d8f-4836-9a45-c8d08cbc7687",
   "metadata": {},
   "source": [
    "Rassemblement quelques dataframe ou parties de dataframe utiles pour mes analyses en y intégrant les nouvelles colonnes vues au dessus."
   ]
  },
  {
   "cell_type": "markdown",
   "id": "b8fd9af0-2d17-4ed4-af16-6c27a803d5ad",
   "metadata": {
    "tags": []
   },
   "source": [
    "# <a href=\"Renard_Anthony_1_notebook_exploration_012023.ipynb#C6\"> 6. Calcul RFM <a>"
   ]
  },
  {
   "cell_type": "markdown",
   "id": "d5216ee9-83f7-4661-bb85-6e36dcda8362",
   "metadata": {},
   "source": [
    "Dans ce chapitre, j'ai calculé : <br>\n",
    "La récence : quelle est la durée depuis le dernier achat du client <br>\n",
    "La fréquence : combien de fois le client a acheté sur le site e-commerce <br>\n",
    "Le Monétaire : combien le client a dépensé sur le site e-commerce <br>\n",
    "Ce calcul me permet de créer une première segmentation manuelle que l'on pourra confronter un peu plus tard à la segmentation des 3 classifieurs.\n",
    "\n",
    "<center><img alt=\"correlation\" src=\"images/rfm/pie_rfm.png\"></center>"
   ]
  },
  {
   "cell_type": "markdown",
   "id": "fbdb936a-18bd-4d47-b071-0673ef8a32a4",
   "metadata": {},
   "source": [
    "Les informations du score RFM sont maintenant incluses dans la dataframe finale."
   ]
  },
  {
   "cell_type": "markdown",
   "id": "657f6c77-2f70-494c-a5cb-108928cb4a86",
   "metadata": {
    "tags": []
   },
   "source": [
    "# <a href=\"Renard_Anthony_1_notebook_exploration_012023.ipynb#C7\"> 7. Analyses <a>"
   ]
  },
  {
   "cell_type": "markdown",
   "id": "0d13acde-bd70-47fc-a0d9-dd0681bb6b68",
   "metadata": {
    "tags": []
   },
   "source": [
    "## <a href=\"Renard_Anthony_1_notebook_exploration_012023.ipynb#C71\"> 7.1 Analyses multivariées <a>"
   ]
  },
  {
   "cell_type": "markdown",
   "id": "0b718cc9-2377-46a4-88a5-23f6cc9a4c14",
   "metadata": {
    "tags": []
   },
   "source": [
    "### <a href=\"Renard_Anthony_1_notebook_exploration_012023.ipynb#C711\"> 7.1.1 Variables numériques <a>"
   ]
  },
  {
   "cell_type": "markdown",
   "id": "e2dc2d8a-e1aa-42ca-8bd2-62e6c0818a2f",
   "metadata": {
    "tags": []
   },
   "source": [
    "#### <a href=\"Renard_Anthony_1_notebook_exploration_012023.ipynb#C7111\"> 7.1.1.1 Corrélation<a>"
   ]
  },
  {
   "cell_type": "markdown",
   "id": "e9bb394c-c029-48a1-a599-43807f131e88",
   "metadata": {},
   "source": [
    "<center><img alt=\"correlation\" src=\"images/multivariee/corr_com.png\"></center>"
   ]
  },
  {
   "cell_type": "markdown",
   "id": "237bb4ac-ffbd-4726-b119-b99eba5e6f12",
   "metadata": {},
   "source": [
    "On observe 3 sujets qui ressortent de cette corrélation :<br>\n",
    "Récence, Fréquence et Monétaire\n",
    "Evaluations clients\n",
    "Attente du client pour sa livraison et donc les possibles retards"
   ]
  },
  {
   "cell_type": "markdown",
   "id": "8ac50cd3-93fd-420d-9eda-3b6b9dcb51c5",
   "metadata": {},
   "source": []
  },
  {
   "cell_type": "markdown",
   "id": "a8ef5193-9f7e-443e-b4a9-a543ef356f9c",
   "metadata": {
    "tags": []
   },
   "source": [
    "#### <a href=\"Renard_Anthony_1_notebook_exploration_012023.ipynb#C7112\"> 7.1.1.2 PCA<a>"
   ]
  },
  {
   "cell_type": "markdown",
   "id": "257a5380-31eb-48e9-ada1-c67b49dfa5f7",
   "metadata": {},
   "source": [
    "<center><img alt=\"pca\" src=\"images/multivariee/pca1.png\"></center>\n",
    "<center><img alt=\"pca\" src=\"images/multivariee/pca2.png\"></center>\n",
    "<center><img alt=\"pca\" src=\"images/multivariee/pca3.png\"></center>\n",
    "<center><img alt=\"pca\" src=\"images/multivariee/pca4.png\"></center>"
   ]
  },
  {
   "cell_type": "markdown",
   "id": "3099af88-502d-49c0-9615-d90972251453",
   "metadata": {},
   "source": [
    "Conclusion : PCA ne va pas nous permettre de réduire significativement le nombre de colonnes : 8 axes d’inerties représentent 90% du jeu de données. Cependant on retrouve nos 3 sujets vus précédemment."
   ]
  },
  {
   "cell_type": "markdown",
   "id": "99c3dffa-b3ab-4cd2-a7f2-5aa80997aaf3",
   "metadata": {
    "tags": []
   },
   "source": [
    "#### <a href=\"Renard_Anthony_1_notebook_exploration_012023.ipynb#C7113\"> 7.1.1.3 df_customers<a>"
   ]
  },
  {
   "cell_type": "markdown",
   "id": "5a7c53fc-aa65-432b-af3c-977955821ed5",
   "metadata": {},
   "source": [
    "Pas de variables numériques dans ce dataframe"
   ]
  },
  {
   "cell_type": "markdown",
   "id": "96c8787d-9593-4879-8b74-90316368dc8f",
   "metadata": {
    "tags": []
   },
   "source": [
    "#### <a href=\"Renard_Anthony_1_notebook_exploration_012023.ipynb#C7114\"> 7.1.1.4 df_geolocation<a>"
   ]
  },
  {
   "cell_type": "markdown",
   "id": "e8355318-c803-42ab-b84f-3a82f211b2d2",
   "metadata": {},
   "source": [
    "<center><img alt=\"geo\" src=\"images/multivariee/geo_clients.png\"></center>"
   ]
  },
  {
   "cell_type": "markdown",
   "id": "943b0d4c-e608-43d2-bce9-b3e35b6b947b",
   "metadata": {},
   "source": [
    "La plupart des clients sont en Amérique du sud."
   ]
  },
  {
   "cell_type": "markdown",
   "id": "f01d27ba-10a1-448b-afea-03a1afdffe16",
   "metadata": {
    "tags": []
   },
   "source": [
    "#### <a href=\"Renard_Anthony_1_notebook_exploration_012023.ipynb#C7115\"> 7.1.1.5 df_order_items<a>"
   ]
  },
  {
   "cell_type": "markdown",
   "id": "ea481163-f115-4223-b83f-ee8d90c7927f",
   "metadata": {},
   "source": [
    "<center><img alt=\"priceT\" src=\"images/multivariee/total_prix_commandes.png\"></center>"
   ]
  },
  {
   "cell_type": "markdown",
   "id": "cc4c13f4-b94d-49ff-955e-8c64f7350679",
   "metadata": {},
   "source": [
    "<table>\n",
    "      <tr>\n",
    "        <th><center>Nom</center></th>\n",
    "        <th><center>Valeur</center></th>\n",
    "      </tr>\n",
    "      <tr>\n",
    "        <td><center>Min</center></td>\n",
    "        <td><center>9.59</center></td>\n",
    "      </tr>\n",
    "      <tr>\n",
    "        <td><center>Max</center></td>\n",
    "        <td><center>13664.08</center></td>\n",
    "      </tr>\n",
    "      <tr>\n",
    "        <td><center>Moyenne</center></td>\n",
    "        <td><center>160.56</center></td>\n",
    "      </tr>\n",
    "        <tr>\n",
    "        <td><center>Mediane</center></td>\n",
    "        <td><center>105.29</center></td>\n",
    "        </tr>\n",
    "       <tr>\n",
    "        <td><center>Mode</center></td>\n",
    "        <td><center>77.57</center></td>\n",
    "       </tr>\n",
    "          <tr>\n",
    "        <td><center>Ecart-type</center></td>\n",
    "        <td><center>220.46</center></td>\n",
    "      </tr>\n",
    "        <tr>\n",
    "        <td><center>Var</center></td>\n",
    "        <td><center>48604.80</center></td>\n",
    "        </tr>\n",
    "       <tr>\n",
    "        <td><center>CV</center></td>\n",
    "        <td><center>1.37</center></td>\n",
    "       </tr>\n",
    "       <tr>\n",
    "        <td><center>Q1</center></td>\n",
    "        <td><center>61.98</center></td>\n",
    "       </tr>\n",
    "        <tr>\n",
    "        <td><center>Q2</center></td>\n",
    "        <td><center>105.29</center></td>\n",
    "       </tr>\n",
    "        <tr>\n",
    "        <td><center>Q3</center></td>\n",
    "        <td><center>176.87</center></td>\n",
    "       </tr>\n",
    "</table>"
   ]
  },
  {
   "cell_type": "markdown",
   "id": "ed1dc108-3c5c-4295-89c1-b1fda6328826",
   "metadata": {},
   "source": [
    "<b>Tendances centrales</b><br>\n",
    "Le mode est de 77.57. Ce qui signifie que c'est la valeur la plus fréquente qui apparait dans le jeu de données. Cela étant dit la moyenne globale est de 160.56 avec une médiane à 105.29. Cette dernière valeur signifie que j’ai autant de valeurs égales ou inférieures à 105.29.<br>\n",
    "<b>Dispersions</b> <br>\n",
    "Concernant les mesures de dispersions, la variance empirique est de 48604.80. Cette valeur nous montre que les mesures sont assez dispersées autour de la valeur moyenne. Cette dispersion est aussi illustrée par l'écart-type 220.46 (qui est tout simplement la racine carrée de la variance empirique). Le coefficient de variation = 1.37 (écart-type empirique/moyenne).<br>\n",
    "Le 1er Quartile = 61.98 : 25% des valeurs sont en dessous de cette valeur et 75% sont au-dessus<br>\n",
    "Le 2eme Quartile = 105.29 = valeur médiane vu au-dessus : 50% des valeurs sont en dessous de cette valeur et 50% au-dessus<br>\n",
    "Le 3eme Quartile = 176.87 = 75% des valeurs sont en dessous de cette valeur et 25% au-dessus<br>\n",
    "L'écart interquartile =  176.87 - 61.98 = 114.89<br>\n",
    "50% des valeurs se situent entre 61.98 et 176.87<br>\n",
    "La valeur minimale est 9.59 et la valeur maximale est 13664.08"
   ]
  },
  {
   "cell_type": "markdown",
   "id": "f474297b-c8a9-41e6-8f90-2ff6ca5a3744",
   "metadata": {},
   "source": [
    "Nombre de produits par commande :"
   ]
  },
  {
   "cell_type": "markdown",
   "id": "a31703bc-81f1-45e2-a622-31bdf328ed19",
   "metadata": {},
   "source": [
    "<center><img alt=\"produit\" src=\"images/multivariee/nb_pd_par_cde.png\"></center>"
   ]
  },
  {
   "cell_type": "markdown",
   "id": "9d39c0d4-a521-4da5-b79b-973f6c0eac6e",
   "metadata": {
    "tags": []
   },
   "source": [
    "#### <a href=\"Renard_Anthony_1_notebook_exploration_012023.ipynb#C7116\"> 7.1.1.6 df_products<a>"
   ]
  },
  {
   "cell_type": "markdown",
   "id": "a6f3331e-888b-4b6d-b01d-531ce703858c",
   "metadata": {},
   "source": [
    "<center><img alt=\"produits\" src=\"images/multivariee/lhpp.png\"></center>"
   ]
  },
  {
   "cell_type": "markdown",
   "id": "d9da30b5-4207-49e6-b694-7f35ce8df1f1",
   "metadata": {},
   "source": [
    "Rien d'étonnant, on remarque que plus un produit a une faible dimension, moins il est lourd."
   ]
  },
  {
   "cell_type": "markdown",
   "id": "6d911885-d8c5-491e-8ebe-673ebb0de02e",
   "metadata": {
    "tags": []
   },
   "source": [
    "### <a href=\"Renard_Anthony_1_notebook_exploration_012023.ipynb#C712\"> 7.1.2 Variables catégorielles <a>"
   ]
  },
  {
   "cell_type": "markdown",
   "id": "61d30245-96fe-46aa-869a-88f3378dff91",
   "metadata": {
    "tags": []
   },
   "source": [
    "#### <a href=\"Renard_Anthony_1_notebook_exploration_012023.ipynb#C7121\"> 7.1.2.1 df_geolocation <a>"
   ]
  },
  {
   "cell_type": "markdown",
   "id": "058501ca-146f-42de-a627-1acf1fe4a881",
   "metadata": {},
   "source": [
    "Pas d'information utile à étudier sur les \"objets\" sur ce dataframe isolé"
   ]
  },
  {
   "cell_type": "markdown",
   "id": "041d9b4d-1ab8-45a1-82d0-f229c15e1bc2",
   "metadata": {
    "tags": []
   },
   "source": [
    "#### <a href=\"Renard_Anthony_1_notebook_exploration_012023.ipynb#C7122\"> 7.1.2.2 df_order_items <a>"
   ]
  },
  {
   "cell_type": "markdown",
   "id": "e0aa5b6d-4478-49d8-8141-a9df6fa8a063",
   "metadata": {},
   "source": [
    "Certains vendeurs génèrent plus de mouvement d'argent que les autres mais aucun ne sort vraiment du lot."
   ]
  },
  {
   "cell_type": "markdown",
   "id": "4ce9065a-a6af-4061-8ba4-096b6e565e9c",
   "metadata": {},
   "source": [
    "<center><img alt=\"vendeurs\" src=\"images/multivariee/seller_sold.png\"></center>"
   ]
  },
  {
   "cell_type": "markdown",
   "id": "5c2fdce0-1aa9-47fe-8a97-9ffb04d35924",
   "metadata": {
    "tags": []
   },
   "source": [
    "#### <a href=\"Renard_Anthony_1_notebook_exploration_012023.ipynb#C7123\"> 7.1.2.3 df_order_payments <a>"
   ]
  },
  {
   "cell_type": "markdown",
   "id": "01e076df-ebce-4d39-8270-00913ff8f208",
   "metadata": {},
   "source": [
    "Le mouvement d'argent est surtout généré par des paiement en cadre bancaire :"
   ]
  },
  {
   "cell_type": "markdown",
   "id": "2cee13a0-9e8e-4b79-9fe7-5e699332830e",
   "metadata": {},
   "source": [
    "<center><img alt=\"type\" src=\"images/multivariee/typep.png\"></center>"
   ]
  },
  {
   "cell_type": "markdown",
   "id": "c254c363-0028-4427-99a4-228004363f05",
   "metadata": {
    "tags": []
   },
   "source": [
    "### <a href=\"Renard_Anthony_1_notebook_exploration_012023.ipynb#C7124\"> 7.1.3 Variables numériques vs catégorielles <a>"
   ]
  },
  {
   "cell_type": "markdown",
   "id": "556ef5dc-21b9-41ec-a746-3a95656dd2c9",
   "metadata": {
    "tags": []
   },
   "source": [
    "#### <a href=\"Renard_Anthony_1_notebook_exploration_012023.ipynb#C7124\"> 7.1.3.1 Distance vendeurs/clients et score <a>"
   ]
  },
  {
   "cell_type": "markdown",
   "id": "9728084c-401a-4c39-ad52-460ac6d3976b",
   "metadata": {},
   "source": [
    "<center><img alt=\"retard\" src=\"images/multivariee/distance_score.png\"></center>"
   ]
  },
  {
   "cell_type": "markdown",
   "id": "c7ec0fb7-008d-42be-9de6-a487af2ab8a7",
   "metadata": {},
   "source": [
    "Pas de déduction à faire sur cet aspect"
   ]
  },
  {
   "cell_type": "markdown",
   "id": "024813f6-e79a-402b-acb7-98ec394880a8",
   "metadata": {
    "jp-MarkdownHeadingCollapsed": true,
    "tags": []
   },
   "source": [
    "#### <a href=\"Renard_Anthony_1_notebook_exploration_012023.ipynb#C7132\"> 7.1.3.2 Distance vendeurs/clients et score <a>"
   ]
  },
  {
   "cell_type": "markdown",
   "id": "7db93153-f7b7-406a-b81b-61bfc150eeab",
   "metadata": {},
   "source": [
    "<center><img alt=\"retard\" src=\"images/multivariee/retard_score.png\"></center>"
   ]
  },
  {
   "cell_type": "markdown",
   "id": "6ce97e36-f1eb-40ed-a1ea-ae2e8f235229",
   "metadata": {},
   "source": [
    "On remarque que la plupart des notes situées entre 4 et 5 n'ont pas eu de retard de livraison. Cependant, ces variables ne sont pas si corrélées que ça car le rapport ANNOVA est de 0.13."
   ]
  },
  {
   "cell_type": "markdown",
   "id": "e2fa49a8-4671-4c7c-9aba-33ff41a8c0ff",
   "metadata": {
    "tags": []
   },
   "source": [
    "#### <a href=\"Renard_Anthony_1_notebook_exploration_012023.ipynb#C7133\"> 7.1.3.3 RFM et score <a>"
   ]
  },
  {
   "cell_type": "markdown",
   "id": "22107965-eb50-41af-a66d-af142e0d9adc",
   "metadata": {},
   "source": [
    "<center><img alt=\"retard\" src=\"images/multivariee/rfm_score.png\"></center>"
   ]
  },
  {
   "cell_type": "markdown",
   "id": "86bdce51-1c70-4bb4-9b23-0f3983f981d0",
   "metadata": {},
   "source": [
    "Pas de corrélations remarquables entre le \"review score\" et la classification RFM que j'ai crée manuellement."
   ]
  },
  {
   "cell_type": "markdown",
   "id": "78fe6ca0-1643-4938-a7d7-51d825da1aa8",
   "metadata": {
    "tags": []
   },
   "source": [
    "## <a href=\"Renard_Anthony_1_notebook_exploration_012023.ipynb#C42\"> 7.2 Analyses univariées <a>"
   ]
  },
  {
   "cell_type": "markdown",
   "id": "af795ad2-0865-45bf-a0ea-8c66d979d434",
   "metadata": {
    "tags": []
   },
   "source": [
    "### <a href=\"Renard_Anthony_1_notebook_exploration_012023.ipynb#C721\"> 7.2.1 Variables numériques <a>"
   ]
  },
  {
   "cell_type": "markdown",
   "id": "c319e2db-ba06-4efa-8254-764accb661ae",
   "metadata": {},
   "source": [
    "#### <a href=\"Renard_Anthony_1_notebook_exploration_012023.ipynb#C7211\"> 7.2.1.1 df_customers <a>"
   ]
  },
  {
   "cell_type": "markdown",
   "id": "c5678d5e-c102-4775-b00a-a9cab1c44123",
   "metadata": {},
   "source": [
    "Pas de variables numériques."
   ]
  },
  {
   "cell_type": "markdown",
   "id": "d8d866f9-cb90-4323-9a16-2b6712218b83",
   "metadata": {},
   "source": [
    "#### <a href=\"Renard_Anthony_1_notebook_exploration_012023.ipynb#C7212\"> 7.2.1.2 df_geolocation <a>"
   ]
  },
  {
   "cell_type": "markdown",
   "id": "e8b4eb90-3b1c-4c91-9dc5-b278b67fa570",
   "metadata": {},
   "source": [
    "Pas de variables numériques unitaires pertinentes à analyser en analyse univariée."
   ]
  },
  {
   "cell_type": "markdown",
   "id": "0c9bbb0c-8880-4292-8656-159f80245ad8",
   "metadata": {
    "tags": []
   },
   "source": [
    "#### <a href=\"Renard_Anthony_1_notebook_exploration_012023.ipynb#C7213\"> 7.2.1.3 df_orders <a>"
   ]
  },
  {
   "cell_type": "markdown",
   "id": "bf1e9fd2-54c4-44b4-a270-5041b44d37c1",
   "metadata": {
    "tags": []
   },
   "source": [
    "##### <a href=\"Renard_Anthony_1_notebook_exploration_012023.ipynb#C72131\"> 7.2.1.3.1 price <a>"
   ]
  },
  {
   "cell_type": "markdown",
   "id": "d6a33d9e-1830-49f8-a98d-785fd88d4729",
   "metadata": {},
   "source": [
    "<center><img alt=\"univariee\" src=\"images/univariee/price.png\"/></center>"
   ]
  },
  {
   "cell_type": "markdown",
   "id": "7d739f4f-57ac-4fc5-8b2c-acb06c56abb3",
   "metadata": {},
   "source": [
    "<table>\n",
    "      <tr>\n",
    "        <th><center>Nom</center></th>\n",
    "        <th><center>Valeur</center></th>\n",
    "      </tr>\n",
    "      <tr>\n",
    "        <td><center>Min</center></td>\n",
    "        <td><center>0.85</center></td>\n",
    "      </tr>\n",
    "      <tr>\n",
    "        <td><center>Max</center></td>\n",
    "        <td><center>6735</center></td>\n",
    "      </tr>\n",
    "      <tr>\n",
    "        <td><center>Moyenne</center></td>\n",
    "        <td><center>120.65</center></td>\n",
    "      </tr>\n",
    "        <tr>\n",
    "        <td><center>Mediane</center></td>\n",
    "        <td><center>74.99</center></td>\n",
    "        </tr>\n",
    "       <tr>\n",
    "        <td><center>Mode</center></td>\n",
    "        <td><center>59.9</center></td>\n",
    "       </tr>\n",
    "          <tr>\n",
    "        <td><center>Ecart-type</center></td>\n",
    "        <td><center>183.63</center></td>\n",
    "      </tr>\n",
    "        <tr>\n",
    "        <td><center>Var</center></td>\n",
    "        <td><center>33721.12</center></td>\n",
    "        </tr>\n",
    "       <tr>\n",
    "        <td><center>CV</center></td>\n",
    "        <td><center>1.52</center></td>\n",
    "       </tr>\n",
    "       <tr>\n",
    "        <td><center>Q1</center></td>\n",
    "        <td><center>39.90</center></td>\n",
    "       </tr>\n",
    "        <tr>\n",
    "        <td><center>Q2</center></td>\n",
    "        <td><center>74.99</center></td>\n",
    "       </tr>\n",
    "        <tr>\n",
    "        <td><center>Q3</center></td>\n",
    "        <td><center>134.90</center></td>\n",
    "       </tr>\n",
    "</table>"
   ]
  },
  {
   "cell_type": "markdown",
   "id": "e89668d5-b3e5-4ea5-9c85-4d01f98946a0",
   "metadata": {},
   "source": [
    "<b>Tendances centrales</b><br>\n",
    "Le mode est de 59.9. Ce qui signifie que c'est la valeur la plus fréquente qui apparait dans le jeu de données. Cela étant dit la moyenne globale est de 120.65 avec une médiane à 74.99. Cette dernière valeur signifie que j’ai autant de valeurs supérieures ou inférieures à 74.99.<br>\n",
    "<b>Dispersions</b> <br>\n",
    "Concernant les mesures de dispersions, la variance empirique est de 33721.12. Cette valeur nous montre que les mesures sont assez dispersées autour de la valeur moyenne. Cette dispersion est aussi illustrée par l'écart-type 183.63 (qui est tout simplement la racine carrée de la variance empirique). Le coefficient de variation = 1.52 (écart-type empirique/moyenne).<br>\n",
    "Le 1er Quartile = 39.90 : 25% des valeurs sont en dessous de cette valeur et 75% sont au-dessus<br>\n",
    "Le 2eme Quartile = 74.99 = valeur médiane vu au-dessus : 50% des valeurs sont en dessous de cette valeur et 50% au-dessus<br>\n",
    "Le 3eme Quartile = 134.90 = 75% des valeurs sont en dessous de cette valeur et 25% au-dessus<br>\n",
    "L'écart interquartile = 134.90 - 39.90 = 95<br>\n",
    "50% des valeurs se situent entre 39.90 et 134.90<br>\n",
    "La valeur minimale est 0.85 et la valeur maximale est 6735"
   ]
  },
  {
   "cell_type": "markdown",
   "id": "02487c62-12b1-4f49-a56d-284ab021aa82",
   "metadata": {
    "tags": []
   },
   "source": [
    "##### <a href=\"Renard_Anthony_1_notebook_exploration_012023.ipynb#C72132\"> 7.2.1.3.2 freight_value <a>"
   ]
  },
  {
   "cell_type": "markdown",
   "id": "d514e58b-a84d-4994-bc39-4e6607063895",
   "metadata": {},
   "source": [
    "<center><img alt=\"univariee\" src=\"images/univariee/freight_value.png\"/></center>"
   ]
  },
  {
   "cell_type": "markdown",
   "id": "cf9f18c9-0a39-406c-82f3-68a580c6cdea",
   "metadata": {},
   "source": [
    "<table>\n",
    "      <tr>\n",
    "        <th><center>Nom</center></th>\n",
    "        <th><center>Valeur</center></th>\n",
    "      </tr>\n",
    "      <tr>\n",
    "        <td><center>Min</center></td>\n",
    "        <td><center>0</center></td>\n",
    "      </tr>\n",
    "      <tr>\n",
    "        <td><center>Max</center></td>\n",
    "        <td><center>409.68</center></td>\n",
    "      </tr>\n",
    "      <tr>\n",
    "        <td><center>Moyenne</center></td>\n",
    "        <td><center>19.99</center></td>\n",
    "      </tr>\n",
    "        <tr>\n",
    "        <td><center>Mediane</center></td>\n",
    "        <td><center>16.26</center></td>\n",
    "        </tr>\n",
    "       <tr>\n",
    "        <td><center>Mode</center></td>\n",
    "        <td><center>15.1</center></td>\n",
    "       </tr>\n",
    "          <tr>\n",
    "        <td><center>Ecart-type</center></td>\n",
    "        <td><center>15.81</center></td>\n",
    "      </tr>\n",
    "        <tr>\n",
    "        <td><center>Var</center></td>\n",
    "        <td><center>249.84</center></td>\n",
    "        </tr>\n",
    "       <tr>\n",
    "        <td><center>CV</center></td>\n",
    "        <td><center>0.79</center></td>\n",
    "       </tr>\n",
    "       <tr>\n",
    "        <td><center>Q1</center></td>\n",
    "        <td><center>13.08</center></td>\n",
    "       </tr>\n",
    "        <tr>\n",
    "        <td><center>Q2</center></td>\n",
    "        <td><center>16.26</center></td>\n",
    "       </tr>\n",
    "        <tr>\n",
    "        <td><center>Q3</center></td>\n",
    "        <td><center>21.15</center></td>\n",
    "       </tr>\n",
    "</table>"
   ]
  },
  {
   "cell_type": "markdown",
   "id": "5aa59941-7eed-4b7d-a320-80de2e6ed443",
   "metadata": {},
   "source": [
    "<b>Tendances centrales</b><br>\n",
    "Le mode est de 15.1. Ce qui signifie que c'est la valeur la plus fréquente qui apparait dans le jeu de données. Cela étant dit la moyenne globale est de 19.99 avec une médiane à 16.26. Cette dernière valeur signifie que j’ai autant de valeurs supérieures ou inférieures à 16.26.<br>\n",
    "<b>Dispersions</b> <br>\n",
    "Concernant les mesures de dispersions, la variance empirique est de 249.84. Cette valeur nous montre que les mesures sont assez dispersées autour de la valeur moyenne. Cette dispersion est aussi illustrée par l'écart-type 15.81 (qui est tout simplement la racine carrée de la variance empirique). Le coefficient de variation = 0.79 (écart-type empirique/moyenne).<br>\n",
    "Le 1er Quartile = 13.08 : 25% des valeurs sont en dessous de cette valeur et 75% sont au-dessus<br>\n",
    "Le 2eme Quartile = 16.26 = valeur médiane vu au-dessus : 50% des valeurs sont en dessous de cette valeur et 50% au-dessus<br>\n",
    "Le 3eme Quartile = 21.15 = 75% des valeurs sont en dessous de cette valeur et 25% au-dessus<br>\n",
    "L'écart interquartile = 21.15-13.08 = 8.07<br>\n",
    "50% des valeurs se situent entre 13.08 et 21.15.<br>\n",
    "La valeur minimale est 0 et la valeur maximale est 409.68"
   ]
  },
  {
   "cell_type": "markdown",
   "id": "fd9145c9-f580-4ac9-8bcc-bd26bbccb303",
   "metadata": {
    "tags": []
   },
   "source": [
    "##### <a href=\"Renard_Anthony_1_notebook_exploration_012023.ipynb#C72133\"> 7.2.1.3.3 total_unit_price <a>"
   ]
  },
  {
   "cell_type": "markdown",
   "id": "3012c387-7343-4d19-a363-b10587d87472",
   "metadata": {},
   "source": [
    "<center><img alt=\"univariee\" src=\"images/univariee/total_unit_price.png\"/></center>"
   ]
  },
  {
   "cell_type": "markdown",
   "id": "c1514222-6c25-4a67-a0b9-432274f70d19",
   "metadata": {},
   "source": [
    "<table>\n",
    "      <tr>\n",
    "        <th><center>Nom</center></th>\n",
    "        <th><center>Valeur</center></th>\n",
    "      </tr>\n",
    "      <tr>\n",
    "        <td><center>Min</center></td>\n",
    "        <td><center>6.08</center></td>\n",
    "      </tr>\n",
    "      <tr>\n",
    "        <td><center>Max</center></td>\n",
    "        <td><center>6929.31</center></td>\n",
    "      </tr>\n",
    "      <tr>\n",
    "        <td><center>Moyenne</center></td>\n",
    "        <td><center>140.64</center></td>\n",
    "      </tr>\n",
    "        <tr>\n",
    "        <td><center>Mediane</center></td>\n",
    "        <td><center>92.32</center></td>\n",
    "        </tr>\n",
    "       <tr>\n",
    "        <td><center>Mode</center></td>\n",
    "        <td><center>77.57</center></td>\n",
    "       </tr>\n",
    "          <tr>\n",
    "        <td><center>Ecart-type</center></td>\n",
    "        <td><center>190.72</center></td>\n",
    "      </tr>\n",
    "        <tr>\n",
    "        <td><center>Var</center></td>\n",
    "        <td><center>36375.47</center></td>\n",
    "        </tr>\n",
    "       <tr>\n",
    "        <td><center>CV</center></td>\n",
    "        <td><center>1.36</center></td>\n",
    "       </tr>\n",
    "       <tr>\n",
    "        <td><center>Q1</center></td>\n",
    "        <td><center>55.22</center></td>\n",
    "       </tr>\n",
    "        <tr>\n",
    "        <td><center>Q2</center></td>\n",
    "        <td><center>92.32</center></td>\n",
    "       </tr>\n",
    "        <tr>\n",
    "        <td><center>Q3</center></td>\n",
    "        <td><center>157.94</center></td>\n",
    "       </tr>\n",
    "</table>"
   ]
  },
  {
   "cell_type": "markdown",
   "id": "fd260941-f0db-42bf-a086-a990ef142994",
   "metadata": {},
   "source": [
    "<b>Tendances centrales</b><br>\n",
    "Le mode est de 77.57. Ce qui signifie que c'est la valeur la plus fréquente qui apparait dans le jeu de données. Cela étant dit la moyenne globale est de 140.64 avec une médiane à 92.32. Cette dernière valeur signifie que j’ai autant de valeurs supérieures ou inférieures à 92.32.<br>\n",
    "<b>Dispersions</b> <br>\n",
    "Concernant les mesures de dispersions, la variance empirique est de 36375.47. Cette valeur nous montre que les mesures sont assez dispersées autour de la valeur moyenne. Cette dispersion est aussi illustrée par l'écart-type 190.72 (qui est tout simplement la racine carrée de la variance empirique). Le coefficient de variation = 1.36 (écart-type empirique/moyenne).<br>\n",
    "Le 1er Quartile = 55.22 : 25% des valeurs sont en dessous de cette valeur et 75% sont au-dessus<br>\n",
    "Le 2eme Quartile = 92.32 = valeur médiane vu au-dessus : 50% des valeurs sont en dessous de cette valeur et 50% au-dessus<br>\n",
    "Le 3eme Quartile = 157.94 = 75% des valeurs sont en dessous de cette valeur et 25% au-dessus<br>\n",
    "L'écart interquartile =  157.94 - 55.22 = 102.72<br>\n",
    "50% des valeurs se situent entre 55.22 et 157.94<br>\n",
    "La valeur minimale est 6.08 et la valeur maximale est 6929.31"
   ]
  },
  {
   "cell_type": "markdown",
   "id": "8376ba3e-5bd3-4fdf-b81d-7936f031bd5c",
   "metadata": {
    "tags": []
   },
   "source": [
    "#### <a href=\"Renard_Anthony_1_notebook_exploration_012023.ipynb#C7214\"> 7.2.1.4 df_order_payments <a>"
   ]
  },
  {
   "cell_type": "markdown",
   "id": "6806d4ce-6e60-42cd-8bd5-9a3cb9be1ae4",
   "metadata": {},
   "source": [
    "##### <a href=\"Renard_Anthony_1_notebook_exploration_012023.ipynb#C72141\"> 7.2.1.4.1 payment_sequential <a>"
   ]
  },
  {
   "cell_type": "markdown",
   "id": "de521d89-e74d-475e-8505-b412287f6459",
   "metadata": {},
   "source": [
    "<center><img alt=\"univariee\" src=\"images/univariee/payment_sequential.png\"/></center>"
   ]
  },
  {
   "cell_type": "markdown",
   "id": "964de902-586c-42c2-9d5e-2a90902fdc08",
   "metadata": {},
   "source": [
    "<table>\n",
    "      <tr>\n",
    "        <th><center>Nom</center></th>\n",
    "        <th><center>Valeur</center></th>\n",
    "      </tr>\n",
    "      <tr>\n",
    "        <td><center>Min</center></td>\n",
    "        <td><center>1</center></td>\n",
    "      </tr>\n",
    "      <tr>\n",
    "        <td><center>Max</center></td>\n",
    "        <td><center>29</center></td>\n",
    "      </tr>\n",
    "      <tr>\n",
    "        <td><center>Moyenne</center></td>\n",
    "        <td><center>1.09</center></td>\n",
    "      </tr>\n",
    "        <tr>\n",
    "        <td><center>Mediane</center></td>\n",
    "        <td><center>1</center></td>\n",
    "        </tr>\n",
    "       <tr>\n",
    "        <td><center>Mode</center></td>\n",
    "        <td><center>1</center></td>\n",
    "       </tr>\n",
    "          <tr>\n",
    "        <td><center>Ecart-type</center></td>\n",
    "        <td><center>0.71</center></td>\n",
    "      </tr>\n",
    "        <tr>\n",
    "        <td><center>Var</center></td>\n",
    "        <td><center>0.50</center></td>\n",
    "        </tr>\n",
    "       <tr>\n",
    "        <td><center>CV</center></td>\n",
    "        <td><center>0.65</center></td>\n",
    "       </tr>\n",
    "       <tr>\n",
    "        <td><center>Q1</center></td>\n",
    "        <td><center>1</center></td>\n",
    "       </tr>\n",
    "        <tr>\n",
    "        <td><center>Q2</center></td>\n",
    "        <td><center>1</center></td>\n",
    "       </tr>\n",
    "        <tr>\n",
    "        <td><center>Q3</center></td>\n",
    "        <td><center>1</center></td>\n",
    "       </tr>\n",
    "</table>"
   ]
  },
  {
   "cell_type": "markdown",
   "id": "34d94abb-dbb2-4fe8-ba97-acab1b0b393e",
   "metadata": {},
   "source": [
    "<b>Tendances centrales</b><br>\n",
    "Le mode est de 1. Ce qui signifie que c'est la valeur la plus fréquente qui apparait dans le jeu de données. Cela étant dit la moyenne globale est de 1.09 avec une médiane à 1. Cette dernière valeur signifie que j’ai autant de valeurs supérieures ou inférieures à 1.<br>\n",
    "<b>Dispersions</b> <br>\n",
    "Concernant les mesures de dispersions, la variance empirique est de 0.5. Cette valeur nous montre que les mesures sont très peu dispersées autour de la valeur moyenne. Cette dispersion est aussi illustrée par l'écart-type 0.71 (qui est tout simplement la racine carrée de la variance empirique). Le coefficient de variation = 0.65 (écart-type empirique/moyenne).<br>\n",
    "Le 1er Quartile = 1 : 25% des valeurs sont en dessous de cette valeur et 75% sont au-dessus<br>\n",
    "Le 2eme Quartile = 1 = valeur médiane vu au-dessus : 50% des valeurs sont en dessous de cette valeur et 50% au-dessus<br>\n",
    "Le 3eme Quartile = 1 = 75% des valeurs sont en dessous de cette valeur et 25% au-dessus<br>\n",
    "L'écart interquartile =  1 - 1 = 0<br>\n",
    "Au moins 50% des valeurs sont égales à 1<br>\n",
    "La valeur minimale est 1 et la valeur maximale est 29"
   ]
  },
  {
   "cell_type": "markdown",
   "id": "11fc4334-4724-4d99-9469-cce52fb3c3e7",
   "metadata": {},
   "source": [
    "##### <a href=\"Renard_Anthony_1_notebook_exploration_012023.ipynb#C72142\"> 7.2.1.4.2 payment_installments <a>"
   ]
  },
  {
   "cell_type": "markdown",
   "id": "66b65842-34a8-4481-a50b-421545cdb8ae",
   "metadata": {},
   "source": [
    "<center><img alt=\"univariee\" src=\"images/univariee/payment_installments.png\"/></center>"
   ]
  },
  {
   "cell_type": "markdown",
   "id": "60566a70-c366-4cca-9e9b-645a4750d091",
   "metadata": {},
   "source": [
    "<table>\n",
    "      <tr>\n",
    "        <th><center>Nom</center></th>\n",
    "        <th><center>Valeur</center></th>\n",
    "      </tr>\n",
    "      <tr>\n",
    "        <td><center>Min</center></td>\n",
    "        <td><center>0</center></td>\n",
    "      </tr>\n",
    "      <tr>\n",
    "        <td><center>Max</center></td>\n",
    "        <td><center>24</center></td>\n",
    "      </tr>\n",
    "      <tr>\n",
    "        <td><center>Moyenne</center></td>\n",
    "        <td><center>2.85</center></td>\n",
    "      </tr>\n",
    "        <tr>\n",
    "        <td><center>Mediane</center></td>\n",
    "        <td><center>1</center></td>\n",
    "        </tr>\n",
    "       <tr>\n",
    "        <td><center>Mode</center></td>\n",
    "        <td><center>1</center></td>\n",
    "       </tr>\n",
    "          <tr>\n",
    "        <td><center>Ecart-type</center></td>\n",
    "        <td><center>2.69</center></td>\n",
    "      </tr>\n",
    "        <tr>\n",
    "        <td><center>Var</center></td>\n",
    "        <td><center>7.22</center></td>\n",
    "        </tr>\n",
    "       <tr>\n",
    "        <td><center>CV</center></td>\n",
    "        <td><center>0.94</center></td>\n",
    "       </tr>\n",
    "       <tr>\n",
    "        <td><center>Q1</center></td>\n",
    "        <td><center>1</center></td>\n",
    "       </tr>\n",
    "        <tr>\n",
    "        <td><center>Q2</center></td>\n",
    "        <td><center>1</center></td>\n",
    "       </tr>\n",
    "        <tr>\n",
    "        <td><center>Q3</center></td>\n",
    "        <td><center>4</center></td>\n",
    "       </tr>\n",
    "</table>"
   ]
  },
  {
   "cell_type": "markdown",
   "id": "4abee9c0-21ea-4476-82e0-fe361b1abc00",
   "metadata": {},
   "source": [
    "<b>Tendances centrales</b><br>\n",
    "Le mode est de 1. Ce qui signifie que c'est la valeur la plus fréquente qui apparait dans le jeu de données. Cela étant dit la moyenne globale est de 2.85 avec une médiane à 1. Cette dernière valeur signifie que j’ai autant de valeurs supérieures ou inférieures à 1.<br>\n",
    "<b>Dispersions</b> <br>\n",
    "Concernant les mesures de dispersions, la variance empirique est de 7.22. Cette valeur nous montre que les mesures sont peu dispersées autour de la valeur moyenne. Cette dispersion est aussi illustrée par l'écart-type 2.69 (qui est tout simplement la racine carrée de la variance empirique). Le coefficient de variation = 0.94 (écart-type empirique/moyenne).<br>\n",
    "Le 1er Quartile = 1 : 25% des valeurs sont en dessous de cette valeur et 75% sont au-dessus<br>\n",
    "Le 2eme Quartile = 1 = valeur médiane vu au-dessus : 50% des valeurs sont en dessous de cette valeur et 50% au-dessus<br>\n",
    "Le 3eme Quartile = 4 = 75% des valeurs sont en dessous de cette valeur et 25% au-dessus<br>\n",
    "L'écart interquartile =  4 - 1 = 3<br>\n",
    "50% des valeurs se situent entre 1 et 4<br>\n",
    "La valeur minimale est 0 et la valeur maximale est 24"
   ]
  },
  {
   "cell_type": "markdown",
   "id": "f218f080-d468-40b9-b46a-64edf1ebd318",
   "metadata": {},
   "source": [
    "##### <a href=\"Renard_Anthony_1_notebook_exploration_012023.ipynb#C72143\"> 7.2.1.4.3 payment_value <a>"
   ]
  },
  {
   "cell_type": "markdown",
   "id": "5350c0bc-1450-45f6-a7e1-350ade5c14e7",
   "metadata": {},
   "source": [
    "<center><img alt=\"univariee\" src=\"images/univariee/payment_value.png\"/></center>"
   ]
  },
  {
   "cell_type": "markdown",
   "id": "02a45159-c65c-4650-b485-f65aef9a19e9",
   "metadata": {},
   "source": [
    "<table>\n",
    "      <tr>\n",
    "        <th><center>Nom</center></th>\n",
    "        <th><center>Valeur</center></th>\n",
    "      </tr>\n",
    "      <tr>\n",
    "        <td><center>Min</center></td>\n",
    "        <td><center>0</center></td>\n",
    "      </tr>\n",
    "      <tr>\n",
    "        <td><center>Max</center></td>\n",
    "        <td><center>13664.08</center></td>\n",
    "      </tr>\n",
    "      <tr>\n",
    "        <td><center>Moyenne</center></td>\n",
    "        <td><center>154.10</center></td>\n",
    "      </tr>\n",
    "        <tr>\n",
    "        <td><center>Mediane</center></td>\n",
    "        <td><center>100</center></td>\n",
    "        </tr>\n",
    "       <tr>\n",
    "        <td><center>Mode</center></td>\n",
    "        <td><center>50</center></td>\n",
    "       </tr>\n",
    "          <tr>\n",
    "        <td><center>Ecart-type</center></td>\n",
    "        <td><center>217.49</center></td>\n",
    "      </tr>\n",
    "        <tr>\n",
    "        <td><center>Var</center></td>\n",
    "        <td><center>47303.21</center></td>\n",
    "        </tr>\n",
    "       <tr>\n",
    "        <td><center>CV</center></td>\n",
    "        <td><center>1.41</center></td>\n",
    "       </tr>\n",
    "       <tr>\n",
    "        <td><center>Q1</center></td>\n",
    "        <td><center>56.79</center></td>\n",
    "       </tr>\n",
    "        <tr>\n",
    "        <td><center>Q2</center></td>\n",
    "        <td><center>100</center></td>\n",
    "       </tr>\n",
    "        <tr>\n",
    "        <td><center>Q3</center></td>\n",
    "        <td><center>171.84</center></td>\n",
    "       </tr>\n",
    "</table>"
   ]
  },
  {
   "cell_type": "markdown",
   "id": "42e47c0d-d882-4dba-8e6b-0ad96c933b25",
   "metadata": {},
   "source": [
    "<b>Tendances centrales</b><br>\n",
    "Le mode est de 50. Ce qui signifie que c'est la valeur la plus fréquente qui apparait dans le jeu de données. Cela étant dit la moyenne globale est de 154.10 avec une médiane à 100. Cette dernière valeur signifie que j’ai autant de valeurs supérieures ou inférieures à 100.<br>\n",
    "<b>Dispersions</b> <br>\n",
    "Concernant les mesures de dispersions, la variance empirique est de 47303.21. Cette valeur nous montre que les mesures sont très dispersées autour de la valeur moyenne. Cette dispersion est aussi illustrée par l'écart-type 217.49 (qui est tout simplement la racine carrée de la variance empirique). Le coefficient de variation = 1.41 (écart-type empirique/moyenne).<br>\n",
    "Le 1er Quartile = 56.79 : 25% des valeurs sont en dessous de cette valeur et 75% sont au-dessus<br>\n",
    "Le 2eme Quartile = 100 = valeur médiane vu au-dessus : 50% des valeurs sont en dessous de cette valeur et 50% au-dessus<br>\n",
    "Le 3eme Quartile = 171.84 = 75% des valeurs sont en dessous de cette valeur et 25% au-dessus<br>\n",
    "L'écart interquartile =  171.84 - 56.79 = 115.05<br>\n",
    "50% des valeurs se situent entre 56.79 et 171.84<br>\n",
    "La valeur minimale est 0 et la valeur maximale est 13664.08"
   ]
  },
  {
   "cell_type": "markdown",
   "id": "3bdf8c00-1db3-4ce9-bbbb-9721d700b054",
   "metadata": {
    "tags": []
   },
   "source": [
    "#### <a href=\"Renard_Anthony_1_notebook_exploration_012023.ipynb#C7215\"> 7.2.1.5 df_order_reviews <a>"
   ]
  },
  {
   "cell_type": "markdown",
   "id": "6efe0900-ba19-407a-b3bf-df358710f493",
   "metadata": {},
   "source": [
    "##### <a href=\"Renard_Anthony_1_notebook_exploration_012025.ipynb#C72151\"> 7.2.1.5.1 reviews_score <a>"
   ]
  },
  {
   "cell_type": "markdown",
   "id": "51a4b48c-28fb-4f24-b6ee-e96074601c59",
   "metadata": {},
   "source": [
    "<center><img alt=\"univariee\" src=\"images/univariee/review_score.png\"/></center>"
   ]
  },
  {
   "cell_type": "markdown",
   "id": "b9f9a4a1-83d4-4689-9317-8b5a62e1ed41",
   "metadata": {},
   "source": [
    "<table>\n",
    "      <tr>\n",
    "        <th><center>Nom</center></th>\n",
    "        <th><center>Valeur</center></th>\n",
    "      </tr>\n",
    "      <tr>\n",
    "        <td><center>Min</center></td>\n",
    "        <td><center>1</center></td>\n",
    "      </tr>\n",
    "      <tr>\n",
    "        <td><center>Max</center></td>\n",
    "        <td><center>5</center></td>\n",
    "      </tr>\n",
    "      <tr>\n",
    "        <td><center>Moyenne</center></td>\n",
    "        <td><center>4.09</center></td>\n",
    "      </tr>\n",
    "        <tr>\n",
    "        <td><center>Mediane</center></td>\n",
    "        <td><center>5</center></td>\n",
    "        </tr>\n",
    "       <tr>\n",
    "        <td><center>Mode</center></td>\n",
    "        <td><center>5</center></td>\n",
    "       </tr>\n",
    "          <tr>\n",
    "        <td><center>Ecart-type</center></td>\n",
    "        <td><center>1.35</center></td>\n",
    "      </tr>\n",
    "        <tr>\n",
    "        <td><center>Var</center></td>\n",
    "        <td><center>1.82</center></td>\n",
    "        </tr>\n",
    "       <tr>\n",
    "        <td><center>CV</center></td>\n",
    "        <td><center>0.33</center></td>\n",
    "       </tr>\n",
    "       <tr>\n",
    "        <td><center>Q1</center></td>\n",
    "        <td><center>4</center></td>\n",
    "       </tr>\n",
    "        <tr>\n",
    "        <td><center>Q2</center></td>\n",
    "        <td><center>5</center></td>\n",
    "       </tr>\n",
    "        <tr>\n",
    "        <td><center>Q3</center></td>\n",
    "        <td><center>5</center></td>\n",
    "       </tr>\n",
    "</table>"
   ]
  },
  {
   "cell_type": "markdown",
   "id": "44125e4a-8910-4814-a598-98f32970c740",
   "metadata": {},
   "source": [
    "<b>Tendances centrales</b><br>\n",
    "Le mode est de 5. Ce qui signifie que c'est la valeur la plus fréquente qui apparait dans le jeu de données. Cela étant dit la moyenne globale est de 4.09 avec une médiane à 5. Cette dernière valeur signifie que j’ai autant de valeurs égales ou inférieures à 5.<br>\n",
    "<b>Dispersions</b> <br>\n",
    "Concernant les mesures de dispersions, la variance empirique est de 1.82. Cette valeur nous montre que les mesures sont peu dispersées autour de la valeur moyenne. Cette dispersion est aussi illustrée par l'écart-type 1.35 (qui est tout simplement la racine carrée de la variance empirique). Le coefficient de variation = 0.33 (écart-type empirique/moyenne).<br>\n",
    "Le 1er Quartile = 4 : 25% des valeurs sont en dessous de cette valeur et 75% sont au-dessus<br>\n",
    "Le 2eme Quartile = 5 = valeur médiane vu au-dessus : 50% des valeurs sont en dessous de cette valeur et 50% au-dessus<br>\n",
    "Le 3eme Quartile = 5 = 75% des valeurs sont en dessous de cette valeur et 25% au-dessus<br>\n",
    "L'écart interquartile =  5 - 4 = 1<br>\n",
    "50% des valeurs se situent entre 4 et 5<br>\n",
    "La valeur minimale est 1 et la valeur maximale est 5"
   ]
  },
  {
   "cell_type": "markdown",
   "id": "0ba021aa-e6e7-42a9-ad12-e54624e7b4d9",
   "metadata": {
    "tags": []
   },
   "source": [
    "#### <a href=\"Renard_Anthony_1_notebook_exploration_012023.ipynb#C7216\"> 7.2.1.6 df_orders <a>"
   ]
  },
  {
   "cell_type": "markdown",
   "id": "219cdf34-97f1-4a2f-842a-f65d09934758",
   "metadata": {},
   "source": [
    "##### <a href=\"Renard_Anthony_1_notebook_exploration_012023.ipynb#C72161\"> 7.2.1.6.1 s1_duree_approbation <a>"
   ]
  },
  {
   "cell_type": "markdown",
   "id": "2ade5a50-ad52-4587-acd5-0b4534e91bb0",
   "metadata": {},
   "source": [
    "<center><img alt=\"univariee\" src=\"images/univariee/s1_duree_approbation.png\"/></center>"
   ]
  },
  {
   "cell_type": "markdown",
   "id": "64aa020c-36de-441e-a964-c01061f1cd3a",
   "metadata": {},
   "source": [
    "<table>\n",
    "      <tr>\n",
    "        <th><center>Nom</center></th>\n",
    "        <th><center>Valeur</center></th>\n",
    "      </tr>\n",
    "      <tr>\n",
    "        <td><center>Min</center></td>\n",
    "        <td><center>0</center></td>\n",
    "      </tr>\n",
    "      <tr>\n",
    "        <td><center>Max</center></td>\n",
    "        <td><center>30 days 21:26:37</center></td>\n",
    "      </tr>\n",
    "      <tr>\n",
    "        <td><center>Moyenne</center></td>\n",
    "        <td><center>0 days 10:16:40</center></td>\n",
    "      </tr>\n",
    "        <tr>\n",
    "        <td><center>Mediane</center></td>\n",
    "        <td><center>0 days 00:20:36</center></td>\n",
    "        </tr>\n",
    "       <tr>\n",
    "        <td><center>Mode</center></td>\n",
    "        <td><center>0 days</center></td>\n",
    "       </tr>\n",
    "          <tr>\n",
    "        <td><center>Ecart-type</center></td>\n",
    "        <td><center>0 days 20:32:08</center></td>\n",
    "      </tr>\n",
    "        <tr>\n",
    "        <td><center>Var</center></td>\n",
    "        <td><center>N/A sur deltatime</center></td>\n",
    "        </tr>\n",
    "       <tr>\n",
    "        <td><center>CV</center></td>\n",
    "        <td><center>2.00</center></td>\n",
    "       </tr>\n",
    "       <tr>\n",
    "        <td><center>Q1</center></td>\n",
    "        <td><center>0 days 00:12:55</center></td>\n",
    "       </tr>\n",
    "        <tr>\n",
    "        <td><center>Q2</center></td>\n",
    "        <td><center>0 days 00:20:36</center></td>\n",
    "       </tr>\n",
    "        <tr>\n",
    "        <td><center>Q3</center></td>\n",
    "        <td><center>0 days 14:31:05</center></td>\n",
    "       </tr>\n",
    "</table>"
   ]
  },
  {
   "cell_type": "markdown",
   "id": "cfd5f854-fcee-4c06-94ad-fca454429557",
   "metadata": {},
   "source": [
    "<b>Tendances centrales</b><br>\n",
    "Le mode est de 0h. Ce qui signifie que c'est la valeur la plus fréquente qui apparait dans le jeu de données. Cela étant dit la moyenne globale est de 10h avec une médiane à  20min. Cette dernière valeur signifie que j’ai autant de valeurs supérieures ou inférieures à 20min.<br>\n",
    "<b>Dispersions</b> <br>\n",
    "La dispersion est illustrée par l'écart-type 20h. Cette valeur nous montre que les mesures sont peu dispersées autour de la valeur moyenne. Le coefficient de variation = 2 (écart-type empirique/moyenne).<br>\n",
    "Le 1er Quartile = 12min : 25% des valeurs sont en dessous de cette valeur et 75% sont au-dessus<br>\n",
    "Le 2eme Quartile = 20min = valeur médiane vu au-dessus : 50% des valeurs sont en dessous de cette valeur et 50% au-dessus<br>\n",
    "Le 3eme Quartile = 14h31min = 75% des valeurs sont en dessous de cette valeur et 25% au-dessus<br>\n",
    "L'écart interquartile =  14h31min - 12min = 14h19min<br>\n",
    "50% des valeurs se situent entre 12min et 14h31min<br>\n",
    "La valeur minimale est 0 et la valeur maximale est 30 days 21h"
   ]
  },
  {
   "cell_type": "markdown",
   "id": "d60f9595-3c42-4482-9e41-f7f4bbce509e",
   "metadata": {},
   "source": [
    "##### <a href=\"Renard_Anthony_1_notebook_exploration_012023.ipynb#C72162\"> 7.2.1.6.2 s2_attente_prise_transport <a>"
   ]
  },
  {
   "cell_type": "markdown",
   "id": "663234e4-6f01-4989-afe3-f023518c3a8a",
   "metadata": {},
   "source": [
    "<center><img alt=\"univariee\" src=\"images/univariee/s2_attente_prise_transport.png\"/></center>"
   ]
  },
  {
   "cell_type": "markdown",
   "id": "8cddf559-d1b9-48ee-a31b-4e32a3080242",
   "metadata": {},
   "source": [
    "<table>\n",
    "      <tr>\n",
    "        <th><center>Nom</center></th>\n",
    "        <th><center>Valeur</center></th>\n",
    "      </tr>\n",
    "      <tr>\n",
    "        <td><center>Min</center></td>\n",
    "        <td><center>-172 days +18:44:38</center></td>\n",
    "      </tr>\n",
    "      <tr>\n",
    "        <td><center>Max</center></td>\n",
    "        <td><center>125 days 18:18:06</center></td>\n",
    "      </tr>\n",
    "      <tr>\n",
    "        <td><center>Moyenne</center></td>\n",
    "        <td><center>2 days 19:10:58.03</center></td>\n",
    "      </tr>\n",
    "        <tr>\n",
    "        <td><center>Mediane</center></td>\n",
    "        <td><center>1 days 19:34:50</center></td>\n",
    "        </tr>\n",
    "       <tr>\n",
    "        <td><center>Mode</center></td>\n",
    "        <td><center>4 days 00:00:01</center></td>\n",
    "       </tr>\n",
    "          <tr>\n",
    "        <td><center>Ecart-type</center></td>\n",
    "        <td><center>3 days 12:54:05</center></td>\n",
    "      </tr>\n",
    "        <tr>\n",
    "        <td><center>Var</center></td>\n",
    "        <td><center>NA pour deltatime</center></td>\n",
    "        </tr>\n",
    "       <tr>\n",
    "        <td><center>CV</center></td>\n",
    "        <td><center>1.26</center></td>\n",
    "       </tr>\n",
    "       <tr>\n",
    "        <td><center>Q1</center></td>\n",
    "        <td><center>0 days 20:59:05</center></td>\n",
    "       </tr>\n",
    "        <tr>\n",
    "        <td><center>Q2</center></td>\n",
    "        <td><center>1 days 19:34:50</center></td>\n",
    "       </tr>\n",
    "        <tr>\n",
    "        <td><center>Q3</center></td>\n",
    "        <td><center>3 days 13:48:18</center></td>\n",
    "       </tr>\n",
    "</table>"
   ]
  },
  {
   "cell_type": "markdown",
   "id": "8f394112-67bf-45b9-8c18-4013a202a4b1",
   "metadata": {},
   "source": [
    "<b>Tendances centrales</b><br>\n",
    "Le mode est de 4 jours. Ce qui signifie que c'est la valeur la plus fréquente qui apparait dans le jeu de données. Cela étant dit la moyenne globale est de 2 jours et 19h avec une médiane à 1 jour 19h. Cette dernière valeur signifie que j’ai autant de valeurs supérieures ou inférieures à 1 jour 19h.<br>\n",
    "<b>Dispersions</b> <br>\n",
    "La dispersion est illustrée par l'écart-type 3 jours 13h. Cette valeur nous montre que les mesures sont peu dispersées autour de la valeur moyenne. Le coefficient de variation = 1.26 (écart-type empirique/moyenne).<br>\n",
    "Le 1er Quartile = 21h : 25% des valeurs sont en dessous de cette valeur et 75% sont au-dessus<br>\n",
    "Le 2eme Quartile = 1 jour 19h30 = valeur médiane vu au-dessus : 50% des valeurs sont en dessous de cette valeur et 50% au-dessus<br>\n",
    "Le 3eme Quartile = 3 jours 14h = 75% des valeurs sont en dessous de cette valeur et 25% au-dessus<br>\n",
    "L'écart interquartile =  3 jours 14h - 21h = 2 jours 17h<br>\n",
    "50% des valeurs se situent entre 21h et 3 jours 14h<br>\n",
    "La valeur minimale est -172 jours (prise en compte transport avant approbation) et la valeur maximale est 125 jours et 13h"
   ]
  },
  {
   "cell_type": "markdown",
   "id": "f311c515-9bfd-4b79-993a-d25adc5689ab",
   "metadata": {},
   "source": [
    "##### <a href=\"Renard_Anthony_1_notebook_exploration_012023.ipynb#C72163\"> 7.2.1.6.3 s3_duree_transport <a>"
   ]
  },
  {
   "cell_type": "markdown",
   "id": "9a9c9b71-0772-45df-b04e-0e4b197d56b1",
   "metadata": {},
   "source": [
    "<center><img alt=\"univariee\" src=\"images/univariee/s3_duree_transport.png\"/></center>"
   ]
  },
  {
   "cell_type": "markdown",
   "id": "b3f7cc94-4714-40c7-a04e-61bae33db808",
   "metadata": {},
   "source": [
    "<table>\n",
    "      <tr>\n",
    "        <th><center>Nom</center></th>\n",
    "        <th><center>Valeur</center></th>\n",
    "      </tr>\n",
    "      <tr>\n",
    "        <td><center>Min</center></td>\n",
    "        <td><center>-17 days +21:41:31</center></td>\n",
    "      </tr>\n",
    "      <tr>\n",
    "        <td><center>Max</center></td>\n",
    "        <td><center>205 days 04:35:00</center></td>\n",
    "      </tr>\n",
    "      <tr>\n",
    "        <td><center>Moyenne</center></td>\n",
    "        <td><center>9 days 07:56:08.72</center></td>\n",
    "      </tr>\n",
    "        <tr>\n",
    "        <td><center>Mediane</center></td>\n",
    "        <td><center>7 days 02:23:34</center></td>\n",
    "        </tr>\n",
    "       <tr>\n",
    "        <td><center>Mode</center></td>\n",
    "        <td><center>3 days</center></td>\n",
    "       </tr>\n",
    "          <tr>\n",
    "        <td><center>Ecart-type</center></td>\n",
    "        <td><center>8 days 18:15:20.70</center></td>\n",
    "      </tr>\n",
    "        <tr>\n",
    "        <td><center>Var</center></td>\n",
    "        <td><center>N/A deltatime</center></td>\n",
    "        </tr>\n",
    "       <tr>\n",
    "        <td><center>CV</center></td>\n",
    "        <td><center>0.94</center></td>\n",
    "       </tr>\n",
    "       <tr>\n",
    "        <td><center>Q1</center></td>\n",
    "        <td><center>4 days 02:23:26</center></td>\n",
    "       </tr>\n",
    "        <tr>\n",
    "        <td><center>Q2</center></td>\n",
    "        <td><center>7 days 02:23:34</center></td>\n",
    "       </tr>\n",
    "        <tr>\n",
    "        <td><center>Q3</center></td>\n",
    "        <td><center>12 days 00:42:14</center></td>\n",
    "       </tr>\n",
    "</table>"
   ]
  },
  {
   "cell_type": "markdown",
   "id": "22535db5-1ddb-45b4-8d4a-23045ee2ccd4",
   "metadata": {},
   "source": [
    "<b>Tendances centrales</b><br>\n",
    "Le mode est de 3 jours. Ce qui signifie que c'est la valeur la plus fréquente qui apparait dans le jeu de données. Cela étant dit la moyenne globale est de 9 jours et 8h avec une médiane à 7 jours. Cette dernière valeur signifie que j’ai autant de valeurs supérieures ou inférieures à 7 jours.<br>\n",
    "<b>Dispersions</b> <br>\n",
    "La dispersion est illustrée par l'écart-type 8 jours 18h. Cette valeur nous montre que les mesures sont peu dispersées autour de la valeur moyenne. Le coefficient de variation = 0.94 (écart-type empirique/moyenne).<br>\n",
    "Le 1er Quartile = 4 jours 2h : 25% des valeurs sont en dessous de cette valeur et 75% sont au-dessus<br>\n",
    "Le 2eme Quartile = 7 jours 2h = valeur médiane vu au-dessus : 50% des valeurs sont en dessous de cette valeur et 50% au-dessus<br>\n",
    "Le 3eme Quartile = 12 jours = 75% des valeurs sont en dessous de cette valeur et 25% au-dessus<br>\n",
    "L'écart interquartile =  12 jours - 4 jours 2h = 7 jours 22h<br>\n",
    "50% des valeurs se situent entre 4 jours 2h et 12 jours<br>\n",
    "La valeur minimale est -17 jours (prise en compte transport flaguée après prise en compte transport) et la valeur maximale est 205 jours "
   ]
  },
  {
   "cell_type": "markdown",
   "id": "bd143c9e-0b2e-4c7e-bba5-be0546dd8d3f",
   "metadata": {},
   "source": [
    "##### <a href=\"Renard_Anthony_1_notebook_exploration_012023.ipynb#C72164\"> 7.2.1.6.4 s123_duree_attente client <a>"
   ]
  },
  {
   "cell_type": "markdown",
   "id": "34d038f1-d2ae-4090-92e4-4f0fdbde90c2",
   "metadata": {},
   "source": [
    "<center><img alt=\"univariee\" src=\"images/univariee/s123_duree_attente_client.png\"/></center>"
   ]
  },
  {
   "cell_type": "markdown",
   "id": "44e9ca2e-5088-4e7b-83d0-55a2712cde48",
   "metadata": {},
   "source": [
    "<table>\n",
    "      <tr>\n",
    "        <th><center>Nom</center></th>\n",
    "        <th><center>Valeur</center></th>\n",
    "      </tr>\n",
    "      <tr>\n",
    "        <td><center>Min</center></td>\n",
    "        <td><center>0 days 12:48:07</center></td>\n",
    "      </tr>\n",
    "      <tr>\n",
    "        <td><center>Max</center></td>\n",
    "        <td><center>209 days 15:05:12</center></td>\n",
    "      </tr>\n",
    "      <tr>\n",
    "        <td><center>Moyenne</center></td>\n",
    "        <td><center>12 days 13:23:47</center></td>\n",
    "      </tr>\n",
    "        <tr>\n",
    "        <td><center>Mediane</center></td>\n",
    "        <td><center>10 days 05:11:29</center></td>\n",
    "        </tr>\n",
    "       <tr>\n",
    "        <td><center>Mode</center></td>\n",
    "        <td><center>N</center></td>\n",
    "       </tr>\n",
    "          <tr>\n",
    "        <td><center>Ecart-type</center></td>\n",
    "        <td><center>9 days 13:06:41</center></td>\n",
    "      </tr>\n",
    "        <tr>\n",
    "        <td><center>Var</center></td>\n",
    "        <td><center>NA pour deltatime</center></td>\n",
    "        </tr>\n",
    "       <tr>\n",
    "        <td><center>CV</center></td>\n",
    "        <td><center>0.76</center></td>\n",
    "       </tr>\n",
    "       <tr>\n",
    "        <td><center>Q1</center></td>\n",
    "        <td><center>6 days 18:22:50</center></td>\n",
    "       </tr>\n",
    "        <tr>\n",
    "        <td><center>Q2</center></td>\n",
    "        <td><center>10 days 05:11:29</center></td>\n",
    "       </tr>\n",
    "        <tr>\n",
    "        <td><center>Q3</center></td>\n",
    "        <td><center>15 days 17:17:10</center></td>\n",
    "       </tr>\n",
    "</table>"
   ]
  },
  {
   "cell_type": "markdown",
   "id": "88da5c96-2fc4-41fe-8367-90712f12097b",
   "metadata": {},
   "source": [
    "<b>Tendances centrales</b><br>\n",
    "Le mode a plusieurs valeurs (voir code). Ce qui signifie que ce sont les valeurs les plus fréquentes qui apparaissent dans le jeu de données. Cela étant dit la moyenne globale est de 12 jours et 13h avec une médiane à 10 jours. Cette dernière valeur signifie que j’ai autant de valeurs supérieures ou inférieures à 10 jours.<br>\n",
    "<b>Dispersions</b> <br>\n",
    "La dispersion est illustrée par l'écart-type 9 jours 13h. Cette valeur nous montre que les mesures sont peu dispersées autour de la valeur moyenne. Le coefficient de variation = 0.76 (écart-type empirique/moyenne).<br>\n",
    "Le 1er Quartile = 6 jours 18h : 25% des valeurs sont en dessous de cette valeur et 75% sont au-dessus<br>\n",
    "Le 2eme Quartile = 10 jours 5h = valeur médiane vu au-dessus : 50% des valeurs sont en dessous de cette valeur et 50% au-dessus<br>\n",
    "Le 3eme Quartile = 15 jours 17h = 75% des valeurs sont en dessous de cette valeur et 25% au-dessus<br>\n",
    "L'écart interquartile =  15 jours 17h - 6 jours 18h = 8 jours 23h<br>\n",
    "50% des valeurs se situent entre 6 jours 18h et 15 jours 17h<br>\n",
    "La valeur minimale est 12h48  et la valeur maximale est 209 jours et 15h"
   ]
  },
  {
   "cell_type": "markdown",
   "id": "106f609f-e4b4-41b7-a8e7-642353c7d963",
   "metadata": {},
   "source": [
    "##### <a href=\"Renard_Anthony_1_notebook_exploration_012023.ipynb#C72165\"> 7.2.1.6.5 retard livraison <a>"
   ]
  },
  {
   "cell_type": "markdown",
   "id": "90b9405e-84e2-43cb-a79e-f94ca760e0bf",
   "metadata": {},
   "source": [
    "<center><img alt=\"univariee\" src=\"images/univariee/retard_livraison.png\"/></center>"
   ]
  },
  {
   "cell_type": "markdown",
   "id": "d1f89c75-6001-4de5-8ee7-3afe4c7b4839",
   "metadata": {},
   "source": [
    "Remarque :<br>\n",
    "valeur négative = avance <br>\n",
    "valeur positive = retard <br>\n",
    "<table>\n",
    "      <tr>\n",
    "        <th><center>Nom</center></th>\n",
    "        <th><center>Valeur</center></th>\n",
    "      </tr>\n",
    "      <tr>\n",
    "        <td><center>Min</center></td>\n",
    "        <td><center>-147 days +23:36:47</center></td>\n",
    "      </tr>\n",
    "      <tr>\n",
    "        <td><center>Max</center></td>\n",
    "        <td><center>188 days 23:24:07</center></td>\n",
    "      </tr>\n",
    "      <tr>\n",
    "        <td><center>Moyenne</center></td>\n",
    "        <td><center>-12 days +19:43:59</center></td>\n",
    "      </tr>\n",
    "        <tr>\n",
    "        <td><center>Mediane</center></td>\n",
    "        <td><center>-12 days +01:18:36</center></td>\n",
    "        </tr>\n",
    "       <tr>\n",
    "        <td><center>Mode</center></td>\n",
    "        <td><center>-13 days +14:44:44</center></td>\n",
    "       </tr>\n",
    "          <tr>\n",
    "        <td><center>Ecart-type</center></td>\n",
    "        <td><center>10 days 04:27:21</center></td>\n",
    "      </tr>\n",
    "        <tr>\n",
    "        <td><center>Var</center></td>\n",
    "        <td><center>NA pour deltatime</center></td>\n",
    "        </tr>\n",
    "       <tr>\n",
    "        <td><center>CV</center></td>\n",
    "        <td><center>-0.91</center></td>\n",
    "       </tr>\n",
    "       <tr>\n",
    "        <td><center>Q1</center></td>\n",
    "        <td><center>-17 days +18:08:53</center></td>\n",
    "       </tr>\n",
    "        <tr>\n",
    "        <td><center>Q2</center></td>\n",
    "        <td><center>-12 days +01:18:36</center></td>\n",
    "       </tr>\n",
    "        <tr>\n",
    "        <td><center>Q3</center></td>\n",
    "        <td><center>-7 days +14:39:25</center></td>\n",
    "       </tr>\n",
    "</table>"
   ]
  },
  {
   "cell_type": "markdown",
   "id": "d2fefd6f-4400-42de-8081-7fd25bc01eec",
   "metadata": {},
   "source": [
    "<b>Tendances centrales</b><br>\n",
    "Le mode est de -13 jours et 14h. Ce qui signifie que c'est la valeur la plus fréquente qui apparait dans le jeu de données. Cela étant dit la moyenne globale est de -12 jours et 20h avec une médiane à -12 jours. Cette dernière valeur signifie que j’ai autant de valeurs supérieures ou inférieures à -12 jours.<br>\n",
    "<b>Dispersions</b> <br>\n",
    "La dispersion est illustrée par l'écart-type 10 jours. Cette valeur nous montre que les mesures sont peu dispersées autour de la valeur moyenne. Le coefficient de variation = -0.91 (écart-type empirique/moyenne).<br>\n",
    "Le 1er Quartile = -17 jours 18h : 25% des valeurs sont en dessous de cette valeur et 75% sont au-dessus<br>\n",
    "Le 2eme Quartile = -12 jours 1h = valeur médiane vu au-dessus : 50% des valeurs sont en dessous de cette valeur et 50% au-dessus<br>\n",
    "Le 3eme Quartile = -7 jours 14h = 75% des valeurs sont en dessous de cette valeur et 25% au-dessus<br>\n",
    "L'écart interquartile = -17 jours 18h- (-7 jours 14h) = -10 jours environ<br>\n",
    "50% des valeurs se situent entre -17 jours 18h et -7 jours 14h<br>\n",
    "La valeur minimale est -147 jours et 23h (belle avance) et la valeur maximale est 188 jours (grand retard)"
   ]
  },
  {
   "cell_type": "markdown",
   "id": "440caaf5-06a6-4e8a-a178-101964657bcd",
   "metadata": {
    "tags": []
   },
   "source": [
    "#### <a href=\"Renard_Anthony_1_notebook_exploration_012023.ipynb#C7217\"> 7.2.1.7 df_product <a>"
   ]
  },
  {
   "cell_type": "markdown",
   "id": "f2403b3d-3065-4999-924e-472967a089e4",
   "metadata": {
    "tags": []
   },
   "source": [
    "##### <a href=\"Renard_Anthony_1_notebook_exploration_012023.ipynb#C72171\"> 7.2.1.7.1 product_photos_qty <a>"
   ]
  },
  {
   "cell_type": "markdown",
   "id": "e43174fb-d6c8-4b65-bb72-f66587cc0f4f",
   "metadata": {},
   "source": [
    "<center><img alt=\"univariee\" src=\"images/univariee/product_photos_qty.png\"/></center>"
   ]
  },
  {
   "cell_type": "markdown",
   "id": "66accf19-4604-4f17-9457-fb988acf1843",
   "metadata": {},
   "source": [
    "<table>\n",
    "      <tr>\n",
    "        <th><center>Nom</center></th>\n",
    "        <th><center>Valeur</center></th>\n",
    "      </tr>\n",
    "      <tr>\n",
    "        <td><center>Min</center></td>\n",
    "        <td><center>1</center></td>\n",
    "      </tr>\n",
    "      <tr>\n",
    "        <td><center>Max</center></td>\n",
    "        <td><center>20</center></td>\n",
    "      </tr>\n",
    "      <tr>\n",
    "        <td><center>Moyenne</center></td>\n",
    "        <td><center>2.19</center></td>\n",
    "      </tr>\n",
    "        <tr>\n",
    "        <td><center>Mediane</center></td>\n",
    "        <td><center>1</center></td>\n",
    "        </tr>\n",
    "       <tr>\n",
    "        <td><center>Mode</center></td>\n",
    "        <td><center>1</center></td>\n",
    "       </tr>\n",
    "          <tr>\n",
    "        <td><center>Ecart-type</center></td>\n",
    "        <td><center>1.74</center></td>\n",
    "      </tr>\n",
    "        <tr>\n",
    "        <td><center>Var</center></td>\n",
    "        <td><center>3.02</center></td>\n",
    "        </tr>\n",
    "       <tr>\n",
    "        <td><center>CV</center></td>\n",
    "        <td><center>0.79</center></td>\n",
    "       </tr>\n",
    "       <tr>\n",
    "        <td><center>Q1</center></td>\n",
    "        <td><center>1</center></td>\n",
    "       </tr>\n",
    "        <tr>\n",
    "        <td><center>Q2</center></td>\n",
    "        <td><center>1</center></td>\n",
    "       </tr>\n",
    "        <tr>\n",
    "        <td><center>Q3</center></td>\n",
    "        <td><center>3</center></td>\n",
    "       </tr>\n",
    "</table>"
   ]
  },
  {
   "cell_type": "markdown",
   "id": "4e5e9f4c-167a-4efc-a4db-7d4c2523660e",
   "metadata": {},
   "source": [
    "<b>Tendances centrales</b><br>\n",
    "Le mode est de 1. Ce qui signifie que c'est la valeur la plus fréquente qui apparait dans le jeu de données. Cela étant dit la moyenne globale est de 2.19 avec une médiane à 1. Cette dernière valeur signifie que j’ai autant de valeurs égales ou inférieures à 1.<br>\n",
    "<b>Dispersions</b> <br>\n",
    "Concernant les mesures de dispersions, la variance empirique est de 3.02. Cette valeur nous montre que les mesures sont peu dispersées autour de la valeur moyenne. Cette dispersion est aussi illustrée par l'écart-type 1.74 (qui est tout simplement la racine carrée de la variance empirique). Le coefficient de variation = 0.79 (écart-type empirique/moyenne).<br>\n",
    "Le 1er Quartile = 1 : 25% des valeurs sont en dessous de cette valeur et 75% sont au-dessus<br>\n",
    "Le 2eme Quartile = 1 = valeur médiane vu au-dessus : 50% des valeurs sont en dessous de cette valeur et 50% au-dessus<br>\n",
    "Le 3eme Quartile = 3 = 75% des valeurs sont en dessous de cette valeur et 25% au-dessus<br>\n",
    "L'écart interquartile =  3 - 1 = 2<br>\n",
    "50% des valeurs se situent entre 1 et 3<br>\n",
    "La valeur minimale est 1 et la valeur maximale est 20"
   ]
  },
  {
   "cell_type": "markdown",
   "id": "30b90822-4fa1-4893-97d2-8d62fd411148",
   "metadata": {},
   "source": [
    "##### <a href=\"Renard_Anthony_1_notebook_exploration_012023.ipynb#C72172\"> 7.2.1.7.2 product_weight_g <a>"
   ]
  },
  {
   "cell_type": "markdown",
   "id": "ff68e04a-8578-4e7f-b4ba-3477c35fe157",
   "metadata": {},
   "source": [
    "<center><img alt=\"univariee\" src=\"images/univariee/product_weight_g.png\"/></center>"
   ]
  },
  {
   "cell_type": "markdown",
   "id": "a24d173a-24c8-4e7d-875b-449ae5914f8c",
   "metadata": {},
   "source": [
    "<table>\n",
    "      <tr>\n",
    "        <th><center>Nom</center></th>\n",
    "        <th><center>Valeur</center></th>\n",
    "      </tr>\n",
    "      <tr>\n",
    "        <td><center>Min</center></td>\n",
    "        <td><center>0</center></td>\n",
    "      </tr>\n",
    "      <tr>\n",
    "        <td><center>Max</center></td>\n",
    "        <td><center>40425</center></td>\n",
    "      </tr>\n",
    "      <tr>\n",
    "        <td><center>Moyenne</center></td>\n",
    "        <td><center>2276.96</center></td>\n",
    "      </tr>\n",
    "        <tr>\n",
    "        <td><center>Mediane</center></td>\n",
    "        <td><center>700</center></td>\n",
    "        </tr>\n",
    "       <tr>\n",
    "        <td><center>Mode</center></td>\n",
    "        <td><center>200</center></td>\n",
    "       </tr>\n",
    "          <tr>\n",
    "        <td><center>Ecart-type</center></td>\n",
    "        <td><center>4279.23</center></td>\n",
    "      </tr>\n",
    "        <tr>\n",
    "        <td><center>Var</center></td>\n",
    "        <td><center>18311772.45</center></td>\n",
    "        </tr>\n",
    "       <tr>\n",
    "        <td><center>CV</center></td>\n",
    "        <td><center>1.88</center></td>\n",
    "       </tr>\n",
    "       <tr>\n",
    "        <td><center>Q1</center></td>\n",
    "        <td><center>300</center></td>\n",
    "       </tr>\n",
    "        <tr>\n",
    "        <td><center>Q2</center></td>\n",
    "        <td><center>700</center></td>\n",
    "       </tr>\n",
    "        <tr>\n",
    "        <td><center>Q3</center></td>\n",
    "        <td><center>1900</center></td>\n",
    "       </tr>\n",
    "</table>"
   ]
  },
  {
   "cell_type": "markdown",
   "id": "4e1e7023-be3b-4efa-85da-5c4827bc24f5",
   "metadata": {},
   "source": [
    "<b>Tendances centrales</b><br>\n",
    "Le mode est de 200. Ce qui signifie que c'est la valeur la plus fréquente qui apparait dans le jeu de données. Cela étant dit la moyenne globale est de 2276.96 avec une médiane à 700. Cette dernière valeur signifie que j’ai autant de valeurs supérieures ou inférieures à 700.<br>\n",
    "<b>Dispersions</b> <br>\n",
    "Concernant les mesures de dispersions, la variance empirique est de 18311772.45.  Cette valeur nous montre que les mesures sont très dispersées autour de la valeur moyenne. Cette dispersion est aussi illustrée par l'écart-type 4279.23 (qui est tout simplement la racine carrée de la variance empirique). Le coefficient de variation = 1.88 (écart-type empirique/moyenne).<br>\n",
    "Le 1er Quartile = 300 : 25% des valeurs sont en dessous de cette valeur et 75% sont au-dessus<br>\n",
    "Le 2eme Quartile = 700 = valeur médiane vu au-dessus : 50% des valeurs sont en dessous de cette valeur et 50% au-dessus<br>\n",
    "Le 3eme Quartile = 1900 = 75% des valeurs sont en dessous de cette valeur et 25% au-dessus<br>\n",
    "L'écart interquartile =  1900 - 300 = 1600<br>\n",
    "50% des valeurs se situent entre 300 et 1900<br>\n",
    "La valeur minimale est 0 et la valeur maximale est 40425."
   ]
  },
  {
   "cell_type": "markdown",
   "id": "c89bec2c-dee1-4411-a8ce-0e68499bb0ad",
   "metadata": {},
   "source": [
    "##### <a href=\"Renard_Anthony_1_notebook_exploration_012023.ipynb#C72173\"> 7.2.1.7.3 product_length_cm <a>"
   ]
  },
  {
   "cell_type": "markdown",
   "id": "21606384-5d56-4e4a-969d-794f7a313a12",
   "metadata": {},
   "source": [
    "<center><img alt=\"univariee\" src=\"images/univariee/product_length_cm.png\"/></center>"
   ]
  },
  {
   "cell_type": "markdown",
   "id": "9e389e2b-d1d3-4313-98ac-bc7114dbf0ff",
   "metadata": {},
   "source": [
    "<table>\n",
    "      <tr>\n",
    "        <th><center>Nom</center></th>\n",
    "        <th><center>Valeur</center></th>\n",
    "      </tr>\n",
    "      <tr>\n",
    "        <td><center>Min</center></td>\n",
    "        <td><center>7</center></td>\n",
    "      </tr>\n",
    "      <tr>\n",
    "        <td><center>Max</center></td>\n",
    "        <td><center>105</center></td>\n",
    "      </tr>\n",
    "      <tr>\n",
    "        <td><center>Moyenne</center></td>\n",
    "        <td><center>30.85</center></td>\n",
    "      </tr>\n",
    "        <tr>\n",
    "        <td><center>Mediane</center></td>\n",
    "        <td><center>25</center></td>\n",
    "        </tr>\n",
    "       <tr>\n",
    "        <td><center>Mode</center></td>\n",
    "        <td><center>16</center></td>\n",
    "       </tr>\n",
    "          <tr>\n",
    "        <td><center>Ecart-type</center></td>\n",
    "        <td><center>16.96</center></td>\n",
    "      </tr>\n",
    "        <tr>\n",
    "        <td><center>Var</center></td>\n",
    "        <td><center>287.50</center></td>\n",
    "        </tr>\n",
    "       <tr>\n",
    "        <td><center>CV</center></td>\n",
    "        <td><center>0.55</center></td>\n",
    "       </tr>\n",
    "       <tr>\n",
    "        <td><center>Q1</center></td>\n",
    "        <td><center>18</center></td>\n",
    "       </tr>\n",
    "        <tr>\n",
    "        <td><center>Q2</center></td>\n",
    "        <td><center>25</center></td>\n",
    "       </tr>\n",
    "        <tr>\n",
    "        <td><center>Q3</center></td>\n",
    "        <td><center>38</center></td>\n",
    "       </tr>\n",
    "</table>"
   ]
  },
  {
   "cell_type": "markdown",
   "id": "e766c2c4-9ec7-4cae-ae82-0cb4fc18d027",
   "metadata": {},
   "source": [
    "<b>Tendances centrales</b><br>\n",
    "Le mode est de 16. Ce qui signifie que c'est la valeur la plus fréquente qui apparait dans le jeu de données. Cela étant dit la moyenne globale est de 30.85 avec une médiane à 25. Cette dernière valeur signifie que j’ai autant de valeurs supérieures ou inférieures à 25.<br>\n",
    "<b>Dispersions</b> <br>\n",
    "Concernant les mesures de dispersions, la variance empirique est de 287.50.  Cette valeur nous montre que les mesures sont peu dispersées autour de la valeur moyenne. Cette dispersion est aussi illustrée par l'écart-type 16.96 (qui est tout simplement la racine carrée de la variance empirique). Le coefficient de variation = 0.55 (écart-type empirique/moyenne).<br>\n",
    "Le 1er Quartile = 18 : 25% des valeurs sont en dessous de cette valeur et 75% sont au-dessus<br>\n",
    "Le 2eme Quartile = 25 = valeur médiane vu au-dessus : 50% des valeurs sont en dessous de cette valeur et 50% au-dessus<br>\n",
    "Le 3eme Quartile = 38 = 75% des valeurs sont en dessous de cette valeur et 25% au-dessus<br>\n",
    "L'écart interquartile =  38 - 18 = 20<br>\n",
    "50% des valeurs se situent entre 18 et 38<br>\n",
    "La valeur minimale est 7 et la valeur maximale est 105."
   ]
  },
  {
   "cell_type": "markdown",
   "id": "51bb437c-de0b-4abd-ac5c-912fa49d1785",
   "metadata": {},
   "source": [
    "##### <a href=\"Renard_Anthony_1_notebook_exploration_012023.ipynb#C72174\"> 7.2.1.7.4 product_height_cm <a>"
   ]
  },
  {
   "cell_type": "markdown",
   "id": "7878b018-a65e-4102-b974-e80d6d5f8292",
   "metadata": {},
   "source": [
    "<center><img alt=\"univariee\" src=\"images/univariee/product_height_cm.png\"/></center>"
   ]
  },
  {
   "cell_type": "markdown",
   "id": "f35f1c02-be5f-4149-853c-9d7cd2f389c4",
   "metadata": {},
   "source": [
    "<table>\n",
    "      <tr>\n",
    "        <th><center>Nom</center></th>\n",
    "        <th><center>Valeur</center></th>\n",
    "      </tr>\n",
    "      <tr>\n",
    "        <td><center>Min</center></td>\n",
    "        <td><center>2</center></td>\n",
    "      </tr>\n",
    "      <tr>\n",
    "        <td><center>Max</center></td>\n",
    "        <td><center>105</center></td>\n",
    "      </tr>\n",
    "      <tr>\n",
    "        <td><center>Moyenne</center></td>\n",
    "        <td><center>16.96</center></td>\n",
    "      </tr>\n",
    "        <tr>\n",
    "        <td><center>Mediane</center></td>\n",
    "        <td><center>13</center></td>\n",
    "        </tr>\n",
    "       <tr>\n",
    "        <td><center>Mode</center></td>\n",
    "        <td><center>10</center></td>\n",
    "       </tr>\n",
    "          <tr>\n",
    "        <td><center>Ecart-type</center></td>\n",
    "        <td><center>13.64</center></td>\n",
    "      </tr>\n",
    "        <tr>\n",
    "        <td><center>Var</center></td>\n",
    "        <td><center>185.94</center></td>\n",
    "        </tr>\n",
    "       <tr>\n",
    "        <td><center>CV</center></td>\n",
    "        <td><center>0.80</center></td>\n",
    "       </tr>\n",
    "       <tr>\n",
    "        <td><center>Q1</center></td>\n",
    "        <td><center>8</center></td>\n",
    "       </tr>\n",
    "        <tr>\n",
    "        <td><center>Q2</center></td>\n",
    "        <td><center>13</center></td>\n",
    "       </tr>\n",
    "        <tr>\n",
    "        <td><center>Q3</center></td>\n",
    "        <td><center>21</center></td>\n",
    "       </tr>\n",
    "</table>"
   ]
  },
  {
   "cell_type": "markdown",
   "id": "a5b93cdb-7dc4-4b39-b38b-9ea8ffee63fd",
   "metadata": {},
   "source": [
    "<b>Tendances centrales</b><br>\n",
    "Le mode est de 10. Ce qui signifie que c'est la valeur la plus fréquente qui apparait dans le jeu de données. Cela étant dit la moyenne globale est de 16.96 avec une médiane à 13. Cette dernière valeur signifie que j’ai autant de valeurs supérieures ou inférieures à 13.<br>\n",
    "<b>Dispersions</b> <br>\n",
    "Concernant les mesures de dispersions, la variance empirique est de 185.94.  Cette valeur nous montre que les mesures sont peu dispersées autour de la valeur moyenne. Cette dispersion est aussi illustrée par l'écart-type 13.64 (qui est tout simplement la racine carrée de la variance empirique). Le coefficient de variation = 0.80 (écart-type empirique/moyenne).<br>\n",
    "Le 1er Quartile = 8 : 25% des valeurs sont en dessous de cette valeur et 75% sont au-dessus<br>\n",
    "Le 2eme Quartile = 13 = valeur médiane vu au-dessus : 50% des valeurs sont en dessous de cette valeur et 50% au-dessus<br>\n",
    "Le 3eme Quartile = 21 = 75% des valeurs sont en dessous de cette valeur et 25% au-dessus<br>\n",
    "L'écart interquartile =  21 - 8 = 13<br>\n",
    "50% des valeurs se situent entre 8 et 21<br>\n",
    "La valeur minimale est 2 et la valeur maximale est 105."
   ]
  },
  {
   "cell_type": "markdown",
   "id": "7beb6b89-16a3-433f-954d-24a454d8b051",
   "metadata": {},
   "source": [
    "##### <a href=\"Renard_Anthony_1_notebook_exploration_012023.ipynb#C72175\"> 7.2.1.7.5 product_width_cm <a>"
   ]
  },
  {
   "cell_type": "markdown",
   "id": "0da58cbb-2969-46a0-98c2-d516a13b3d2e",
   "metadata": {},
   "source": [
    "<center><img alt=\"univariee\" src=\"images/univariee/product_width_cm.png\"/></center>"
   ]
  },
  {
   "cell_type": "markdown",
   "id": "e9bfef59-dc03-4dbc-ae88-a53b5a7764cf",
   "metadata": {},
   "source": [
    "<table>\n",
    "      <tr>\n",
    "        <th><center>Nom</center></th>\n",
    "        <th><center>Valeur</center></th>\n",
    "      </tr>\n",
    "      <tr>\n",
    "        <td><center>Min</center></td>\n",
    "        <td><center>6</center></td>\n",
    "      </tr>\n",
    "      <tr>\n",
    "        <td><center>Max</center></td>\n",
    "        <td><center>118</center></td>\n",
    "      </tr>\n",
    "      <tr>\n",
    "        <td><center>Moyenne</center></td>\n",
    "        <td><center>23.21</center></td>\n",
    "      </tr>\n",
    "        <tr>\n",
    "        <td><center>Mediane</center></td>\n",
    "        <td><center>20</center></td>\n",
    "        </tr>\n",
    "       <tr>\n",
    "        <td><center>Mode</center></td>\n",
    "        <td><center>11</center></td>\n",
    "       </tr>\n",
    "          <tr>\n",
    "        <td><center>Ecart-type</center></td>\n",
    "        <td><center>12.08</center></td>\n",
    "      </tr>\n",
    "        <tr>\n",
    "        <td><center>Var</center></td>\n",
    "        <td><center>145.89</center></td>\n",
    "        </tr>\n",
    "       <tr>\n",
    "        <td><center>CV</center></td>\n",
    "        <td><center>0.52</center></td>\n",
    "       </tr>\n",
    "       <tr>\n",
    "        <td><center>Q1</center></td>\n",
    "        <td><center>15</center></td>\n",
    "       </tr>\n",
    "        <tr>\n",
    "        <td><center>Q2</center></td>\n",
    "        <td><center>20</center></td>\n",
    "       </tr>\n",
    "        <tr>\n",
    "        <td><center>Q3</center></td>\n",
    "        <td><center>30</center></td>\n",
    "       </tr>\n",
    "</table>"
   ]
  },
  {
   "cell_type": "markdown",
   "id": "21235868-8fc2-483c-aac6-a50007f60413",
   "metadata": {},
   "source": [
    "<b>Tendances centrales</b><br>\n",
    "Le mode est de 11. Ce qui signifie que c'est la valeur la plus fréquente qui apparait dans le jeu de données. Cela étant dit la moyenne globale est de 23.21 avec une médiane à 20. Cette dernière valeur signifie que j’ai autant de valeurs supérieures ou inférieures à 20.<br>\n",
    "<b>Dispersions</b> <br>\n",
    "Concernant les mesures de dispersions, la variance empirique est de 145.89.  Cette valeur nous montre que les mesures sont peu dispersées autour de la valeur moyenne. Cette dispersion est aussi illustrée par l'écart-type 12.08 (qui est tout simplement la racine carrée de la variance empirique). Le coefficient de variation = 0.52 (écart-type empirique/moyenne).<br>\n",
    "Le 1er Quartile = 15 : 25% des valeurs sont en dessous de cette valeur et 75% sont au-dessus<br>\n",
    "Le 2eme Quartile = 20 = valeur médiane vu au-dessus : 50% des valeurs sont en dessous de cette valeur et 50% au-dessus<br>\n",
    "Le 3eme Quartile = 30 = 75% des valeurs sont en dessous de cette valeur et 25% au-dessus<br>\n",
    "L'écart interquartile =  30 - 15 = 15<br>\n",
    "50% des valeurs se situent entre 15 et 30<br>\n",
    "La valeur minimale est 6 et la valeur maximale est 118."
   ]
  },
  {
   "cell_type": "markdown",
   "id": "4586c2b1-480d-45da-9ac7-4685b823f51f",
   "metadata": {},
   "source": [
    "#### <a href=\"Renard_Anthony_1_notebook_exploration_012023.ipynb#C7218\"> 7.2.1.8 df_sellers <a>"
   ]
  },
  {
   "cell_type": "markdown",
   "id": "a2ad2071-360e-4c6a-8317-f8bcdfe192aa",
   "metadata": {},
   "source": [
    "Pas de variables numériques."
   ]
  },
  {
   "cell_type": "markdown",
   "id": "9e55d307-ebef-4e1b-98bc-9c068199472f",
   "metadata": {},
   "source": [
    "#### <a href=\"Renard_Anthony_1_notebook_exploration_012023.ipynb#C7219\"> 7.2.1.9 df_product_category_name_translation <a>"
   ]
  },
  {
   "cell_type": "markdown",
   "id": "1699a698-e7f6-4805-ac36-2341a4281219",
   "metadata": {},
   "source": [
    "Pas de variables numériques."
   ]
  },
  {
   "cell_type": "markdown",
   "id": "960b05f9-89ed-4fea-add0-24d57d1fcd4a",
   "metadata": {
    "tags": []
   },
   "source": [
    "#### <a href=\"Renard_Anthony_1_notebook_exploration_012023.ipynb#C72110\"> 7.2.1.10 distance entre vendeur et client <a>"
   ]
  },
  {
   "cell_type": "markdown",
   "id": "25ffb424-04d1-4714-bce8-04b2860f9106",
   "metadata": {},
   "source": [
    "<center><img alt=\"univariee\" src=\"images/univariee/distance.png\"/></center>"
   ]
  },
  {
   "cell_type": "markdown",
   "id": "a7ca654e-bed0-44f0-98bd-e75f5ee4ce91",
   "metadata": {},
   "source": [
    "<table>\n",
    "      <tr>\n",
    "        <th><center>Nom</center></th>\n",
    "        <th><center>Valeur</center></th>\n",
    "      </tr>\n",
    "      <tr>\n",
    "        <td><center>Min</center></td>\n",
    "        <td><center>0</center></td>\n",
    "      </tr>\n",
    "      <tr>\n",
    "        <td><center>Max</center></td>\n",
    "        <td><center>8736.95</center></td>\n",
    "      </tr>\n",
    "      <tr>\n",
    "        <td><center>Moyenne</center></td>\n",
    "        <td><center>601.68</center></td>\n",
    "      </tr>\n",
    "        <tr>\n",
    "        <td><center>Mediane</center></td>\n",
    "        <td><center>433.97</center></td>\n",
    "        </tr>\n",
    "       <tr>\n",
    "        <td><center>Mode</center></td>\n",
    "        <td><center>0</center></td>\n",
    "       </tr>\n",
    "          <tr>\n",
    "        <td><center>Ecart-type</center></td>\n",
    "        <td><center>596.85</center></td>\n",
    "      </tr>\n",
    "        <tr>\n",
    "        <td><center>Var</center></td>\n",
    "        <td><center>356227.86</center></td>\n",
    "        </tr>\n",
    "       <tr>\n",
    "        <td><center>CV</center></td>\n",
    "        <td><center>0.99</center></td>\n",
    "       </tr>\n",
    "       <tr>\n",
    "        <td><center>Q1</center></td>\n",
    "        <td><center>184.31</center></td>\n",
    "       </tr>\n",
    "        <tr>\n",
    "        <td><center>Q2</center></td>\n",
    "        <td><center>433.97</center></td>\n",
    "       </tr>\n",
    "        <tr>\n",
    "        <td><center>Q3</center></td>\n",
    "        <td><center>799.50</center></td>\n",
    "       </tr>\n",
    "</table>"
   ]
  },
  {
   "cell_type": "markdown",
   "id": "293c1e60-fcec-4e11-b84b-97f153491eb5",
   "metadata": {},
   "source": [
    "<b>Tendances centrales</b><br>\n",
    "Le mode est de 0. Ce qui signifie que c'est la valeur la plus fréquente qui apparait dans le jeu de données. Cela étant dit la moyenne globale est de 601.68 avec une médiane à 433.97. Cette dernière valeur signifie que j’ai autant de valeurs supérieures ou inférieures à 433.97.<br>\n",
    "<b>Dispersions</b> <br>\n",
    "Concernant les mesures de dispersions, la variance empirique est de 356227.86.  Cette valeur nous montre que les mesures sont très dispersées autour de la valeur moyenne. Cette dispersion est aussi illustrée par l'écart-type 596.85 (qui est tout simplement la racine carrée de la variance empirique). Le coefficient de variation = 0.99 (écart-type empirique/moyenne).<br>\n",
    "Le 1er Quartile = 184.31 : 25% des valeurs sont en dessous de cette valeur et 75% sont au-dessus<br>\n",
    "Le 2eme Quartile = 433.97 = valeur médiane vu au-dessus : 50% des valeurs sont en dessous de cette valeur et 50% au-dessus<br>\n",
    "Le 3eme Quartile = 799.50= 75% des valeurs sont en dessous de cette valeur et 25% au-dessus<br>\n",
    "L'écart interquartile =  799.50 - 184.31 = 615.19<br>\n",
    "50% des valeurs se situent entre 799.50 et 184.31<br>\n",
    "La valeur minimale est 0 et la valeur maximale est 8736.95."
   ]
  },
  {
   "cell_type": "markdown",
   "id": "9c77d5a3-c42a-428d-bb5b-718d7040fa22",
   "metadata": {},
   "source": [
    "#### <a href=\"Renard_Anthony_1_notebook_exploration_012023.ipynb#C72111\"> 7.2.1.11 Récence <a>"
   ]
  },
  {
   "cell_type": "markdown",
   "id": "867bf8fa-5481-4dcd-8544-c77072da0182",
   "metadata": {},
   "source": [
    "<center><img alt=\"univariee\" src=\"images/univariee/recency.png\"/></center>"
   ]
  },
  {
   "cell_type": "markdown",
   "id": "519cbfa3-9397-4a38-a131-32ae50dbc077",
   "metadata": {},
   "source": [
    "<table>\n",
    "      <tr>\n",
    "        <th><center>Nom</center></th>\n",
    "        <th><center>Valeur</center></th>\n",
    "      </tr>\n",
    "      <tr>\n",
    "        <td><center>Min</center></td>\n",
    "        <td><center>0</center></td>\n",
    "      </tr>\n",
    "      <tr>\n",
    "        <td><center>Max</center></td>\n",
    "        <td><center>713</center></td>\n",
    "      </tr>\n",
    "      <tr>\n",
    "        <td><center>Moyenne</center></td>\n",
    "        <td><center>236.93</center></td>\n",
    "      </tr>\n",
    "        <tr>\n",
    "        <td><center>Mediane</center></td>\n",
    "        <td><center>218</center></td>\n",
    "        </tr>\n",
    "       <tr>\n",
    "        <td><center>Mode</center></td>\n",
    "        <td><center>277</center></td>\n",
    "       </tr>\n",
    "          <tr>\n",
    "        <td><center>Ecart-type</center></td>\n",
    "        <td><center>152.58</center></td>\n",
    "      </tr>\n",
    "        <tr>\n",
    "        <td><center>Var</center></td>\n",
    "        <td><center>23281.69</center></td>\n",
    "        </tr>\n",
    "       <tr>\n",
    "        <td><center>CV</center></td>\n",
    "        <td><center>0.64</center></td>\n",
    "       </tr>\n",
    "       <tr>\n",
    "        <td><center>Q1</center></td>\n",
    "        <td><center>113</center></td>\n",
    "       </tr>\n",
    "        <tr>\n",
    "        <td><center>Q2</center></td>\n",
    "        <td><center>218</center></td>\n",
    "       </tr>\n",
    "        <tr>\n",
    "        <td><center>Q3</center></td>\n",
    "        <td><center>345</center></td>\n",
    "       </tr>\n",
    "</table>"
   ]
  },
  {
   "cell_type": "markdown",
   "id": "11fd966b-661b-462a-8d61-ed6e7ce85786",
   "metadata": {},
   "source": [
    "<b>Tendances centrales</b><br>\n",
    "Le mode est de 277. Ce qui signifie que c'est la valeur la plus fréquente qui apparait dans le jeu de données. Cela étant dit la moyenne globale est de 236.93 avec une médiane à 218. Cette dernière valeur signifie que j’ai autant de valeurs supérieures ou inférieures à 218.<br>\n",
    "<b>Dispersions</b> <br>\n",
    "Concernant les mesures de dispersions, la variance empirique est de 23281.69.  Cette valeur nous montre que les mesures sont très dispersées autour de la valeur moyenne. Cette dispersion est aussi illustrée par l'écart-type 152.58 (qui est tout simplement la racine carrée de la variance empirique). Le coefficient de variation = 0.64 (écart-type empirique/moyenne).<br>\n",
    "Le 1er Quartile = 113 : 25% des valeurs sont en dessous de cette valeur et 75% sont au-dessus<br>\n",
    "Le 2eme Quartile = 218 = valeur médiane vu au-dessus : 50% des valeurs sont en dessous de cette valeur et 50% au-dessus<br>\n",
    "Le 3eme Quartile = 345 : 75% des valeurs sont en dessous de cette valeur et 25% au-dessus<br>\n",
    "L'écart interquartile = 345 - 113 = 232<br>\n",
    "50% des valeurs se situent entre 113 et 345<br>\n",
    "La valeur minimale est 0 et la valeur maximale est 713."
   ]
  },
  {
   "cell_type": "markdown",
   "id": "e884ee22-c27a-4057-b8f6-e98d80130a3d",
   "metadata": {},
   "source": [
    "#### <a href=\"Renard_Anthony_1_notebook_exploration_012023.ipynb#C72112\"> 7.2.1.12 Fréquence <a>"
   ]
  },
  {
   "cell_type": "markdown",
   "id": "a7e7f5f7-f517-4593-8c46-1ae7137eb375",
   "metadata": {},
   "source": [
    "<center><img alt=\"univariee\" src=\"images/univariee/nb_cmd_clients_concret_pourcentage.png\"/></center>"
   ]
  },
  {
   "cell_type": "markdown",
   "id": "2d819d9a-1f34-4f70-b878-cb30b376a8d6",
   "metadata": {},
   "source": [
    "<table>\n",
    "      <tr>\n",
    "        <th><center>Nom</center></th>\n",
    "        <th><center>Valeur</center></th>\n",
    "      </tr>\n",
    "      <tr>\n",
    "        <td><center>Min</center></td>\n",
    "        <td><center>0</center></td>\n",
    "      </tr>\n",
    "      <tr>\n",
    "        <td><center>Max</center></td>\n",
    "        <td><center>15</center></td>\n",
    "      </tr>\n",
    "      <tr>\n",
    "        <td><center>Moyenne</center></td>\n",
    "        <td><center>1</center></td>\n",
    "      </tr>\n",
    "        <tr>\n",
    "        <td><center>Mediane</center></td>\n",
    "        <td><center>1</center></td>\n",
    "        </tr>\n",
    "       <tr>\n",
    "        <td><center>Mode</center></td>\n",
    "        <td><center>1</center></td>\n",
    "       </tr>\n",
    "          <tr>\n",
    "        <td><center>Ecart-type</center></td>\n",
    "        <td><center>0.27</center></td>\n",
    "      </tr>\n",
    "        <tr>\n",
    "        <td><center>Var</center></td>\n",
    "        <td><center>0.07</center></td>\n",
    "        </tr>\n",
    "       <tr>\n",
    "        <td><center>CV</center></td>\n",
    "        <td><center>0.28</center></td>\n",
    "       </tr>\n",
    "       <tr>\n",
    "        <td><center>Q1</center></td>\n",
    "        <td><center>1</center></td>\n",
    "       </tr>\n",
    "        <tr>\n",
    "        <td><center>Q2</center></td>\n",
    "        <td><center>1</center></td>\n",
    "       </tr>\n",
    "        <tr>\n",
    "        <td><center>Q3</center></td>\n",
    "        <td><center>1</center></td>\n",
    "       </tr>\n",
    "</table>"
   ]
  },
  {
   "cell_type": "markdown",
   "id": "634ec6f6-abf9-4985-9755-fdbf0cc667e1",
   "metadata": {},
   "source": [
    "<b>Tendances centrales</b><br>\n",
    "Le mode est de 1. Ce qui signifie que c'est la valeur la plus fréquente qui apparait dans le jeu de données. Cela étant dit la moyenne globale est de 1 avec une médiane à 1.<br>\n",
    "<b>Dispersions</b> <br>\n",
    "Concernant les mesures de dispersions, la variance empirique est de 0.07.  Cette valeur nous montre que les mesures sont très peu dispersées autour de la valeur moyenne. Cette dispersion est aussi illustrée par l'écart-type 0.27 (qui est tout simplement la racine carrée de la variance empirique). Le coefficient de variation = 0.28 (écart-type empirique/moyenne).<br>\n",
    "Le 1er Quartile = 1 : 25% des valeurs sont en dessous de cette valeur et 75% sont au-dessus<br>\n",
    "Le 2eme Quartile = 1 = valeur médiane vu au-dessus : 50% des valeurs sont en dessous de cette valeur et 50% au-dessus<br>\n",
    "Le 3eme Quartile = 1 : 75% des valeurs sont en dessous de cette valeur et 25% au-dessus<br>\n",
    "L'écart interquartile = 1 - 1 = 0<br>\n",
    "50% des valeurs au moins sont égales à 1<br>\n",
    "La valeur minimale est 0 et la valeur maximale est 15."
   ]
  },
  {
   "cell_type": "markdown",
   "id": "4d045595-d7e5-4065-a550-b2a3e3fe6014",
   "metadata": {},
   "source": [
    "#### <a href=\"Renard_Anthony_1_notebook_exploration_012023.ipynb#C72113\"> 7.2.1.13 Monétaire <a>"
   ]
  },
  {
   "cell_type": "markdown",
   "id": "9a4bd4d8-4f04-4118-acf5-ed78f24dac41",
   "metadata": {},
   "source": [
    "##### <a href=\"Renard_Anthony_1_notebook_exploration_012023.ipynb#C721131\"> 7.2.1.13.1 Monetary <a>"
   ]
  },
  {
   "cell_type": "markdown",
   "id": "5f87f2a3-cb76-4f41-955a-999fb9429a1c",
   "metadata": {},
   "source": [
    "<center><img alt=\"univariee\" src=\"images/univariee/monetary.png\"/></center>"
   ]
  },
  {
   "cell_type": "markdown",
   "id": "6f5bede2-738e-4b25-be60-abdf0a34858c",
   "metadata": {},
   "source": [
    "Zoom :"
   ]
  },
  {
   "cell_type": "markdown",
   "id": "e5b2bd42-e828-4ac3-a093-3103de3dac35",
   "metadata": {},
   "source": [
    "<center><img alt=\"univariee\" src=\"images/univariee/monetary2.png\"/></center>"
   ]
  },
  {
   "cell_type": "markdown",
   "id": "38f0f72d-fabf-4126-badb-abc6e32894d6",
   "metadata": {},
   "source": [
    "<table>\n",
    "      <tr>\n",
    "        <th><center>Nom</center></th>\n",
    "        <th><center>Valeur</center></th>\n",
    "      </tr>\n",
    "      <tr>\n",
    "        <td><center>Min</center></td>\n",
    "        <td><center>0</center></td>\n",
    "      </tr>\n",
    "      <tr>\n",
    "        <td><center>Max</center></td>\n",
    "        <td><center>13664.08</center></td>\n",
    "      </tr>\n",
    "      <tr>\n",
    "        <td><center>Moyenne</center></td>\n",
    "        <td><center>160.43</center></td>\n",
    "      </tr>\n",
    "        <tr>\n",
    "        <td><center>Mediane</center></td>\n",
    "        <td><center>104.87</center></td>\n",
    "        </tr>\n",
    "       <tr>\n",
    "        <td><center>Mode</center></td>\n",
    "        <td><center>0</center></td>\n",
    "       </tr>\n",
    "          <tr>\n",
    "        <td><center>Ecart-type</center></td>\n",
    "        <td><center>224.74</center></td>\n",
    "      </tr>\n",
    "        <tr>\n",
    "        <td><center>Var</center></td>\n",
    "        <td><center>50506.04</center></td>\n",
    "        </tr>\n",
    "       <tr>\n",
    "        <td><center>CV</center></td>\n",
    "        <td><center>1.40</center></td>\n",
    "       </tr>\n",
    "       <tr>\n",
    "        <td><center>Q1</center></td>\n",
    "        <td><center>59.40</center></td>\n",
    "       </tr>\n",
    "        <tr>\n",
    "        <td><center>Q2</center></td>\n",
    "        <td><center>104.87</center></td>\n",
    "       </tr>\n",
    "        <tr>\n",
    "        <td><center>Q3</center></td>\n",
    "        <td><center>178.46</center></td>\n",
    "       </tr>\n",
    "</table>"
   ]
  },
  {
   "cell_type": "markdown",
   "id": "77f55077-aad9-46bc-b9ba-042d1e5e166d",
   "metadata": {},
   "source": [
    "<b>Tendances centrales</b><br>\n",
    "Le mode est de 0. Ce qui signifie que c'est la valeur la plus fréquente qui apparait dans le jeu de données. Cela étant dit la moyenne globale est de 160.43 avec une médiane à 104.87. Cette dernière valeur signifie que j’ai autant de valeurs supérieures ou inférieures à 104.87.<br>\n",
    "<b>Dispersions</b> <br>\n",
    "Concernant les mesures de dispersions, la variance empirique est de 50506.04.  Cette valeur nous montre que les mesures sont très dispersées autour de la valeur moyenne. Cette dispersion est aussi illustrée par l'écart-type 224.74 (qui est tout simplement la racine carrée de la variance empirique). Le coefficient de variation = 1.40 (écart-type empirique/moyenne).<br>\n",
    "Le 1er Quartile = 59.40 : 25% des valeurs sont en dessous de cette valeur et 75% sont au-dessus<br>\n",
    "Le 2eme Quartile = 104.87 = valeur médiane vu au-dessus : 50% des valeurs sont en dessous de cette valeur et 50% au-dessus<br>\n",
    "Le 3eme Quartile = 178.46 : 75% des valeurs sont en dessous de cette valeur et 25% au-dessus<br>\n",
    "L'écart interquartile = 178.46 - 58.40 = 120.16<br>\n",
    "50% des valeurs se situent entre 58.40 et 178.46<br>\n",
    "La valeur minimale est 0 et la valeur maximale est 13664.08."
   ]
  },
  {
   "cell_type": "markdown",
   "id": "f6533664-c17a-4226-a2ad-65ad022b8ff8",
   "metadata": {
    "tags": []
   },
   "source": [
    "##### <a href=\"Renard_Anthony_1_notebook_exploration_012023.ipynb#C721132\"> 7.2.1.13.2 Monetary_mean <a>"
   ]
  },
  {
   "cell_type": "markdown",
   "id": "3ae37e8f-00cb-4b42-a6cd-72076e736890",
   "metadata": {},
   "source": [
    "<center><img alt=\"univariee\" src=\"images/univariee/panier_moyen.png\"/></center>"
   ]
  },
  {
   "cell_type": "markdown",
   "id": "4ea7c569-a18a-4aaa-bd3d-ea769981f782",
   "metadata": {},
   "source": [
    "Zoom : "
   ]
  },
  {
   "cell_type": "markdown",
   "id": "02e2bca9-b565-4f0a-ba99-57d2fe95ef43",
   "metadata": {},
   "source": [
    "<center><img alt=\"univariee\" src=\"images/univariee/panier_moyen2.png\"/></center>"
   ]
  },
  {
   "cell_type": "markdown",
   "id": "d8d05569-8d5f-4c6f-8217-8ee20b572532",
   "metadata": {},
   "source": [
    "<table>\n",
    "      <tr>\n",
    "        <th><center>Nom</center></th>\n",
    "        <th><center>Valeur</center></th>\n",
    "      </tr>\n",
    "      <tr>\n",
    "        <td><center>Min</center></td>\n",
    "        <td><center>9.59</center></td>\n",
    "      </tr>\n",
    "      <tr>\n",
    "        <td><center>Max</center></td>\n",
    "        <td><center>13664.08</center></td>\n",
    "      </tr>\n",
    "      <tr>\n",
    "        <td><center>Moyenne</center></td>\n",
    "        <td><center>160.29</center></td>\n",
    "      </tr>\n",
    "        <tr>\n",
    "        <td><center>Mediane</center></td>\n",
    "        <td><center>105.62</center></td>\n",
    "        </tr>\n",
    "       <tr>\n",
    "        <td><center>Mode</center></td>\n",
    "        <td><center>77.57</center></td>\n",
    "       </tr>\n",
    "          <tr>\n",
    "        <td><center>Ecart-type</center></td>\n",
    "        <td><center>219.57</center></td>\n",
    "      </tr>\n",
    "        <tr>\n",
    "        <td><center>Var</center></td>\n",
    "        <td><center>48210.17</center></td>\n",
    "        </tr>\n",
    "       <tr>\n",
    "        <td><center>CV</center></td>\n",
    "        <td><center>1.37</center></td>\n",
    "       </tr>\n",
    "       <tr>\n",
    "        <td><center>Q1</center></td>\n",
    "        <td><center>62.33</center></td>\n",
    "       </tr>\n",
    "        <tr>\n",
    "        <td><center>Q2</center></td>\n",
    "        <td><center>105.62</center></td>\n",
    "       </tr>\n",
    "        <tr>\n",
    "        <td><center>Q3</center></td>\n",
    "        <td><center>176.56</center></td>\n",
    "       </tr>\n",
    "</table>"
   ]
  },
  {
   "cell_type": "markdown",
   "id": "a196766f-2dbc-423f-bf18-ae0e7b8a78bc",
   "metadata": {},
   "source": [
    "<b>Tendances centrales</b><br>\n",
    "Le mode est de 77.57. Ce qui signifie que c'est la valeur la plus fréquente qui apparait dans le jeu de données. Cela étant dit la moyenne globale est de 160.29 avec une médiane à 105.62. Cette dernière valeur signifie que j’ai autant de valeurs supérieures ou inférieures à 105.62.<br>\n",
    "<b>Dispersions</b> <br>\n",
    "Concernant les mesures de dispersions, la variance empirique est de 48210.17.  Cette valeur nous montre que les mesures sont très dispersées autour de la valeur moyenne. Cette dispersion est aussi illustrée par l'écart-type 219.57 (qui est tout simplement la racine carrée de la variance empirique). Le coefficient de variation = 1.37 (écart-type empirique/moyenne).<br>\n",
    "Le 1er Quartile = 62.33 : 25% des valeurs sont en dessous de cette valeur et 75% sont au-dessus<br>\n",
    "Le 2eme Quartile = 105.62 = valeur médiane vu au-dessus : 50% des valeurs sont en dessous de cette valeur et 50% au-dessus<br>\n",
    "Le 3eme Quartile = 176.56 = 75% des valeurs sont en dessous de cette valeur et 25% au-dessus<br>\n",
    "L'écart interquartile =  176.56 - 62.33 = 114.23<br>\n",
    "50% des valeurs se situent entre 62.33 et 176.56<br>\n",
    "La valeur minimale est 9.59 et la valeur maximale est 13664.08."
   ]
  },
  {
   "cell_type": "markdown",
   "id": "3af07199-64ec-4781-9826-b4801049719a",
   "metadata": {
    "tags": []
   },
   "source": [
    "### <a href=\"Renard_Anthony_1_notebook_exploration_012023.ipynb#C722\"> 7.2.2 Variables catégorielles <a>"
   ]
  },
  {
   "cell_type": "markdown",
   "id": "5c5d8338-c653-495f-82f7-4a67332e83b6",
   "metadata": {
    "tags": []
   },
   "source": [
    "#### <a href=\"Renard_Anthony_1_notebook_exploration_012023.ipynb#C7221\"> 7.2.2.1 df_customers <a>"
   ]
  },
  {
   "cell_type": "markdown",
   "id": "f95df29d-314e-4042-a5b0-f1717fd4a29d",
   "metadata": {},
   "source": [
    "##### <a href=\"Renard_Anthony_1_notebook_exploration_012023.ipynb#C72211\"> 7.2.2.1.1 customers_unique_id <a>"
   ]
  },
  {
   "cell_type": "markdown",
   "id": "65b6c75f-3671-49d4-bf96-c9750136e664",
   "metadata": {},
   "source": [
    "<center><img alt=\"univariee\" src=\"images/univariee/nb_cmd_clients.png\"/></center>"
   ]
  },
  {
   "cell_type": "markdown",
   "id": "5a485736-029e-43f9-af5d-dfffa32edf7f",
   "metadata": {},
   "source": [
    "<center><img alt=\"univariee\" src=\"images/univariee/nb_cmd_clients_pourcentage.png\"/></center>"
   ]
  },
  {
   "cell_type": "markdown",
   "id": "2a8d4501-6127-4546-9c31-d369b68d00b8",
   "metadata": {},
   "source": [
    "On remarque que plus de 96% des clients ne font qu'une seule commande"
   ]
  },
  {
   "cell_type": "markdown",
   "id": "1f64d58e-4abc-4952-b233-606c5d8c6db8",
   "metadata": {},
   "source": [
    "##### <a href=\"Renard_Anthony_1_notebook_exploration_012023.ipynb#C72212\"> 7.2.2.1.2 customers_city <a>"
   ]
  },
  {
   "cell_type": "markdown",
   "id": "df733aae-0194-4b77-9b0f-99a87783e215",
   "metadata": {},
   "source": [
    "<center><img alt=\"univariee\" src=\"images/univariee/customer_city.png\"/></center>"
   ]
  },
  {
   "cell_type": "markdown",
   "id": "8635c5b2-6cd7-4261-898d-bc614a4000b0",
   "metadata": {},
   "source": [
    "La plupart des commandes proviennent de Sao Paulo"
   ]
  },
  {
   "cell_type": "markdown",
   "id": "5001ff1d-4ce9-403d-a6ce-2b866ad4361f",
   "metadata": {},
   "source": [
    "#### <a href=\"Renard_Anthony_1_notebook_exploration_012023.ipynb#C7222\"> 7.2.2.2 df_geolocation <a>"
   ]
  },
  {
   "cell_type": "markdown",
   "id": "b3c58fbb-6659-4159-9782-1dbac8964bf8",
   "metadata": {},
   "source": [
    "Pas de variables catégorielles unitaires pertinentes à analyser en analyse univariée."
   ]
  },
  {
   "cell_type": "markdown",
   "id": "c36c67b9-4fcf-4ae3-a8f0-52fefefc4a9e",
   "metadata": {},
   "source": [
    "#### <a href=\"Renard_Anthony_1_notebook_exploration_012023.ipynb#C7223\"> 7.2.2.3 df_order_items <a>"
   ]
  },
  {
   "cell_type": "markdown",
   "id": "2d5f55fe-3eb4-42b2-8f18-8ee9053a9e98",
   "metadata": {},
   "source": [
    "Pas de variables catégorielles unitaires pertinentes à analyser en analyse univariée."
   ]
  },
  {
   "cell_type": "markdown",
   "id": "285a291e-a6ab-4f73-a301-29af2c840ba7",
   "metadata": {},
   "source": [
    "#### <a href=\"Renard_Anthony_1_notebook_exploration_012023.ipynb#C7224\"> 7.2.2.4 df_order_payments <a>"
   ]
  },
  {
   "cell_type": "markdown",
   "id": "a015aa2f-2a13-43fc-bd87-2b0544210172",
   "metadata": {},
   "source": [
    "##### <a href=\"Renard_Anthony_1_notebook_exploration_012023.ipynb#C72241\"> 7.2.2.4.1 payment_type <a>"
   ]
  },
  {
   "cell_type": "markdown",
   "id": "1c608b80-2b8d-4427-b11f-15646a05b400",
   "metadata": {},
   "source": [
    "<center><img alt=\"univariee\" src=\"images/univariee/payment_type.png\"/></center>"
   ]
  },
  {
   "cell_type": "markdown",
   "id": "83e2afdb-1ef5-4e0e-bc1e-9b4facf6f7bd",
   "metadata": {},
   "source": [
    "<center><img alt=\"univariee\" src=\"images/univariee/payment_type_pourcentage.png\"/></center>"
   ]
  },
  {
   "cell_type": "markdown",
   "id": "ee43098b-27a0-47f3-9d38-4252e3ac2d4f",
   "metadata": {},
   "source": [
    "Près de 74% des paiement se font en carte de crédit."
   ]
  },
  {
   "cell_type": "markdown",
   "id": "a04caae4-0134-413e-9a4c-ae8b489aa7ef",
   "metadata": {},
   "source": [
    "#### <a href=\"Renard_Anthony_1_notebook_exploration_012023.ipynb#C7225\"> 7.2.2.5 df_order_reviews <a>"
   ]
  },
  {
   "cell_type": "markdown",
   "id": "9ae0c24d-1ddc-40c0-8bde-ca335d2fa0b3",
   "metadata": {},
   "source": [
    "Pas de variables catégorielles unitaires pertinentes à analyser en analyse univariée."
   ]
  },
  {
   "cell_type": "markdown",
   "id": "f0e833b7-1d27-4887-9978-20677f9cc689",
   "metadata": {},
   "source": [
    "#### <a href=\"Renard_Anthony_1_notebook_exploration_012023.ipynb#C7226\"> 7.2.2.6 df_orders <a>"
   ]
  },
  {
   "cell_type": "markdown",
   "id": "71015320-161e-464c-9169-ab96be3d399c",
   "metadata": {},
   "source": [
    "##### <a href=\"Renard_Anthony_1_notebook_exploration_012023.ipynb#C72261\"> 7.2.2.6.1 order_status <a>"
   ]
  },
  {
   "cell_type": "markdown",
   "id": "4fddeb5d-372c-4e02-afff-bcd8430a433c",
   "metadata": {},
   "source": [
    "<center><img alt=\"univariee\" src=\"images/univariee/order_status.png\"/></center>"
   ]
  },
  {
   "cell_type": "markdown",
   "id": "15c1bc01-f56c-4f47-a914-154755686a48",
   "metadata": {},
   "source": [
    "<center><img alt=\"univariee\" src=\"images/univariee/order_status_pourcentage.png\"/></center>"
   ]
  },
  {
   "cell_type": "markdown",
   "id": "9ca7c1ff-f9fb-49c7-8006-f93ed10fe64a",
   "metadata": {},
   "source": [
    "99,99% des commandes sont livrées."
   ]
  },
  {
   "cell_type": "markdown",
   "id": "e5dba949-5013-4311-88de-c5e710fd2130",
   "metadata": {},
   "source": [
    "##### <a href=\"Renard_Anthony_1_notebook_exploration_012023.ipynb#C72262\"> 7.2.2.6.2 retard_livraison_class <a>"
   ]
  },
  {
   "cell_type": "markdown",
   "id": "3e2a3493-384f-43ee-8f26-3dded656de28",
   "metadata": {},
   "source": [
    "<center><img alt=\"univariee\" src=\"images/univariee/retard_livraison_class.png\"/></center>"
   ]
  },
  {
   "cell_type": "markdown",
   "id": "84ca7e5a-5c7f-46f3-a5ea-5193b6c190c5",
   "metadata": {},
   "source": [
    "<center><img alt=\"univariee\" src=\"images/univariee/retard_livraison_class_pourcentage.png\"/></center>"
   ]
  },
  {
   "cell_type": "markdown",
   "id": "ee36e03c-01d0-442d-8f34-2da6812b04fd",
   "metadata": {},
   "source": [
    "91,9% des livraisons sont à l'heure."
   ]
  },
  {
   "cell_type": "markdown",
   "id": "437bff28-4036-4681-9885-774c3a24fa89",
   "metadata": {},
   "source": [
    "#### <a href=\"Renard_Anthony_1_notebook_exploration_012023.ipynb#C7227\"> 7.2.2.7 df_products <a>"
   ]
  },
  {
   "cell_type": "markdown",
   "id": "b18a9587-a1ea-48c2-8e36-9312aab0ca3f",
   "metadata": {},
   "source": [
    "##### <a href=\"Renard_Anthony_1_notebook_exploration_012023.ipynb#C7227\"> 7.2.2.7.1 product_category_name <a>"
   ]
  },
  {
   "cell_type": "markdown",
   "id": "5b2bc057-bb2f-47f4-86f5-4ca63ae8db20",
   "metadata": {},
   "source": [
    "73 catégories sont disponibles (voir code)"
   ]
  },
  {
   "cell_type": "markdown",
   "id": "91a4da62-8d3c-4644-ac69-2d10a98fa974",
   "metadata": {},
   "source": [
    "#### <a href=\"Renard_Anthony_1_notebook_exploration_012023.ipynb#C7228\"> 7.2.2.8 df_sellers <a>"
   ]
  },
  {
   "cell_type": "markdown",
   "id": "1706f48b-c83c-49b9-acce-bfdaab6637b5",
   "metadata": {},
   "source": [
    "##### <a href=\"Renard_Anthony_1_notebook_exploration_012023.ipynb#C72281\"> 7.2.2.8.1 seller_city <a>"
   ]
  },
  {
   "cell_type": "markdown",
   "id": "40f73f5e-95bd-497c-b346-5f04e76047b4",
   "metadata": {},
   "source": [
    "<center><img alt=\"univariee\" src=\"images/univariee/seller_city.png\"/></center>"
   ]
  },
  {
   "cell_type": "markdown",
   "id": "fe10d77e-1104-4e48-b19b-b572b8085a31",
   "metadata": {},
   "source": [
    "22.42% des vendeurs sont situées à Sao Paulo."
   ]
  },
  {
   "cell_type": "markdown",
   "id": "86f76997-94b3-40f8-b1cf-4e69c9b1547a",
   "metadata": {},
   "source": [
    "##### <a href=\"Renard_Anthony_1_notebook_exploration_012023.ipynb#C7229\"> 7.2.2.9 df_product_category_name_translation <a>"
   ]
  },
  {
   "cell_type": "markdown",
   "id": "50e8d586-afcd-49e8-9554-e883e0295cc7",
   "metadata": {},
   "source": [
    "Pas de variables catégorielles unitaires pertinentes à analyser en analyse univariée."
   ]
  },
  {
   "cell_type": "markdown",
   "id": "57e5f8a2-322e-4db5-9e21-8c2d732ed0b5",
   "metadata": {
    "tags": []
   },
   "source": [
    "# 8. Segmentation"
   ]
  },
  {
   "cell_type": "markdown",
   "id": "4321b22a-0fe7-481f-87c2-7f1b9fcd8c4c",
   "metadata": {},
   "source": [
    "## <a href=\"Renard_Anthony_2_notebook_essais_012023.ipynb#C81\"> 8.1 Sauvegarde dataframe finale <a>"
   ]
  },
  {
   "cell_type": "markdown",
   "id": "da68b4de-f652-402e-9e57-6f25383980b1",
   "metadata": {},
   "source": [
    "Copie de la dataframe finale qui s'appellera df_model afin de revenir à la dataframe initale si nécessaire."
   ]
  },
  {
   "cell_type": "markdown",
   "id": "f599d379-34a1-4966-8f00-80b0f5889f87",
   "metadata": {
    "tags": []
   },
   "source": [
    "## <a href=\"Renard_Anthony_2_notebook_essais_012023.ipynb#C82\"> 8.2 Création de la segmentation <a>"
   ]
  },
  {
   "cell_type": "markdown",
   "id": "edf2c1e2-b302-4f92-804e-b1748197e767",
   "metadata": {},
   "source": [
    "Nous avons aperçu, dans l'analyse multivariée, 3 sujets intéressants qui peuvent nous servir de pilier pour notre raisonnement :<br>\n",
    "1. Récence, Fréquence et Monétaire (RFM)<br>\n",
    "2. Evaluation clientèle<br>\n",
    "3. Retard de livraison<br>\n",
    "\n",
    "Réalisons une segmentation sur ces 3 sujets de manière cumulée :<br>\n",
    "Sujet 1 : RFM<br>\n",
    "Sujet 1+2 : RFM + Evaluation clients <br>\n",
    "Sujet 1+ 2 + 3 : RFM + évaluation clients + Retard de livraison <br>\n"
   ]
  },
  {
   "cell_type": "markdown",
   "id": "e85144e6-2990-47b8-923f-554641a643c8",
   "metadata": {
    "tags": []
   },
   "source": [
    "### <a href=\"Renard_Anthony_2_notebook_essais_012023.ipynb#C821\"> 8.2.1 RFM <a>"
   ]
  },
  {
   "cell_type": "markdown",
   "id": "cefce14d-c016-4d5f-82c6-61c1e44604a0",
   "metadata": {
    "tags": []
   },
   "source": [
    "#### <a href=\"Renard_Anthony_2_notebook_essais_012023.ipynb#C8211\"> 8.2.1.1 kmeans++ <a>"
   ]
  },
  {
   "cell_type": "markdown",
   "id": "bedf798e-2203-4d63-bb51-ca4b5f6006fd",
   "metadata": {
    "tags": []
   },
   "source": [
    "##### <a href=\"Renard_Anthony_2_notebook_essais_012023.ipynb#C82111\"> 8.2.1.1.1 Choix du nombre de clusters <a>"
   ]
  },
  {
   "cell_type": "markdown",
   "id": "f84780bf-7436-4018-aa74-9e6281947558",
   "metadata": {},
   "source": [
    "Nous allons utiliser la méthode du coude avec 3 métriques possibles :\n",
    "<center><img alt=\"coude\" src=\"images/segmentation/rfm/kmpp/nb_clusters/coude_distortion.png\"></center>\n",
    "<center><img alt=\"coude\" src=\"images/segmentation/rfm/kmpp/nb_clusters/coude_harabasz.png\"></center>\n",
    "<center><img alt=\"coude\" src=\"images/segmentation/rfm/kmpp/nb_clusters/coude_silhouette.png\"></center>"
   ]
  },
  {
   "cell_type": "markdown",
   "id": "8661c473-52cd-4253-93a4-920c17dbfea0",
   "metadata": {},
   "source": [
    "On peut ajouter à ces propositions une analyse de silhouette pour observer la densité et la séparation entre les clusters :\n",
    "<center><img alt=\"sil\" src=\"images/segmentation/rfm/kmpp/nb_clusters/silhouette_plot_3.png\"></center>\n",
    "<center><img alt=\"sil\" src=\"images/segmentation/rfm/kmpp/nb_clusters/silhouette_plot_4.png\"></center>\n",
    "<center><img alt=\"sil\" src=\"images/segmentation/rfm/kmpp/nb_clusters/silhouette_plot_5.png\"></center>"
   ]
  },
  {
   "cell_type": "markdown",
   "id": "9035dd6b-026e-4035-a8f3-90e14659ec2e",
   "metadata": {},
   "source": [
    "Nous allons donc prendre 3 clusters : proposition de la méthode du coude avec les métriques Calinski et Silhouette. La silhouette permet de confirmer qu'il n'est pas nécessaire de monter à plus de 3 clusters."
   ]
  },
  {
   "cell_type": "markdown",
   "id": "8e90dc8c-8c26-42ea-bf5e-763a158ccb70",
   "metadata": {},
   "source": [
    "Remarque : nous utiliserons ce même nombre de clusters pour les clustering hiérachique et DBscan pour pouvoir les comparer."
   ]
  },
  {
   "cell_type": "markdown",
   "id": "920c0f18-cfdd-49f6-a40f-ddfde923eea2",
   "metadata": {},
   "source": [
    "##### <a href=\"Renard_Anthony_2_notebook_essais_012023.ipynb#C82112\"> 8.2.1.1.2 Création du clustering <a>"
   ]
  },
  {
   "cell_type": "markdown",
   "id": "d17bc483-a19d-47be-a7ac-ae8de9b9c9b9",
   "metadata": {},
   "source": [
    "Voici le résultat obtenu en terme de classification sur 3 clusters : <br>\n",
    "<center><img alt=\"3d\" src=\"images/segmentation/rfm/kmpp/kmeanpp_rfm3d.png\"></center>\n",
    "<center><img alt=\"pie\" src=\"images/segmentation/rfm/kmpp/kmeanpp_rfm_pie.png\"></center>\n"
   ]
  },
  {
   "cell_type": "markdown",
   "id": "48f6ecf4-d87e-4ee3-8a4a-f6129ff5d12c",
   "metadata": {},
   "source": [
    "<table>\n",
    "      <tr>\n",
    "        <th><center>Clusters</center></th>\n",
    "        <th><center>Quantité</center></th>\n",
    "      </tr>\n",
    "      <tr>\n",
    "        <td><center>0</center></td>\n",
    "        <td><center>37910</center></td>\n",
    "      </tr>\n",
    "      <tr>\n",
    "        <td><center>1</center></td>\n",
    "        <td><center>51303</center></td>\n",
    "      </tr>\n",
    "      <tr>\n",
    "        <td><center>2</center></td>\n",
    "        <td><center>7454</center></td>\n",
    "      </tr>\n",
    "</table>"
   ]
  },
  {
   "cell_type": "markdown",
   "id": "8e3b1336-06ed-4e2a-b19a-3ff6b696478c",
   "metadata": {
    "tags": []
   },
   "source": [
    "### Récence"
   ]
  },
  {
   "cell_type": "markdown",
   "id": "88aa8112-67f1-4ae2-b902-ecf1a37a8ccb",
   "metadata": {},
   "source": [
    "<center><img alt=\"recence\" src=\"images/segmentation/rfm/kmpp/recence.png\"></center>"
   ]
  },
  {
   "cell_type": "markdown",
   "id": "e31283b7-1373-4d1a-a29f-cfb2cefdfdae",
   "metadata": {},
   "source": [
    "###### <a href=\"Renard_Anthony_2_notebook_essais_012023.ipynb#C821121\"> 8.2.1.1.2.1 Clustering 0 <a>"
   ]
  },
  {
   "cell_type": "markdown",
   "id": "ae17236f-ac7c-4624-a0d8-0d8468300318",
   "metadata": {},
   "source": [
    "<center><img alt=\"recence\" src=\"images/segmentation/rfm/kmpp/univ_recence_0.png\"></center>"
   ]
  },
  {
   "cell_type": "markdown",
   "id": "30338d8f-0e61-4114-bbdf-43259cf77dab",
   "metadata": {},
   "source": [
    "<table>\n",
    "      <tr>\n",
    "        <th><center>Nom</center></th>\n",
    "        <th><center>Valeur</center></th>\n",
    "      </tr>\n",
    "      <tr>\n",
    "        <td><center>Min</center></td>\n",
    "        <td><center>257</center></td>\n",
    "      </tr>\n",
    "      <tr>\n",
    "        <td><center>Max</center></td>\n",
    "        <td><center>713</center></td>\n",
    "      </tr>\n",
    "      <tr>\n",
    "        <td><center>Moyenne</center></td>\n",
    "        <td><center>387</center></td>\n",
    "      </tr>\n",
    "        <tr>\n",
    "        <td><center>Mediane</center></td>\n",
    "        <td><center>375</center></td>\n",
    "        </tr>\n",
    "       <tr>\n",
    "        <td><center>Mode</center></td>\n",
    "        <td><center>277</center></td>\n",
    "       </tr>\n",
    "          <tr>\n",
    "        <td><center>Ecart-type</center></td>\n",
    "        <td><center>96</center></td>\n",
    "      </tr>\n",
    "        <tr>\n",
    "        <td><center>Var</center></td>\n",
    "        <td><center>9256</center></td>\n",
    "        </tr>\n",
    "       <tr>\n",
    "        <td><center>CV</center></td>\n",
    "        <td><center>0.25</center></td>\n",
    "       </tr>\n",
    "       <tr>\n",
    "        <td><center>Q1</center></td>\n",
    "        <td><center>299</center></td>\n",
    "       </tr>\n",
    "        <tr>\n",
    "        <td><center>Q2</center></td>\n",
    "        <td><center>375</center></td>\n",
    "       </tr>\n",
    "        <tr>\n",
    "        <td><center>Q3</center></td>\n",
    "        <td><center>462</center></td>\n",
    "       </tr>\n",
    "</table>"
   ]
  },
  {
   "cell_type": "markdown",
   "id": "4d3fc0c5-4465-48d8-8d4a-f5fb7cd52e8c",
   "metadata": {},
   "source": [
    "<b>Tendances centrales</b><br>\n",
    "Le mode est de 277. Ce qui signifie que c'est la valeur la plus fréquente qui apparait dans le jeu de données. Cela étant dit la moyenne globale est de 387 avec une médiane à 375. Cette dernière valeur signifie que j’ai autant de valeurs supérieures ou inférieures à 375.<br>\n",
    "<b>Dispersions</b> <br>\n",
    "Concernant les mesures de dispersions, la variance empirique est de 9256. Cette valeur nous montre que les mesures sont assez dispersées autour de la valeur moyenne. Cette dispersion est aussi illustrée par l'écart-type 96 (qui est tout simplement la racine carrée de la variance empirique). Le coefficient de variation = 0.25 (écart-type empirique/moyenne).<br>\n",
    "Le 1er Quartile = 299 : 25% des valeurs sont en dessous de cette valeur et 75% sont au-dessus<br>\n",
    "Le 2eme Quartile = 375 = valeur médiane vu au-dessus : 50% des valeurs sont en dessous de cette valeur et 50% au-dessus<br>\n",
    "Le 3eme Quartile = 462 = 75% des valeurs sont en dessous de cette valeur et 25% au-dessus<br>\n",
    "L'écart interquartile = 462 - 299 = 163<br>\n",
    "50% des valeurs se situent entre 299 et 462<br>\n",
    "La valeur minimale est 257 et la valeur maximale est 713"
   ]
  },
  {
   "cell_type": "markdown",
   "id": "9a09dc9c-3e70-4ffa-9d89-246cf5d84595",
   "metadata": {},
   "source": [
    "###### <a href=\"Renard_Anthony_2_notebook_essais_012023.ipynb#C821122\"> 8.2.1.1.2.2 Clustering 1 <a>"
   ]
  },
  {
   "cell_type": "markdown",
   "id": "ad05fa92-dfbe-4e20-a00a-4afba12c74c1",
   "metadata": {},
   "source": [
    "<center><img alt=\"recence\" src=\"images/segmentation/rfm/kmpp/univ_recence_1.png\"></center>"
   ]
  },
  {
   "cell_type": "markdown",
   "id": "7a153810-422c-4bb5-bf57-d56e4d7058c2",
   "metadata": {},
   "source": [
    "<table>\n",
    "      <tr>\n",
    "        <th><center>Nom</center></th>\n",
    "        <th><center>Valeur</center></th>\n",
    "      </tr>\n",
    "      <tr>\n",
    "        <td><center>Min</center></td>\n",
    "        <td><center>0</center></td>\n",
    "      </tr>\n",
    "      <tr>\n",
    "        <td><center>Max</center></td>\n",
    "        <td><center>257</center></td>\n",
    "      </tr>\n",
    "      <tr>\n",
    "        <td><center>Moyenne</center></td>\n",
    "        <td><center>127</center></td>\n",
    "      </tr>\n",
    "        <tr>\n",
    "        <td><center>Mediane</center></td>\n",
    "        <td><center>128</center></td>\n",
    "        </tr>\n",
    "       <tr>\n",
    "        <td><center>Mode</center></td>\n",
    "        <td><center>105</center></td>\n",
    "       </tr>\n",
    "          <tr>\n",
    "        <td><center>Ecart-type</center></td>\n",
    "        <td><center>72</center></td>\n",
    "      </tr>\n",
    "        <tr>\n",
    "        <td><center>Var</center></td>\n",
    "        <td><center>5256</center></td>\n",
    "        </tr>\n",
    "       <tr>\n",
    "        <td><center>CV</center></td>\n",
    "        <td><center>0.57</center></td>\n",
    "       </tr>\n",
    "       <tr>\n",
    "        <td><center>Q1</center></td>\n",
    "        <td><center>64</center></td>\n",
    "       </tr>\n",
    "        <tr>\n",
    "        <td><center>Q2</center></td>\n",
    "        <td><center>128</center></td>\n",
    "       </tr>\n",
    "        <tr>\n",
    "        <td><center>Q3</center></td>\n",
    "        <td><center>189</center></td>\n",
    "       </tr>\n",
    "</table>"
   ]
  },
  {
   "cell_type": "markdown",
   "id": "935b8c84-769b-4f5e-9ff9-3c831f9da401",
   "metadata": {},
   "source": [
    "<b>Tendances centrales</b><br>\n",
    "Le mode est de 105. Ce qui signifie que c'est la valeur la plus fréquente qui apparait dans le jeu de données. Cela étant dit la moyenne globale est de 127 avec une médiane à 128. Cette dernière valeur signifie que j’ai autant de valeurs supérieures ou inférieures à 128.<br>\n",
    "<b>Dispersions</b> <br>\n",
    "Concernant les mesures de dispersions, la variance empirique est de 5256. Cette valeur nous montre que les mesures sont assez dispersées autour de la valeur moyenne. Cette dispersion est aussi illustrée par l'écart-type 72 (qui est tout simplement la racine carrée de la variance empirique). Le coefficient de variation = 0.57 (écart-type empirique/moyenne).<br>\n",
    "Le 1er Quartile = 64 : 25% des valeurs sont en dessous de cette valeur et 75% sont au-dessus<br>\n",
    "Le 2eme Quartile = 128 = valeur médiane vu au-dessus : 50% des valeurs sont en dessous de cette valeur et 50% au-dessus<br>\n",
    "Le 3eme Quartile = 189 = 75% des valeurs sont en dessous de cette valeur et 25% au-dessus<br>\n",
    "L'écart interquartile = 189 - 64 = 125<br>\n",
    "50% des valeurs se situent entre 189 et 64<br>\n",
    "La valeur minimale est 0 et la valeur maximale est 257"
   ]
  },
  {
   "cell_type": "markdown",
   "id": "59f6681d-224a-46f9-92c3-669461a674d5",
   "metadata": {},
   "source": [
    "###### <a href=\"Renard_Anthony_2_notebook_essais_012023.ipynb#C821123\"> 8.2.1.1.2.3 Clustering 2 <a>"
   ]
  },
  {
   "cell_type": "markdown",
   "id": "2172919a-41c5-45c1-8f5a-3de92d0c1755",
   "metadata": {},
   "source": [
    "<center><img alt=\"recence\" src=\"images/segmentation/rfm/kmpp/univ_recence_2.png\"></center>"
   ]
  },
  {
   "cell_type": "markdown",
   "id": "a885502b-da0d-4cb1-afaa-c02edcadf2f9",
   "metadata": {},
   "source": [
    "<table>\n",
    "      <tr>\n",
    "        <th><center>Nom</center></th>\n",
    "        <th><center>Valeur</center></th>\n",
    "      </tr>\n",
    "      <tr>\n",
    "        <td><center>Min</center></td>\n",
    "        <td><center>0</center></td>\n",
    "      </tr>\n",
    "      <tr>\n",
    "        <td><center>Max</center></td>\n",
    "        <td><center>690</center></td>\n",
    "      </tr>\n",
    "      <tr>\n",
    "        <td><center>Moyenne</center></td>\n",
    "        <td><center>217</center></td>\n",
    "      </tr>\n",
    "        <tr>\n",
    "        <td><center>Mediane</center></td>\n",
    "        <td><center>196</center></td>\n",
    "        </tr>\n",
    "       <tr>\n",
    "        <td><center>Mode</center></td>\n",
    "        <td><center>277</center></td>\n",
    "       </tr>\n",
    "          <tr>\n",
    "        <td><center>Ecart-type</center></td>\n",
    "        <td><center>142</center></td>\n",
    "      </tr>\n",
    "        <tr>\n",
    "        <td><center>Var</center></td>\n",
    "        <td><center>20056</center></td>\n",
    "        </tr>\n",
    "       <tr>\n",
    "        <td><center>CV</center></td>\n",
    "        <td><center>0.65</center></td>\n",
    "       </tr>\n",
    "       <tr>\n",
    "        <td><center>Q1</center></td>\n",
    "        <td><center>103</center></td>\n",
    "       </tr>\n",
    "        <tr>\n",
    "        <td><center>Q2</center></td>\n",
    "        <td><center>196</center></td>\n",
    "       </tr>\n",
    "        <tr>\n",
    "        <td><center>Q3</center></td>\n",
    "        <td><center>316</center></td>\n",
    "       </tr>\n",
    "</table>"
   ]
  },
  {
   "cell_type": "markdown",
   "id": "0f2929a0-6189-4aec-8736-83ae4f7c18c7",
   "metadata": {},
   "source": [
    "<b>Tendances centrales</b><br>\n",
    "Le mode est de 277. Ce qui signifie que c'est la valeur la plus fréquente qui apparait dans le jeu de données. Cela étant dit la moyenne globale est de 217 avec une médiane à 196. Cette dernière valeur signifie que j’ai autant de valeurs supérieures ou inférieures à 196.<br>\n",
    "<b>Dispersions</b> <br>\n",
    "Concernant les mesures de dispersions, la variance empirique est de 20056. Cette valeur nous montre que les mesures sont assez dispersées autour de la valeur moyenne. Cette dispersion est aussi illustrée par l'écart-type = 142 (qui est tout simplement la racine carrée de la variance empirique). Le coefficient de variation = 0.65 (écart-type empirique/moyenne).<br>\n",
    "Le 1er Quartile = 103 : 25% des valeurs sont en dessous de cette valeur et 75% sont au-dessus<br>\n",
    "Le 2eme Quartile = 196 = valeur médiane vu au-dessus : 50% des valeurs sont en dessous de cette valeur et 50% au-dessus<br>\n",
    "Le 3eme Quartile = 316 = 75% des valeurs sont en dessous de cette valeur et 25% au-dessus<br>\n",
    "L'écart interquartile = 316 - 103 = 213<br>\n",
    "50% des valeurs se situent entre 103 et 316<br>\n",
    "La valeur minimale est 0 et la valeur maximale est 690"
   ]
  },
  {
   "cell_type": "markdown",
   "id": "9565ec6c-4a1e-42d2-b6f3-1bb9b1187300",
   "metadata": {
    "tags": []
   },
   "source": [
    "### Fréquence"
   ]
  },
  {
   "cell_type": "markdown",
   "id": "ec7a3be5-b469-41a2-afeb-e3a1e0d298d3",
   "metadata": {},
   "source": [
    "<center><img alt=\"frequence\" src=\"images/segmentation/rfm/kmpp/frequence.png\"></center>"
   ]
  },
  {
   "cell_type": "markdown",
   "id": "63df44c7-5461-4f72-b284-1e86e1728fa2",
   "metadata": {
    "tags": []
   },
   "source": [
    "###### <a href=\"Renard_Anthony_2_notebook_essais_012023.ipynb#C821121\"> 8.2.1.1.2.1 Clustering 0 <a>"
   ]
  },
  {
   "cell_type": "markdown",
   "id": "498494a1-44b3-4c0b-8811-cebcd75a4dd6",
   "metadata": {},
   "source": [
    "<center><img alt=\"frequence\" src=\"images/segmentation/rfm/kmpp/univ_frequence_0.png\"></center>"
   ]
  },
  {
   "cell_type": "markdown",
   "id": "6201393a-fe87-4198-8302-90c291137ce9",
   "metadata": {},
   "source": [
    "<table>\n",
    "      <tr>\n",
    "        <th><center>Nom</center></th>\n",
    "        <th><center>Valeur</center></th>\n",
    "      </tr>\n",
    "      <tr>\n",
    "        <td><center>Min</center></td>\n",
    "        <td><center>1</center></td>\n",
    "      </tr>\n",
    "      <tr>\n",
    "        <td><center>Max</center></td>\n",
    "        <td><center>2</center></td>\n",
    "      </tr>\n",
    "      <tr>\n",
    "        <td><center>Moyenne</center></td>\n",
    "        <td><center>1</center></td>\n",
    "      </tr>\n",
    "        <tr>\n",
    "        <td><center>Mediane</center></td>\n",
    "        <td><center>1</center></td>\n",
    "        </tr>\n",
    "       <tr>\n",
    "        <td><center>Mode</center></td>\n",
    "        <td><center>1</center></td>\n",
    "       </tr>\n",
    "          <tr>\n",
    "        <td><center>Ecart-type</center></td>\n",
    "        <td><center>0.04</center></td>\n",
    "      </tr>\n",
    "        <tr>\n",
    "        <td><center>Var</center></td>\n",
    "        <td><center>0.001</center></td>\n",
    "        </tr>\n",
    "       <tr>\n",
    "        <td><center>CV</center></td>\n",
    "        <td><center>0.04</center></td>\n",
    "       </tr>\n",
    "       <tr>\n",
    "        <td><center>Q1</center></td>\n",
    "        <td><center>1</center></td>\n",
    "       </tr>\n",
    "        <tr>\n",
    "        <td><center>Q2</center></td>\n",
    "        <td><center>1</center></td>\n",
    "       </tr>\n",
    "        <tr>\n",
    "        <td><center>Q3</center></td>\n",
    "        <td><center>1</center></td>\n",
    "       </tr>\n",
    "</table>"
   ]
  },
  {
   "cell_type": "markdown",
   "id": "eb226597-31eb-403b-8132-2c1164d73fe0",
   "metadata": {},
   "source": [
    "<b>Tendances centrales</b><br>\n",
    "Le mode est de 1. Ce qui signifie que c'est la valeur la plus fréquente qui apparait dans le jeu de données. Cela étant dit la moyenne globale est de 1 avec une médiane à 1. \n",
    "<b>Dispersions</b> <br>\n",
    "Concernant les mesures de dispersions, la variance empirique est de 0.001. Cette valeur nous montre que les mesures sont pratiquement toutes égales à la moyenne. Cette dispersion est aussi illustrée par l'écart-type = 0.04 (qui est tout simplement la racine carrée de la variance empirique). Le coefficient de variation = 0.04 (écart-type empirique/moyenne).<br>\n",
    "Le 1er Quartile = 1 : 25% des valeurs sont en dessous de cette valeur et 75% sont au-dessus<br>\n",
    "Le 2eme Quartile = 1 = valeur médiane vu au-dessus : 50% des valeurs sont en dessous de cette valeur et 50% au-dessus<br>\n",
    "Le 3eme Quartile = 1 = 75% des valeurs sont en dessous de cette valeur et 25% au-dessus<br>\n",
    "L'écart interquartile = 0<br>\n",
    "La valeur minimale est 0 et la valeur maximale est 2"
   ]
  },
  {
   "cell_type": "markdown",
   "id": "0b433ce4-af1b-45c0-94b9-9d72ac2ca1cc",
   "metadata": {
    "tags": []
   },
   "source": [
    "###### <a href=\"Renard_Anthony_2_notebook_essais_012023.ipynb#C821122\"> 8.2.1.1.2.2 Clustering 1 <a>"
   ]
  },
  {
   "cell_type": "markdown",
   "id": "e1caaddc-cb1f-41c4-a533-6e83e6d2d333",
   "metadata": {},
   "source": [
    "<center><img alt=\"frequence\" src=\"images/segmentation/rfm/kmpp/univ_frequence_1.png\"></center>"
   ]
  },
  {
   "cell_type": "markdown",
   "id": "a8cbce90-7f50-421f-b997-d8f5d90b1554",
   "metadata": {},
   "source": [
    "<table>\n",
    "      <tr>\n",
    "        <th><center>Nom</center></th>\n",
    "        <th><center>Valeur</center></th>\n",
    "      </tr>\n",
    "      <tr>\n",
    "        <td><center>Min</center></td>\n",
    "        <td><center>1</center></td>\n",
    "      </tr>\n",
    "      <tr>\n",
    "        <td><center>Max</center></td>\n",
    "        <td><center>1</center></td>\n",
    "      </tr>\n",
    "      <tr>\n",
    "        <td><center>Moyenne</center></td>\n",
    "        <td><center>1</center></td>\n",
    "      </tr>\n",
    "        <tr>\n",
    "        <td><center>Mediane</center></td>\n",
    "        <td><center>1</center></td>\n",
    "        </tr>\n",
    "       <tr>\n",
    "        <td><center>Mode</center></td>\n",
    "        <td><center>1</center></td>\n",
    "       </tr>\n",
    "          <tr>\n",
    "        <td><center>Ecart-type</center></td>\n",
    "        <td><center>0</center></td>\n",
    "      </tr>\n",
    "        <tr>\n",
    "        <td><center>Var</center></td>\n",
    "        <td><center>0</center></td>\n",
    "        </tr>\n",
    "       <tr>\n",
    "        <td><center>CV</center></td>\n",
    "        <td><center>0</center></td>\n",
    "       </tr>\n",
    "       <tr>\n",
    "        <td><center>Q1</center></td>\n",
    "        <td><center>1</center></td>\n",
    "       </tr>\n",
    "        <tr>\n",
    "        <td><center>Q2</center></td>\n",
    "        <td><center>1</center></td>\n",
    "       </tr>\n",
    "        <tr>\n",
    "        <td><center>Q3</center></td>\n",
    "        <td><center>1</center></td>\n",
    "       </tr>\n",
    "</table>"
   ]
  },
  {
   "cell_type": "markdown",
   "id": "150e4c7d-668b-4af7-90a6-bc45af552f17",
   "metadata": {},
   "source": [
    "<b>Tendances centrales</b><br>\n",
    "Le mode est de 1. Ce qui signifie que c'est la valeur la plus fréquente qui apparait dans le jeu de données. Cela étant dit la moyenne globale est de 1 avec une médiane à 1. \n",
    "<b>Dispersions</b> <br>\n",
    "Concernant les mesures de dispersions, la variance empirique est de 0. Cette valeur nous montre que les mesures sont toutes égales à la moyenne. Cette dispersion est aussi illustrée par l'écart-type = 0 (qui est tout simplement la racine carrée de la variance empirique). Le coefficient de variation = 0 (écart-type empirique/moyenne).<br>\n",
    "Le 1er Quartile = 1 : 25% des valeurs sont en dessous de cette valeur et 75% sont au-dessus<br>\n",
    "Le 2eme Quartile = 1 = valeur médiane vu au-dessus : 50% des valeurs sont en dessous de cette valeur et 50% au-dessus<br>\n",
    "Le 3eme Quartile = 1 = 75% des valeurs sont en dessous de cette valeur et 25% au-dessus<br>\n",
    "L'écart interquartile = 0<br>\n",
    "La valeur minimale est 1 et la valeur maximale est 1"
   ]
  },
  {
   "cell_type": "markdown",
   "id": "682e51fc-eba7-4c42-b178-d931a6b938eb",
   "metadata": {
    "tags": []
   },
   "source": [
    "###### <a href=\"Renard_Anthony_2_notebook_essais_012023.ipynb#C821123\"> 8.2.1.1.2.3 Clustering 2 <a>"
   ]
  },
  {
   "cell_type": "markdown",
   "id": "3abcf6ea-6893-46d6-96eb-7f3ac51bbb62",
   "metadata": {},
   "source": [
    "<center><img alt=\"frequence\" src=\"images/segmentation/rfm/kmpp/univ_frequence_2.png\"></center>"
   ]
  },
  {
   "cell_type": "markdown",
   "id": "0808e3ab-60cd-4976-9c5e-218abe05d025",
   "metadata": {},
   "source": [
    "<table>\n",
    "      <tr>\n",
    "        <th><center>Nom</center></th>\n",
    "        <th><center>Valeur</center></th>\n",
    "      </tr>\n",
    "      <tr>\n",
    "        <td><center>Min</center></td>\n",
    "        <td><center>1</center></td>\n",
    "      </tr>\n",
    "      <tr>\n",
    "        <td><center>Max</center></td>\n",
    "        <td><center>15</center></td>\n",
    "      </tr>\n",
    "      <tr>\n",
    "        <td><center>Moyenne</center></td>\n",
    "        <td><center>2</center></td>\n",
    "      </tr>\n",
    "        <tr>\n",
    "        <td><center>Mediane</center></td>\n",
    "        <td><center>2</center></td>\n",
    "        </tr>\n",
    "       <tr>\n",
    "        <td><center>Mode</center></td>\n",
    "        <td><center>2</center></td>\n",
    "       </tr>\n",
    "          <tr>\n",
    "        <td><center>Ecart-type</center></td>\n",
    "        <td><center>1</center></td>\n",
    "      </tr>\n",
    "        <tr>\n",
    "        <td><center>Var</center></td>\n",
    "        <td><center>1</center></td>\n",
    "        </tr>\n",
    "       <tr>\n",
    "        <td><center>CV</center></td>\n",
    "        <td><center>0.5</center></td>\n",
    "       </tr>\n",
    "       <tr>\n",
    "        <td><center>Q1</center></td>\n",
    "        <td><center>2</center></td>\n",
    "       </tr>\n",
    "        <tr>\n",
    "        <td><center>Q2</center></td>\n",
    "        <td><center>2</center></td>\n",
    "       </tr>\n",
    "        <tr>\n",
    "        <td><center>Q3</center></td>\n",
    "        <td><center>2</center></td>\n",
    "       </tr>\n",
    "</table>"
   ]
  },
  {
   "cell_type": "markdown",
   "id": "d065a85b-d5b6-40be-9c47-36509a21c2ca",
   "metadata": {},
   "source": [
    "<b>Tendances centrales</b><br>\n",
    "Le mode est de 2. Ce qui signifie que c'est la valeur la plus fréquente qui apparait dans le jeu de données. Cela étant dit la moyenne globale est de 2 avec une médiane à 2.\n",
    "<b>Dispersions</b> <br>\n",
    "Concernant les mesures de dispersions, la variance empirique est de 1. Cette valeur nous montre que les mesures sont très peu dispersées autour de la valeur moyenne. Cette dispersion est aussi illustrée par l'écart-type = 1 (qui est tout simplement la racine carrée de la variance empirique). Le coefficient de variation = 0.5 (écart-type empirique/moyenne).<br>\n",
    "Le 1er Quartile = 2 : 25% des valeurs sont en dessous de cette valeur et 75% sont au-dessus<br>\n",
    "Le 2eme Quartile = 2 = valeur médiane vu au-dessus : 50% des valeurs sont en dessous de cette valeur et 50% au-dessus<br>\n",
    "Le 3eme Quartile = 2 = 75% des valeurs sont en dessous de cette valeur et 25% au-dessus<br>\n",
    "L'écart interquartile = 0<br>\n",
    "La valeur minimale est 1 et la valeur maximale est 15"
   ]
  },
  {
   "cell_type": "markdown",
   "id": "2d43910d-3a81-4761-b9f7-9c4a583c11cf",
   "metadata": {
    "tags": []
   },
   "source": [
    "### Montant"
   ]
  },
  {
   "cell_type": "markdown",
   "id": "ceaa7ab4-3b29-4ba4-a8d9-328be2fa3038",
   "metadata": {},
   "source": [
    "<center><img alt=\"montant\" src=\"images/segmentation/rfm/kmpp/montant.png\"></center>"
   ]
  },
  {
   "cell_type": "markdown",
   "id": "f1567d01-86e2-4cc0-8f8d-139142bdae42",
   "metadata": {
    "tags": []
   },
   "source": [
    "###### <a href=\"Renard_Anthony_2_notebook_essais_012023.ipynb#C821121\"> 8.2.1.1.1. Clustering 0 <a>"
   ]
  },
  {
   "cell_type": "markdown",
   "id": "d7e31e85-50e9-4b45-838d-0332351b87e8",
   "metadata": {},
   "source": [
    "<center><img alt=\"montant\" src=\"images/segmentation/rfm/kmpp/univ_montant_0.png\"></center>"
   ]
  },
  {
   "cell_type": "markdown",
   "id": "5b4d8286-08e0-43ee-a5ce-17b6697c6a04",
   "metadata": {},
   "source": [
    "<table>\n",
    "      <tr>\n",
    "        <th><center>Nom</center></th>\n",
    "        <th><center>Valeur</center></th>\n",
    "      </tr>\n",
    "      <tr>\n",
    "        <td><center>Min</center></td>\n",
    "        <td><center>10</center></td>\n",
    "      </tr>\n",
    "      <tr>\n",
    "        <td><center>Max</center></td>\n",
    "        <td><center>1047</center></td>\n",
    "      </tr>\n",
    "      <tr>\n",
    "        <td><center>Moyenne</center></td>\n",
    "        <td><center>140</center></td>\n",
    "      </tr>\n",
    "        <tr>\n",
    "        <td><center>Mediane</center></td>\n",
    "        <td><center>102</center></td>\n",
    "        </tr>\n",
    "       <tr>\n",
    "        <td><center>Mode</center></td>\n",
    "        <td><center>78</center></td>\n",
    "       </tr>\n",
    "          <tr>\n",
    "        <td><center>Ecart-type</center></td>\n",
    "        <td><center>126</center></td>\n",
    "      </tr>\n",
    "        <tr>\n",
    "        <td><center>Var</center></td>\n",
    "        <td><center>15835</center></td>\n",
    "        </tr>\n",
    "       <tr>\n",
    "        <td><center>CV</center></td>\n",
    "        <td><center>0.9</center></td>\n",
    "       </tr>\n",
    "       <tr>\n",
    "        <td><center>Q1</center></td>\n",
    "        <td><center>62</center></td>\n",
    "       </tr>\n",
    "        <tr>\n",
    "        <td><center>Q2</center></td>\n",
    "        <td><center>102</center></td>\n",
    "       </tr>\n",
    "        <tr>\n",
    "        <td><center>Q3</center></td>\n",
    "        <td><center>170</center></td>\n",
    "       </tr>\n",
    "</table>"
   ]
  },
  {
   "cell_type": "markdown",
   "id": "59476086-2f6b-4740-8c77-ddbbae929295",
   "metadata": {},
   "source": [
    "<b>Tendances centrales</b><br>\n",
    "Le mode est de 78. Ce qui signifie que c'est la valeur la plus fréquente qui apparait dans le jeu de données. Cela étant dit la moyenne globale est de 140 avec une médiane à 102. Cette dernière valeur signifie que j’ai autant de valeurs supérieures ou inférieures à 102.<br>\n",
    "<b>Dispersions</b> <br>\n",
    "Concernant les mesures de dispersions, la variance empirique est de 15835. Cette valeur nous montre que les mesures sont assez dispersées autour de la valeur moyenne. Cette dispersion est aussi illustrée par l'écart-type 126 (qui est tout simplement la racine carrée de la variance empirique). Le coefficient de variation = 0.9 (écart-type empirique/moyenne).<br>\n",
    "Le 1er Quartile = 62 : 25% des valeurs sont en dessous de cette valeur et 75% sont au-dessus<br>\n",
    "Le 2eme Quartile = 102 = valeur médiane vu au-dessus : 50% des valeurs sont en dessous de cette valeur et 50% au-dessus<br>\n",
    "Le 3eme Quartile = 170 = 75% des valeurs sont en dessous de cette valeur et 25% au-dessus<br>\n",
    "L'écart interquartile = 170 - 62 = 108<br>\n",
    "50% des valeurs se situent entre 62 et 170<br>\n",
    "La valeur minimale est 10 et la valeur maximale est 1047"
   ]
  },
  {
   "cell_type": "markdown",
   "id": "825a18bb-c671-4d13-baf8-6d67431074c0",
   "metadata": {
    "tags": []
   },
   "source": [
    "###### <a href=\"Renard_Anthony_2_notebook_essais_012023.ipynb#C821122\"> 8.2.1.1.2 Clustering 1 <a>"
   ]
  },
  {
   "cell_type": "markdown",
   "id": "4cf2771f-ae50-45cb-90e8-d803858242c7",
   "metadata": {},
   "source": [
    "<center><img alt=\"montant\" src=\"images/segmentation/rfm/kmpp/univ_montant_1.png\"></center>"
   ]
  },
  {
   "cell_type": "markdown",
   "id": "99482722-7b99-40a8-b069-5e9888effd76",
   "metadata": {},
   "source": [
    "<table>\n",
    "      <tr>\n",
    "        <th><center>Nom</center></th>\n",
    "        <th><center>Valeur</center></th>\n",
    "      </tr>\n",
    "      <tr>\n",
    "        <td><center>Min</center></td>\n",
    "        <td><center>10</center></td>\n",
    "      </tr>\n",
    "      <tr>\n",
    "        <td><center>Max</center></td>\n",
    "        <td><center>862</center></td>\n",
    "      </tr>\n",
    "      <tr>\n",
    "        <td><center>Moyenne</center></td>\n",
    "        <td><center>139</center></td>\n",
    "      </tr>\n",
    "        <tr>\n",
    "        <td><center>Mediane</center></td>\n",
    "        <td><center>105</center></td>\n",
    "        </tr>\n",
    "       <tr>\n",
    "        <td><center>Mode</center></td>\n",
    "        <td><center>100</center></td>\n",
    "       </tr>\n",
    "          <tr>\n",
    "        <td><center>Ecart-type</center></td>\n",
    "        <td><center>119</center></td>\n",
    "      </tr>\n",
    "        <tr>\n",
    "        <td><center>Var</center></td>\n",
    "        <td><center>14223</center></td>\n",
    "        </tr>\n",
    "       <tr>\n",
    "        <td><center>CV</center></td>\n",
    "        <td><center>0.86</center></td>\n",
    "       </tr>\n",
    "       <tr>\n",
    "        <td><center>Q1</center></td>\n",
    "        <td><center>61</center></td>\n",
    "       </tr>\n",
    "        <tr>\n",
    "        <td><center>Q2</center></td>\n",
    "        <td><center>105</center></td>\n",
    "       </tr>\n",
    "        <tr>\n",
    "        <td><center>Q3</center></td>\n",
    "        <td><center>172</center></td>\n",
    "       </tr>\n",
    "</table>"
   ]
  },
  {
   "cell_type": "markdown",
   "id": "d409a396-6b3c-41cc-883f-822417de9af9",
   "metadata": {},
   "source": [
    "<b>Tendances centrales</b><br>\n",
    "Le mode est de 100. Ce qui signifie que c'est la valeur la plus fréquente qui apparait dans le jeu de données. Cela étant dit la moyenne globale est de 139 avec une médiane à 105. Cette dernière valeur signifie que j’ai autant de valeurs supérieures ou inférieures à 105.<br>\n",
    "<b>Dispersions</b> <br>\n",
    "Concernant les mesures de dispersions, la variance empirique est de 14223. Cette valeur nous montre que les mesures sont assez dispersées autour de la valeur moyenne. Cette dispersion est aussi illustrée par l'écart-type 119 (qui est tout simplement la racine carrée de la variance empirique). Le coefficient de variation = 0.86 (écart-type empirique/moyenne).<br>\n",
    "Le 1er Quartile = 61 : 25% des valeurs sont en dessous de cette valeur et 75% sont au-dessus<br>\n",
    "Le 2eme Quartile = 105 = valeur médiane vu au-dessus : 50% des valeurs sont en dessous de cette valeur et 50% au-dessus<br>\n",
    "Le 3eme Quartile = 172 = 75% des valeurs sont en dessous de cette valeur et 25% au-dessus<br>\n",
    "L'écart interquartile = 172 - 61 = 111<br>\n",
    "50% des valeurs se situent entre 61 et 172<br>\n",
    "La valeur minimale est 10 et la valeur maximale est 862"
   ]
  },
  {
   "cell_type": "markdown",
   "id": "a3732a5c-4f2a-4a9c-9319-0e417a76f9d4",
   "metadata": {
    "tags": []
   },
   "source": [
    "###### <a href=\"Renard_Anthony_2_notebook_essais_012023.ipynb#C821123\"> 8.2.1.1.3 Clustering 2 <a>"
   ]
  },
  {
   "cell_type": "markdown",
   "id": "f1a0393b-8d54-48a9-b74a-ed74e4e2210b",
   "metadata": {},
   "source": [
    "<center><img alt=\"montant\" src=\"images/segmentation/rfm/kmpp/univ_montant_2.png\"></center>"
   ]
  },
  {
   "cell_type": "markdown",
   "id": "88f1dc6c-ab2b-4a74-9d5a-ceecf0d73b0c",
   "metadata": {},
   "source": [
    "<table>\n",
    "      <tr>\n",
    "        <th><center>Nom</center></th>\n",
    "        <th><center>Valeur</center></th>\n",
    "      </tr>\n",
    "      <tr>\n",
    "        <td><center>Min</center></td>\n",
    "        <td><center>36</center></td>\n",
    "      </tr>\n",
    "      <tr>\n",
    "        <td><center>Max</center></td>\n",
    "        <td><center>13664</center></td>\n",
    "      </tr>\n",
    "      <tr>\n",
    "        <td><center>Moyenne</center></td>\n",
    "        <td><center>545</center></td>\n",
    "      </tr>\n",
    "        <tr>\n",
    "        <td><center>Mediane</center></td>\n",
    "        <td><center>297</center></td>\n",
    "        </tr>\n",
    "       <tr>\n",
    "        <td><center>Mode</center></td>\n",
    "        <td><center>879</center></td>\n",
    "       </tr>\n",
    "          <tr>\n",
    "        <td><center>Ecart-type</center></td>\n",
    "        <td><center>616</center></td>\n",
    "      </tr>\n",
    "        <tr>\n",
    "        <td><center>Var</center></td>\n",
    "        <td><center>379584</center></td>\n",
    "        </tr>\n",
    "       <tr>\n",
    "        <td><center>CV</center></td>\n",
    "        <td><center>1.13</center></td>\n",
    "       </tr>\n",
    "       <tr>\n",
    "        <td><center>Q1</center></td>\n",
    "        <td><center>171</center></td>\n",
    "       </tr>\n",
    "        <tr>\n",
    "        <td><center>Q2</center></td>\n",
    "        <td><center>297</center></td>\n",
    "       </tr>\n",
    "        <tr>\n",
    "        <td><center>Q3</center></td>\n",
    "        <td><center>806</center></td>\n",
    "       </tr>\n",
    "</table>"
   ]
  },
  {
   "cell_type": "markdown",
   "id": "17049502-1723-4c60-9426-edb8e4534e99",
   "metadata": {},
   "source": [
    "<b>Tendances centrales</b><br>\n",
    "Le mode est de 879. Ce qui signifie que c'est la valeur la plus fréquente qui apparait dans le jeu de données. Cela étant dit la moyenne globale est de 545 avec une médiane à 297. Cette dernière valeur signifie que j’ai autant de valeurs supérieures ou inférieures à 297.<br>\n",
    "<b>Dispersions</b> <br>\n",
    "Concernant les mesures de dispersions, la variance empirique est de 379584. Cette valeur nous montre que les mesures sont très dispersées autour de la valeur moyenne. Cette dispersion est aussi illustrée par l'écart-type = 616 (qui est tout simplement la racine carrée de la variance empirique). Le coefficient de variation = 1.13 (écart-type empirique/moyenne).<br>\n",
    "Le 1er Quartile = 171 : 25% des valeurs sont en dessous de cette valeur et 75% sont au-dessus<br>\n",
    "Le 2eme Quartile = 297 = valeur médiane vu au-dessus : 50% des valeurs sont en dessous de cette valeur et 50% au-dessus<br>\n",
    "Le 3eme Quartile = 806 = 75% des valeurs sont en dessous de cette valeur et 25% au-dessus<br>\n",
    "L'écart interquartile = 806 - 171 = 635<br>\n",
    "50% des valeurs se situent entre 171 et 806<br>\n",
    "La valeur minimale est 36 et la valeur maximale est 13664"
   ]
  },
  {
   "cell_type": "markdown",
   "id": "379be85a-49c5-4a38-a699-6000a6ed6df8",
   "metadata": {},
   "source": [
    "#### 8.2.1.2 Comparaison avec Clustering Hiérarchique et DBSCAN"
   ]
  },
  {
   "cell_type": "markdown",
   "id": "20b373c1-8598-42f8-9d82-541b51259727",
   "metadata": {},
   "source": [
    "Afin de constater comment la classification est fait avec d'autres classifieurs, nous avons choisi de segmenter le même jeu de données avec le  <a href=\"Renard_Anthony_2_notebook_essais_012023.ipynb#C82112\"> Clustering hiérarchique <a> et  <a href=\"Renard_Anthony_2_notebook_essais_012023.ipynb#C8213\"> DBSCAN <a>. Voici les résultats : "
   ]
  },
  {
   "cell_type": "markdown",
   "id": "891749e9-8181-472c-a7c0-7549ceaf0084",
   "metadata": {},
   "source": [
    "<center><img alt=\"comparaison\" src=\"images/segmentation/rfm/kmpp/comparaison.png\"></center>"
   ]
  },
  {
   "cell_type": "markdown",
   "id": "5c5566b4-cb81-440e-b6ed-eb84270403b6",
   "metadata": {},
   "source": [
    "On constate que Clustering Hiérarchique se rapproche fortement de Kmeans++ en terme de classification. En revanche, DBSCAN sort du lot proposant 3 classes principales dont une contenant 90% des clients. Etant donné que les classes les plus équilibrées (même si ça n'est pas un équilibrage parfait) sont proposés par kmeans++, nous allons garder ce classifieur pour la suite de notre étude."
   ]
  },
  {
   "cell_type": "markdown",
   "id": "204f1d93-e843-4b05-ade4-19b226f771ed",
   "metadata": {},
   "source": [
    "### BILAN"
   ]
  },
  {
   "cell_type": "markdown",
   "id": "cfe1cccd-5d1a-47d8-82a3-e3705bd69718",
   "metadata": {},
   "source": [
    "<center><img alt=\"bilan_rfm\" src=\"images/segmentation/rfm/kmpp/bilan_rfm.png\"></center>"
   ]
  },
  {
   "cell_type": "markdown",
   "id": "fc606100-fd2e-4651-8c6b-f40b376b221d",
   "metadata": {
    "tags": []
   },
   "source": [
    "### <a href=\"Renard_Anthony_2_notebook_essais_012023.ipynb#C822\"> 8.2.2 RFM + évaluation client <a>"
   ]
  },
  {
   "cell_type": "markdown",
   "id": "b064fa5c-cbf2-4020-afd4-69ddee9d4424",
   "metadata": {},
   "source": [
    "Nous allons maintenant intégrer la notion d'évaluation \"client\" à notre classification (4eme axes de réflexion qui ressort de l'analyse multivariée)"
   ]
  },
  {
   "cell_type": "markdown",
   "id": "9796d010-3c72-4b40-911b-f290d4edebea",
   "metadata": {
    "tags": []
   },
   "source": [
    "#### <a href=\"Renard_Anthony_2_notebook_essais_012023.ipynb#C8221\"> 8.2.2.1 kmeans++ <a>"
   ]
  },
  {
   "cell_type": "markdown",
   "id": "5e178615-83f4-4b50-ac38-57c355203e6d",
   "metadata": {
    "tags": []
   },
   "source": [
    "##### <a href=\"Renard_Anthony_2_notebook_essais_012023.ipynb#C8221\"> 8.2.2.1.1 Choix du nombre de clusters <a>"
   ]
  },
  {
   "cell_type": "markdown",
   "id": "7d0a6773-0904-4073-830d-5bc64d58502b",
   "metadata": {},
   "source": [
    "Nous allons utiliser la méthode du coude avec 3 métriques possibles :\n",
    "<center><img alt=\"coude\" src=\"images/segmentation/rfme/kmpp/nb_clusters/coude_distortion.png\"></center>\n",
    "<center><img alt=\"coude\" src=\"images/segmentation/rfme/kmpp/nb_clusters/coude_calinski.png\"></center>\n",
    "<center><img alt=\"coude\" src=\"images/segmentation/rfme/kmpp/nb_clusters/coude_silhouette.png\"></center>"
   ]
  },
  {
   "cell_type": "markdown",
   "id": "a056024f-e08d-4179-b67f-cd001b3b8fa0",
   "metadata": {},
   "source": [
    "On peut ajouter à ces propositions une analyse de silhouette pour observer la densité et la séparation entre les clusters :\n",
    "<center><img alt=\"sil\" src=\"images/segmentation/rfme/kmpp/nb_clusters/silhouette_plot_2.png\"></center>\n",
    "<center><img alt=\"sil\" src=\"images/segmentation/rfme/kmpp/nb_clusters/silhouette_plot_3.png\"></center>\n",
    "<center><img alt=\"sil\" src=\"images/segmentation/rfme/kmpp/nb_clusters/silhouette_plot_4.png\"></center>\n",
    "<center><img alt=\"sil\" src=\"images/segmentation/rfme/kmpp/nb_clusters/silhouette_plot_5.png\"></center>"
   ]
  },
  {
   "cell_type": "markdown",
   "id": "a08680bb-64df-4b38-a527-c47bd9b46a47",
   "metadata": {},
   "source": [
    "Au vu des silhouettes, nous allons choisir 3 clusters car elle paraissent les plus équilibrées."
   ]
  },
  {
   "cell_type": "markdown",
   "id": "5d4dcdca-3530-48eb-b50a-b5d37254f3d9",
   "metadata": {
    "tags": []
   },
   "source": [
    "##### <a href=\"Renard_Anthony_2_notebook_essais_012023.ipynb#C82212\"> 8.2.2.1.2 Création du clustering <a>"
   ]
  },
  {
   "cell_type": "markdown",
   "id": "1d71f297-3b9f-41e0-b029-2746fac4a421",
   "metadata": {},
   "source": [
    "Voici le résultat obtenu en terme de classification sur 3 clusters : <br>\n",
    "<center><img alt=\"rfme\" src=\"images/segmentation/rfme/kmpp/kmeanpp_rfme3d_fme.png\"></center>\n",
    "<center><img alt=\"rfme\" src=\"images/segmentation/rfme/kmpp/kmeanpp_rfme3d_rfe.png\"></center>\n",
    "<center><img alt=\"rfme\" src=\"images/segmentation/rfme/kmpp/kmeanpp_rfme3d_rfm.png\"></center>\n",
    "<center><img alt=\"rfme\" src=\"images/segmentation/rfme/kmpp/kmeanpp_rfme3d_rme.png\"></center>\n",
    "<center><img alt=\"rfme\" src=\"images/segmentation/rfme/kmpp/kmeanpp_rfme_pie.png\"></center>"
   ]
  },
  {
   "cell_type": "markdown",
   "id": "a7332b9b-15a5-4d6c-8c2f-67aeed23a6fc",
   "metadata": {},
   "source": [
    "<table>\n",
    "      <tr>\n",
    "        <th><center>Clusters</center></th>\n",
    "        <th><center>Quantité</center></th>\n",
    "      </tr>\n",
    "      <tr>\n",
    "        <td><center>0</center></td>\n",
    "        <td><center>16931</center></td>\n",
    "      </tr>\n",
    "      <tr>\n",
    "        <td><center>1</center></td>\n",
    "        <td><center>33775</center></td>\n",
    "      </tr>\n",
    "      <tr>\n",
    "        <td><center>2</center></td>\n",
    "        <td><center>45109</center></td>\n",
    "      </tr>\n",
    "</table>"
   ]
  },
  {
   "cell_type": "markdown",
   "id": "afe09da4-00ea-46df-8997-961b4cc329fd",
   "metadata": {
    "tags": []
   },
   "source": [
    "### Récence"
   ]
  },
  {
   "cell_type": "markdown",
   "id": "1d5eb003-784f-48b1-b1b7-dc83f5f7c754",
   "metadata": {},
   "source": [
    "<center><img alt=\"recence\" src=\"images/segmentation/rfme/kmpp/recence.png\"></center>"
   ]
  },
  {
   "cell_type": "markdown",
   "id": "945a8025-e046-4c2e-85ff-dbb5eeec6ad0",
   "metadata": {
    "tags": []
   },
   "source": [
    "###### <a href=\"Renard_Anthony_2_notebook_essais_012023.ipynb#C822121\"> 8.2.2.1.2.1 Clustering 0 <a>"
   ]
  },
  {
   "cell_type": "markdown",
   "id": "2838433d-bb3a-4f7f-8d80-9d8f2d59e570",
   "metadata": {},
   "source": [
    "<center><img alt=\"recence\" src=\"images/segmentation/rfme/kmpp/univ_recence_0.png\"></center>"
   ]
  },
  {
   "cell_type": "markdown",
   "id": "c26036bb-890c-455a-85c4-b1202f295cba",
   "metadata": {},
   "source": [
    "<table>\n",
    "      <tr>\n",
    "        <th><center>Nom</center></th>\n",
    "        <th><center>Valeur</center></th>\n",
    "      </tr>\n",
    "      <tr>\n",
    "        <td><center>Min</center></td>\n",
    "        <td><center>0</center></td>\n",
    "      </tr>\n",
    "      <tr>\n",
    "        <td><center>Max</center></td>\n",
    "        <td><center>713</center></td>\n",
    "      </tr>\n",
    "      <tr>\n",
    "        <td><center>Moyenne</center></td>\n",
    "        <td><center>229</center></td>\n",
    "      </tr>\n",
    "        <tr>\n",
    "        <td><center>Mediane</center></td>\n",
    "        <td><center>210</center></td>\n",
    "        </tr>\n",
    "       <tr>\n",
    "        <td><center>Mode</center></td>\n",
    "        <td><center>277</center></td>\n",
    "       </tr>\n",
    "          <tr>\n",
    "        <td><center>Ecart-type</center></td>\n",
    "        <td><center>126</center></td>\n",
    "      </tr>\n",
    "        <tr>\n",
    "        <td><center>Var</center></td>\n",
    "        <td><center>15914</center></td>\n",
    "        </tr>\n",
    "       <tr>\n",
    "        <td><center>CV</center></td>\n",
    "        <td><center>0.55</center></td>\n",
    "       </tr>\n",
    "       <tr>\n",
    "        <td><center>Q1</center></td>\n",
    "        <td><center>146</center></td>\n",
    "       </tr>\n",
    "        <tr>\n",
    "        <td><center>Q2</center></td>\n",
    "        <td><center>210</center></td>\n",
    "       </tr>\n",
    "        <tr>\n",
    "        <td><center>Q3</center></td>\n",
    "        <td><center>287</center></td>\n",
    "       </tr>\n",
    "</table>"
   ]
  },
  {
   "cell_type": "markdown",
   "id": "d76a491f-a954-47b9-9e9f-2092543c2638",
   "metadata": {},
   "source": [
    "<b>Tendances centrales</b><br>\n",
    "Le mode est de 277. Ce qui signifie que c'est la valeur la plus fréquente qui apparait dans le jeu de données. Cela étant dit la moyenne globale est de 229 avec une médiane à 210. Cette dernière valeur signifie que j’ai autant de valeurs supérieures ou inférieures à 210.<br>\n",
    "<b>Dispersions</b> <br>\n",
    "Concernant les mesures de dispersions, la variance empirique est de 15914. Cette valeur nous montre que les mesures sont assez dispersées autour de la valeur moyenne. Cette dispersion est aussi illustrée par l'écart-type 126 (qui est tout simplement la racine carrée de la variance empirique). Le coefficient de variation = 0.55 (écart-type empirique/moyenne).<br>\n",
    "Le 1er Quartile = 146 : 25% des valeurs sont en dessous de cette valeur et 75% sont au-dessus<br>\n",
    "Le 2eme Quartile = 210 = valeur médiane vu au-dessus : 50% des valeurs sont en dessous de cette valeur et 50% au-dessus<br>\n",
    "Le 3eme Quartile = 287 = 75% des valeurs sont en dessous de cette valeur et 25% au-dessus<br>\n",
    "L'écart interquartile = 287 - 146 = 141<br>\n",
    "50% des valeurs se situent entre 146 et 287<br>\n",
    "La valeur minimale est 0 et la valeur maximale est 713"
   ]
  },
  {
   "cell_type": "markdown",
   "id": "a409361f-d846-43c0-b091-e0bc9c05d92a",
   "metadata": {
    "tags": []
   },
   "source": [
    "###### <a href=\"Renard_Anthony_2_notebook_essais_012023.ipynb#C822122\"> 8.2.2.1.2.2 Clustering 1 <a>"
   ]
  },
  {
   "cell_type": "markdown",
   "id": "c710cf45-38e7-4be6-a22d-2d14c9258d6d",
   "metadata": {},
   "source": [
    "<center><img alt=\"recence\" src=\"images/segmentation/rfme/kmpp/univ_recence_1.png\"></center>"
   ]
  },
  {
   "cell_type": "markdown",
   "id": "d5a060c7-85e1-4bae-8f63-1e668bd99b26",
   "metadata": {},
   "source": [
    "<table>\n",
    "      <tr>\n",
    "        <th><center>Nom</center></th>\n",
    "        <th><center>Valeur</center></th>\n",
    "      </tr>\n",
    "      <tr>\n",
    "        <td><center>Min</center></td>\n",
    "        <td><center>249</center></td>\n",
    "      </tr>\n",
    "      <tr>\n",
    "        <td><center>Max</center></td>\n",
    "        <td><center>694</center></td>\n",
    "      </tr>\n",
    "      <tr>\n",
    "        <td><center>Moyenne</center></td>\n",
    "        <td><center>392</center></td>\n",
    "      </tr>\n",
    "        <tr>\n",
    "        <td><center>Mediane</center></td>\n",
    "        <td><center>381</center></td>\n",
    "        </tr>\n",
    "       <tr>\n",
    "        <td><center>Mode</center></td>\n",
    "        <td><center>277</center></td>\n",
    "       </tr>\n",
    "          <tr>\n",
    "        <td><center>Ecart-type</center></td>\n",
    "        <td><center>95</center></td>\n",
    "      </tr>\n",
    "        <tr>\n",
    "        <td><center>Var</center></td>\n",
    "        <td><center>9056</center></td>\n",
    "        </tr>\n",
    "       <tr>\n",
    "        <td><center>CV</center></td>\n",
    "        <td><center>0.24</center></td>\n",
    "       </tr>\n",
    "       <tr>\n",
    "        <td><center>Q1</center></td>\n",
    "        <td><center>308</center></td>\n",
    "       </tr>\n",
    "        <tr>\n",
    "        <td><center>Q2</center></td>\n",
    "        <td><center>381</center></td>\n",
    "       </tr>\n",
    "        <tr>\n",
    "        <td><center>Q3</center></td>\n",
    "        <td><center>464</center></td>\n",
    "       </tr>\n",
    "</table>"
   ]
  },
  {
   "cell_type": "markdown",
   "id": "b546e270-e1c4-4ea0-a065-4a84cff083ec",
   "metadata": {},
   "source": [
    "<b>Tendances centrales</b><br>\n",
    "Le mode est de 277. Ce qui signifie que c'est la valeur la plus fréquente qui apparait dans le jeu de données. Cela étant dit la moyenne globale est de 392 avec une médiane à 381. Cette dernière valeur signifie que j’ai autant de valeurs supérieures ou inférieures à 381.<br>\n",
    "<b>Dispersions</b> <br>\n",
    "Concernant les mesures de dispersions, la variance empirique est de 9056. Cette valeur nous montre que les mesures sont assez dispersées autour de la valeur moyenne. Cette dispersion est aussi illustrée par l'écart-type = 95 (qui est tout simplement la racine carrée de la variance empirique). Le coefficient de variation = 0.24 (écart-type empirique/moyenne).<br>\n",
    "Le 1er Quartile = 308 : 25% des valeurs sont en dessous de cette valeur et 75% sont au-dessus<br>\n",
    "Le 2eme Quartile = 381 = valeur médiane vu au-dessus : 50% des valeurs sont en dessous de cette valeur et 50% au-dessus<br>\n",
    "Le 3eme Quartile = 464 = 75% des valeurs sont en dessous de cette valeur et 25% au-dessus<br>\n",
    "L'écart interquartile = 464 - 308 = 156<br>\n",
    "50% des valeurs se situent entre 308 et 464<br>\n",
    "La valeur minimale est 249 et la valeur maximale est 694"
   ]
  },
  {
   "cell_type": "markdown",
   "id": "dd0a16f0-7a29-4ab7-9653-3ec0d78437eb",
   "metadata": {
    "tags": []
   },
   "source": [
    "###### <a href=\"Renard_Anthony_2_notebook_essais_012023.ipynb#C822123\"> 8.2.2.1.2.3 Clustering 2 <a>"
   ]
  },
  {
   "cell_type": "markdown",
   "id": "db096474-90ae-4bdc-925a-086cbef1eccd",
   "metadata": {},
   "source": [
    "<center><img alt=\"recence\" src=\"images/segmentation/rfme/kmpp/univ_recence_2.png\"></center>"
   ]
  },
  {
   "cell_type": "markdown",
   "id": "14d6c078-b931-4611-8f63-c0ac0ced438e",
   "metadata": {},
   "source": [
    "<table>\n",
    "      <tr>\n",
    "        <th><center>Nom</center></th>\n",
    "        <th><center>Valeur</center></th>\n",
    "      </tr>\n",
    "      <tr>\n",
    "        <td><center>Min</center></td>\n",
    "        <td><center>0</center></td>\n",
    "      </tr>\n",
    "      <tr>\n",
    "        <td><center>Max</center></td>\n",
    "        <td><center>346</center></td>\n",
    "      </tr>\n",
    "      <tr>\n",
    "        <td><center>Moyenne</center></td>\n",
    "        <td><center>122</center></td>\n",
    "      </tr>\n",
    "        <tr>\n",
    "        <td><center>Mediane</center></td>\n",
    "        <td><center>119</center></td>\n",
    "        </tr>\n",
    "       <tr>\n",
    "        <td><center>Mode</center></td>\n",
    "        <td><center>13</center></td>\n",
    "       </tr>\n",
    "          <tr>\n",
    "        <td><center>Ecart-type</center></td>\n",
    "        <td><center>74</center></td>\n",
    "      </tr>\n",
    "        <tr>\n",
    "        <td><center>Var</center></td>\n",
    "        <td><center>5455</center></td>\n",
    "        </tr>\n",
    "       <tr>\n",
    "        <td><center>CV</center></td>\n",
    "        <td><center>0.6</center></td>\n",
    "       </tr>\n",
    "       <tr>\n",
    "        <td><center>Q1</center></td>\n",
    "        <td><center>57</center></td>\n",
    "       </tr>\n",
    "        <tr>\n",
    "        <td><center>Q2</center></td>\n",
    "        <td><center>119</center></td>\n",
    "       </tr>\n",
    "        <tr>\n",
    "        <td><center>Q3</center></td>\n",
    "        <td><center>185</center></td>\n",
    "       </tr>\n",
    "</table>"
   ]
  },
  {
   "cell_type": "markdown",
   "id": "a74cc358-4f14-4d3b-a576-7bd4125be162",
   "metadata": {},
   "source": [
    "<b>Tendances centrales</b><br>\n",
    "Le mode est de 13. Ce qui signifie que c'est la valeur la plus fréquente qui apparait dans le jeu de données. Cela étant dit la moyenne globale est de 122 avec une médiane à 119. Cette dernière valeur signifie que j’ai autant de valeurs supérieures ou inférieures à 119.<br>\n",
    "<b>Dispersions</b> <br>\n",
    "Concernant les mesures de dispersions, la variance empirique est de 5455. Cette valeur nous montre que les mesures sont assez dispersées autour de la valeur moyenne. Cette dispersion est aussi illustrée par l'écart-type = 74 (qui est tout simplement la racine carrée de la variance empirique). Le coefficient de variation = 0.6 (écart-type empirique/moyenne).<br>\n",
    "Le 1er Quartile = 57 : 25% des valeurs sont en dessous de cette valeur et 75% sont au-dessus<br>\n",
    "Le 2eme Quartile = 119 = valeur médiane vu au-dessus : 50% des valeurs sont en dessous de cette valeur et 50% au-dessus<br>\n",
    "Le 3eme Quartile = 185 = 75% des valeurs sont en dessous de cette valeur et 25% au-dessus<br>\n",
    "L'écart interquartile = 185 - 57 = 128<br>\n",
    "50% des valeurs se situent entre 185 et 119<br>\n",
    "La valeur minimale est 0 et la valeur maximale est 346"
   ]
  },
  {
   "cell_type": "markdown",
   "id": "3683b12b-2c8e-4750-ad7a-2a4dd159e72f",
   "metadata": {
    "tags": []
   },
   "source": [
    "### Fréquence"
   ]
  },
  {
   "cell_type": "markdown",
   "id": "48bb9ef6-35d3-46fa-8e41-ff5c7d8710ee",
   "metadata": {},
   "source": [
    "<center><img alt=\"recence\" src=\"images/segmentation/rfme/kmpp/frequence.png\"></center>"
   ]
  },
  {
   "cell_type": "markdown",
   "id": "39e2d14b-e0a7-4440-ac78-99ef91af2ff1",
   "metadata": {
    "tags": []
   },
   "source": [
    "###### <a href=\"Renard_Anthony_2_notebook_essais_012023.ipynb#C822121\"> 8.2.2.1.2.1 Clustering 0 <a>"
   ]
  },
  {
   "cell_type": "markdown",
   "id": "1d9cf33a-067e-454b-934c-792b2f53afac",
   "metadata": {},
   "source": [
    "<center><img alt=\"frequence\" src=\"images/segmentation/rfme/kmpp/univ_frequence_0.png\"></center>"
   ]
  },
  {
   "cell_type": "markdown",
   "id": "78b57d67-d15c-45f3-9183-e9b8cedfc29e",
   "metadata": {},
   "source": [
    "<table>\n",
    "      <tr>\n",
    "        <th><center>Nom</center></th>\n",
    "        <th><center>Valeur</center></th>\n",
    "      </tr>\n",
    "      <tr>\n",
    "        <td><center>Min</center></td>\n",
    "        <td><center>1</center></td>\n",
    "      </tr>\n",
    "      <tr>\n",
    "        <td><center>Max</center></td>\n",
    "        <td><center>9</center></td>\n",
    "      </tr>\n",
    "      <tr>\n",
    "        <td><center>Moyenne</center></td>\n",
    "        <td><center>1</center></td>\n",
    "      </tr>\n",
    "        <tr>\n",
    "        <td><center>Mediane</center></td>\n",
    "        <td><center>1</center></td>\n",
    "        </tr>\n",
    "       <tr>\n",
    "        <td><center>Mode</center></td>\n",
    "        <td><center>1</center></td>\n",
    "       </tr>\n",
    "          <tr>\n",
    "        <td><center>Ecart-type</center></td>\n",
    "        <td><center>0.28</center></td>\n",
    "      </tr>\n",
    "        <tr>\n",
    "        <td><center>Var</center></td>\n",
    "        <td><center>0.08</center></td>\n",
    "        </tr>\n",
    "       <tr>\n",
    "        <td><center>CV</center></td>\n",
    "        <td><center>0.26</center></td>\n",
    "       </tr>\n",
    "       <tr>\n",
    "        <td><center>Q1</center></td>\n",
    "        <td><center>1</center></td>\n",
    "       </tr>\n",
    "        <tr>\n",
    "        <td><center>Q2</center></td>\n",
    "        <td><center>1</center></td>\n",
    "       </tr>\n",
    "        <tr>\n",
    "        <td><center>Q3</center></td>\n",
    "        <td><center>1</center></td>\n",
    "       </tr>\n",
    "</table>"
   ]
  },
  {
   "cell_type": "markdown",
   "id": "17eff26f-d6ea-49bc-a02f-243ed6088df2",
   "metadata": {},
   "source": [
    "<b>Tendances centrales</b><br>\n",
    "Le mode est de 1. Ce qui signifie que c'est la valeur la plus fréquente qui apparait dans le jeu de données. Cela étant dit la moyenne globale est de 1 avec une médiane à 1. \n",
    "<b>Dispersions</b> <br>\n",
    "Concernant les mesures de dispersions, la variance empirique est de 0.08. Cette valeur nous montre que les mesures sont pratiquement toutes égales à la moyenne. Cette dispersion est aussi illustrée par l'écart-type = 0.28 (qui est tout simplement la racine carrée de la variance empirique). Le coefficient de variation = 0.26 (écart-type empirique/moyenne).<br>\n",
    "Le 1er Quartile = 1 : 25% des valeurs sont en dessous de cette valeur et 75% sont au-dessus<br>\n",
    "Le 2eme Quartile = 1 = valeur médiane vu au-dessus : 50% des valeurs sont en dessous de cette valeur et 50% au-dessus<br>\n",
    "Le 3eme Quartile = 1 = 75% des valeurs sont en dessous de cette valeur et 25% au-dessus<br>\n",
    "L'écart interquartile = 0<br>\n",
    "La valeur minimale est 0 et la valeur maximale est 9"
   ]
  },
  {
   "cell_type": "markdown",
   "id": "45fd4ddb-cf70-4876-b50a-71455940f635",
   "metadata": {
    "tags": []
   },
   "source": [
    "###### <a href=\"Renard_Anthony_2_notebook_essais_012023.ipynb#C822122\"> 8.2.2.1.2.2 Clustering 1 <a>"
   ]
  },
  {
   "cell_type": "markdown",
   "id": "5ba5cc12-2070-460c-913a-b0356a14fcaf",
   "metadata": {},
   "source": [
    "<center><img alt=\"frequence\" src=\"images/segmentation/rfme/kmpp/univ_frequence_1.png\"></center>"
   ]
  },
  {
   "cell_type": "markdown",
   "id": "6ee3aa1e-ffb1-4eeb-95e2-1a3aa5f56622",
   "metadata": {},
   "source": [
    "<table>\n",
    "      <tr>\n",
    "        <th><center>Nom</center></th>\n",
    "        <th><center>Valeur</center></th>\n",
    "      </tr>\n",
    "      <tr>\n",
    "        <td><center>Min</center></td>\n",
    "        <td><center>1</center></td>\n",
    "      </tr>\n",
    "      <tr>\n",
    "        <td><center>Max</center></td>\n",
    "        <td><center>6</center></td>\n",
    "      </tr>\n",
    "      <tr>\n",
    "        <td><center>Moyenne</center></td>\n",
    "        <td><center>1</center></td>\n",
    "      </tr>\n",
    "        <tr>\n",
    "        <td><center>Mediane</center></td>\n",
    "        <td><center>1</center></td>\n",
    "        </tr>\n",
    "       <tr>\n",
    "        <td><center>Mode</center></td>\n",
    "        <td><center>1</center></td>\n",
    "       </tr>\n",
    "          <tr>\n",
    "        <td><center>Ecart-type</center></td>\n",
    "        <td><center>0.23</center></td>\n",
    "      </tr>\n",
    "        <tr>\n",
    "        <td><center>Var</center></td>\n",
    "        <td><center>0.05</center></td>\n",
    "        </tr>\n",
    "       <tr>\n",
    "        <td><center>CV</center></td>\n",
    "        <td><center>0.22</center></td>\n",
    "       </tr>\n",
    "       <tr>\n",
    "        <td><center>Q1</center></td>\n",
    "        <td><center>1</center></td>\n",
    "       </tr>\n",
    "        <tr>\n",
    "        <td><center>Q2</center></td>\n",
    "        <td><center>1</center></td>\n",
    "       </tr>\n",
    "        <tr>\n",
    "        <td><center>Q3</center></td>\n",
    "        <td><center>1</center></td>\n",
    "       </tr>\n",
    "</table>"
   ]
  },
  {
   "cell_type": "markdown",
   "id": "68faf38c-cbe6-4240-9d9d-6e05d2254831",
   "metadata": {},
   "source": [
    "<b>Tendances centrales</b><br>\n",
    "Le mode est de 1. Ce qui signifie que c'est la valeur la plus fréquente qui apparait dans le jeu de données. Cela étant dit la moyenne globale est de 1 avec une médiane à 1. \n",
    "<b>Dispersions</b> <br>\n",
    "Concernant les mesures de dispersions, la variance empirique est de 0.05. Cette valeur nous montre que les mesures sont pratiquement toutes égales à la moyenne. Cette dispersion est aussi illustrée par l'écart-type = 0.23 (qui est tout simplement la racine carrée de la variance empirique). Le coefficient de variation = 0.22 (écart-type empirique/moyenne).<br>\n",
    "Le 1er Quartile = 1 : 25% des valeurs sont en dessous de cette valeur et 75% sont au-dessus<br>\n",
    "Le 2eme Quartile = 1 = valeur médiane vu au-dessus : 50% des valeurs sont en dessous de cette valeur et 50% au-dessus<br>\n",
    "Le 3eme Quartile = 1 = 75% des valeurs sont en dessous de cette valeur et 25% au-dessus<br>\n",
    "L'écart interquartile = 0<br>\n",
    "La valeur minimale est 0 et la valeur maximale est 6"
   ]
  },
  {
   "cell_type": "markdown",
   "id": "94b90f3e-4b67-40d8-b28c-62561a5d5d9b",
   "metadata": {
    "tags": []
   },
   "source": [
    "###### <a href=\"Renard_Anthony_2_notebook_essais_012023.ipynb#C822123\"> 8.2.2.1.2.3 Clustering 2 <a>"
   ]
  },
  {
   "cell_type": "markdown",
   "id": "0d07393c-7e09-4876-bdbd-7fa895df743a",
   "metadata": {},
   "source": [
    "<center><img alt=\"frequence\" src=\"images/segmentation/rfme/kmpp/univ_frequence_2.png\"></center>"
   ]
  },
  {
   "cell_type": "markdown",
   "id": "c72a7490-e667-4f45-b367-0394fe397f9c",
   "metadata": {},
   "source": [
    "<table>\n",
    "      <tr>\n",
    "        <th><center>Nom</center></th>\n",
    "        <th><center>Valeur</center></th>\n",
    "      </tr>\n",
    "      <tr>\n",
    "        <td><center>Min</center></td>\n",
    "        <td><center>1</center></td>\n",
    "      </tr>\n",
    "      <tr>\n",
    "        <td><center>Max</center></td>\n",
    "        <td><center>15</center></td>\n",
    "      </tr>\n",
    "      <tr>\n",
    "        <td><center>Moyenne</center></td>\n",
    "        <td><center>1.1</center></td>\n",
    "      </tr>\n",
    "        <tr>\n",
    "        <td><center>Mediane</center></td>\n",
    "        <td><center>1</center></td>\n",
    "        </tr>\n",
    "       <tr>\n",
    "        <td><center>Mode</center></td>\n",
    "        <td><center>1</center></td>\n",
    "       </tr>\n",
    "          <tr>\n",
    "        <td><center>Ecart-type</center></td>\n",
    "        <td><center>0.48</center></td>\n",
    "      </tr>\n",
    "        <tr>\n",
    "        <td><center>Var</center></td>\n",
    "        <td><center>0.23</center></td>\n",
    "        </tr>\n",
    "       <tr>\n",
    "        <td><center>CV</center></td>\n",
    "        <td><center>0.43</center></td>\n",
    "       </tr>\n",
    "       <tr>\n",
    "        <td><center>Q1</center></td>\n",
    "        <td><center>1</center></td>\n",
    "       </tr>\n",
    "        <tr>\n",
    "        <td><center>Q2</center></td>\n",
    "        <td><center>1</center></td>\n",
    "       </tr>\n",
    "        <tr>\n",
    "        <td><center>Q3</center></td>\n",
    "        <td><center>1</center></td>\n",
    "       </tr>\n",
    "</table>"
   ]
  },
  {
   "cell_type": "markdown",
   "id": "b389f177-1c93-495a-9600-fd73e98be79a",
   "metadata": {},
   "source": [
    "<b>Tendances centrales</b><br>\n",
    "Le mode est de 1. Ce qui signifie que c'est la valeur la plus fréquente qui apparait dans le jeu de données. Cela étant dit la moyenne globale est de 1.1 avec une médiane à 1. \n",
    "<b>Dispersions</b> <br>\n",
    "Concernant les mesures de dispersions, la variance empirique est de 0.23. Cette valeur nous montre que les mesures sont pratiquement toutes égales à la moyenne. Cette dispersion est aussi illustrée par l'écart-type = 0.48 (qui est tout simplement la racine carrée de la variance empirique). Le coefficient de variation = 0.43 (écart-type empirique/moyenne).<br>\n",
    "Le 1er Quartile = 1 : 25% des valeurs sont en dessous de cette valeur et 75% sont au-dessus<br>\n",
    "Le 2eme Quartile = 1 = valeur médiane vu au-dessus : 50% des valeurs sont en dessous de cette valeur et 50% au-dessus<br>\n",
    "Le 3eme Quartile = 1 = 75% des valeurs sont en dessous de cette valeur et 25% au-dessus<br>\n",
    "L'écart interquartile = 0<br>\n",
    "La valeur minimale est 0 et la valeur maximale est 15"
   ]
  },
  {
   "cell_type": "markdown",
   "id": "316f37fa-7e8c-4dd0-872b-7cbca5915a8f",
   "metadata": {
    "tags": []
   },
   "source": [
    "### Montant"
   ]
  },
  {
   "cell_type": "markdown",
   "id": "f0235177-93d9-4440-8dd4-c970a2e48bae",
   "metadata": {},
   "source": [
    "<center><img alt=\"recence\" src=\"images/segmentation/rfme/kmpp/montant.png\"></center>"
   ]
  },
  {
   "cell_type": "markdown",
   "id": "05f00802-7519-479a-870f-967accaae15a",
   "metadata": {
    "tags": []
   },
   "source": [
    "###### <a href=\"Renard_Anthony_2_notebook_essais_012023.ipynb#C822121\"> 8.2.2.1.2.1 Clustering 0 <a>"
   ]
  },
  {
   "cell_type": "markdown",
   "id": "96e47242-f35a-455c-8760-c2815171d588",
   "metadata": {},
   "source": [
    "<center><img alt=\"montant\" src=\"images/segmentation/rfme/kmpp/univ_montant_0.png\"></center>"
   ]
  },
  {
   "cell_type": "markdown",
   "id": "0603d49e-30c4-46c4-bca1-77b3046c8eb1",
   "metadata": {},
   "source": [
    "<table>\n",
    "      <tr>\n",
    "        <th><center>Nom</center></th>\n",
    "        <th><center>Valeur</center></th>\n",
    "      </tr>\n",
    "      <tr>\n",
    "        <td><center>Min</center></td>\n",
    "        <td><center>14</center></td>\n",
    "      </tr>\n",
    "      <tr>\n",
    "        <td><center>Max</center></td>\n",
    "        <td><center>13664</center></td>\n",
    "      </tr>\n",
    "      <tr>\n",
    "        <td><center>Moyenne</center></td>\n",
    "        <td><center>193</center></td>\n",
    "      </tr>\n",
    "        <tr>\n",
    "        <td><center>Mediane</center></td>\n",
    "        <td><center>121</center></td>\n",
    "        </tr>\n",
    "       <tr>\n",
    "        <td><center>Mode</center></td>\n",
    "        <td><center>117</center></td>\n",
    "       </tr>\n",
    "          <tr>\n",
    "        <td><center>Ecart-type</center></td>\n",
    "        <td><center>293</center></td>\n",
    "      </tr>\n",
    "        <tr>\n",
    "        <td><center>Var</center></td>\n",
    "        <td><center>85896</center></td>\n",
    "        </tr>\n",
    "       <tr>\n",
    "        <td><center>CV</center></td>\n",
    "        <td><center>1.52</center></td>\n",
    "       </tr>\n",
    "       <tr>\n",
    "        <td><center>Q1</center></td>\n",
    "        <td><center>68</center></td>\n",
    "       </tr>\n",
    "        <tr>\n",
    "        <td><center>Q2</center></td>\n",
    "        <td><center>121</center></td>\n",
    "       </tr>\n",
    "        <tr>\n",
    "        <td><center>Q3</center></td>\n",
    "        <td><center>210</center></td>\n",
    "       </tr>\n",
    "</table>"
   ]
  },
  {
   "cell_type": "markdown",
   "id": "513a2c38-4be4-4748-a2e7-0b6625270e4b",
   "metadata": {},
   "source": [
    "<b>Tendances centrales</b><br>\n",
    "Le mode est de 117. Ce qui signifie que c'est la valeur la plus fréquente qui apparait dans le jeu de données. Cela étant dit la moyenne globale est de 193 avec une médiane à 121. Cette dernière valeur signifie que j’ai autant de valeurs supérieures ou inférieures à 121.<br>\n",
    "<b>Dispersions</b> <br>\n",
    "Concernant les mesures de dispersions, la variance empirique est de 85896. Cette valeur nous montre que les mesures sont assez dispersées autour de la valeur moyenne. Cette dispersion est aussi illustrée par l'écart-type = 293 (qui est tout simplement la racine carrée de la variance empirique). Le coefficient de variation = 1.52 (écart-type empirique/moyenne).<br>\n",
    "Le 1er Quartile = 68 : 25% des valeurs sont en dessous de cette valeur et 75% sont au-dessus<br>\n",
    "Le 2eme Quartile = 121 = valeur médiane vu au-dessus : 50% des valeurs sont en dessous de cette valeur et 50% au-dessus<br>\n",
    "Le 3eme Quartile = 210 = 75% des valeurs sont en dessous de cette valeur et 25% au-dessus<br>\n",
    "L'écart interquartile = 210 - 68 = 142<br>\n",
    "50% des valeurs se situent entre 210 et 68<br>\n",
    "La valeur minimale est 14 et la valeur maximale est 13664"
   ]
  },
  {
   "cell_type": "markdown",
   "id": "47e79ef5-4fa7-4d32-ae72-1dc3e416fc5e",
   "metadata": {
    "tags": []
   },
   "source": [
    "###### <a href=\"Renard_Anthony_2_notebook_essais_012023.ipynb#C822122\"> 8.2.2.1.2.2 Clustering 1 <a>"
   ]
  },
  {
   "cell_type": "markdown",
   "id": "8df8c0de-5755-4fbd-b92a-391816b47f08",
   "metadata": {},
   "source": [
    "<center><img alt=\"montant\" src=\"images/segmentation/rfme/kmpp/univ_montant_1.png\"></center>"
   ]
  },
  {
   "cell_type": "markdown",
   "id": "9d75e740-4711-49f5-a32d-e556e702a9f1",
   "metadata": {},
   "source": [
    "<table>\n",
    "      <tr>\n",
    "        <th><center>Nom</center></th>\n",
    "        <th><center>Valeur</center></th>\n",
    "      </tr>\n",
    "      <tr>\n",
    "        <td><center>Min</center></td>\n",
    "        <td><center>10</center></td>\n",
    "      </tr>\n",
    "      <tr>\n",
    "        <td><center>Max</center></td>\n",
    "        <td><center>6929</center></td>\n",
    "      </tr>\n",
    "      <tr>\n",
    "        <td><center>Moyenne</center></td>\n",
    "        <td><center>157</center></td>\n",
    "      </tr>\n",
    "        <tr>\n",
    "        <td><center>Mediane</center></td>\n",
    "        <td><center>105</center></td>\n",
    "        </tr>\n",
    "       <tr>\n",
    "        <td><center>Mode</center></td>\n",
    "        <td><center>78</center></td>\n",
    "       </tr>\n",
    "          <tr>\n",
    "        <td><center>Ecart-type</center></td>\n",
    "        <td><center>199</center></td>\n",
    "      </tr>\n",
    "        <tr>\n",
    "        <td><center>Var</center></td>\n",
    "        <td><center>39533</center></td>\n",
    "        </tr>\n",
    "       <tr>\n",
    "        <td><center>CV</center></td>\n",
    "        <td><center>1.27</center></td>\n",
    "       </tr>\n",
    "       <tr>\n",
    "        <td><center>Q1</center></td>\n",
    "        <td><center>62</center></td>\n",
    "       </tr>\n",
    "        <tr>\n",
    "        <td><center>Q2</center></td>\n",
    "        <td><center>105</center></td>\n",
    "       </tr>\n",
    "        <tr>\n",
    "        <td><center>Q3</center></td>\n",
    "        <td><center>176</center></td>\n",
    "       </tr>\n",
    "</table>"
   ]
  },
  {
   "cell_type": "markdown",
   "id": "dae92185-2e22-449c-888a-4d620e3e4a5f",
   "metadata": {},
   "source": [
    "<b>Tendances centrales</b><br>\n",
    "Le mode est de 78. Ce qui signifie que c'est la valeur la plus fréquente qui apparait dans le jeu de données. Cela étant dit la moyenne globale est de 157 avec une médiane à 105. Cette dernière valeur signifie que j’ai autant de valeurs supérieures ou inférieures à 105.<br>\n",
    "<b>Dispersions</b> <br>\n",
    "Concernant les mesures de dispersions, la variance empirique est de 39533. Cette valeur nous montre que les mesures sont assez dispersées autour de la valeur moyenne. Cette dispersion est aussi illustrée par l'écart-type = 199 (qui est tout simplement la racine carrée de la variance empirique). Le coefficient de variation = 1.27 (écart-type empirique/moyenne).<br>\n",
    "Le 1er Quartile = 62 : 25% des valeurs sont en dessous de cette valeur et 75% sont au-dessus<br>\n",
    "Le 2eme Quartile = 105 = valeur médiane vu au-dessus : 50% des valeurs sont en dessous de cette valeur et 50% au-dessus<br>\n",
    "Le 3eme Quartile = 176 = 75% des valeurs sont en dessous de cette valeur et 25% au-dessus<br>\n",
    "L'écart interquartile = 176 - 62 = 114<br>\n",
    "50% des valeurs se situent entre 176 et 62<br>\n",
    "La valeur minimale est 10 et la valeur maximale est 6929"
   ]
  },
  {
   "cell_type": "markdown",
   "id": "9f809f69-a66f-4c34-b01e-2cea14301466",
   "metadata": {
    "tags": []
   },
   "source": [
    "###### <a href=\"Renard_Anthony_2_notebook_essais_012023.ipynb#C822123\"> 8.2.2.1.2.3 Clustering 2 <a>"
   ]
  },
  {
   "cell_type": "markdown",
   "id": "1473b3eb-e896-4522-a6f7-a7c44b294918",
   "metadata": {},
   "source": [
    "<center><img alt=\"montant\" src=\"images/segmentation/rfme/kmpp/univ_montant_2.png\"></center>"
   ]
  },
  {
   "cell_type": "markdown",
   "id": "e578c141-9e6f-4f8b-9b6c-dbdd6a024d2b",
   "metadata": {},
   "source": [
    "<table>\n",
    "      <tr>\n",
    "        <th><center>Nom</center></th>\n",
    "        <th><center>Valeur</center></th>\n",
    "      </tr>\n",
    "      <tr>\n",
    "        <td><center>Min</center></td>\n",
    "        <td><center>10</center></td>\n",
    "      </tr>\n",
    "      <tr>\n",
    "        <td><center>Max</center></td>\n",
    "        <td><center>4682</center></td>\n",
    "      </tr>\n",
    "      <tr>\n",
    "        <td><center>Moyenne</center></td>\n",
    "        <td><center>172</center></td>\n",
    "      </tr>\n",
    "        <tr>\n",
    "        <td><center>Mediane</center></td>\n",
    "        <td><center>112</center></td>\n",
    "        </tr>\n",
    "       <tr>\n",
    "        <td><center>Mode</center></td>\n",
    "        <td><center>100</center></td>\n",
    "       </tr>\n",
    "          <tr>\n",
    "        <td><center>Ecart-type</center></td>\n",
    "        <td><center>229</center></td>\n",
    "      </tr>\n",
    "        <tr>\n",
    "        <td><center>Var</center></td>\n",
    "        <td><center>52420</center></td>\n",
    "        </tr>\n",
    "       <tr>\n",
    "        <td><center>CV</center></td>\n",
    "        <td><center>1.33</center></td>\n",
    "       </tr>\n",
    "       <tr>\n",
    "        <td><center>Q1</center></td>\n",
    "        <td><center>64</center></td>\n",
    "       </tr>\n",
    "        <tr>\n",
    "        <td><center>Q2</center></td>\n",
    "        <td><center>112</center></td>\n",
    "       </tr>\n",
    "        <tr>\n",
    "        <td><center>Q3</center></td>\n",
    "        <td><center>189</center></td>\n",
    "       </tr>\n",
    "</table>"
   ]
  },
  {
   "cell_type": "markdown",
   "id": "86c196da-b836-46d1-a5b6-0690cb5f6c25",
   "metadata": {},
   "source": [
    "<b>Tendances centrales</b><br>\n",
    "Le mode est de 100. Ce qui signifie que c'est la valeur la plus fréquente qui apparait dans le jeu de données. Cela étant dit la moyenne globale est de 172 avec une médiane à 112. Cette dernière valeur signifie que j’ai autant de valeurs supérieures ou inférieures à 112.<br>\n",
    "<b>Dispersions</b> <br>\n",
    "Concernant les mesures de dispersions, la variance empirique est de 52420. Cette valeur nous montre que les mesures sont assez dispersées autour de la valeur moyenne. Cette dispersion est aussi illustrée par l'écart-type = 229 (qui est tout simplement la racine carrée de la variance empirique). Le coefficient de variation = 1.33 (écart-type empirique/moyenne).<br>\n",
    "Le 1er Quartile = 64 : 25% des valeurs sont en dessous de cette valeur et 75% sont au-dessus<br>\n",
    "Le 2eme Quartile = 112 = valeur médiane vu au-dessus : 50% des valeurs sont en dessous de cette valeur et 50% au-dessus<br>\n",
    "Le 3eme Quartile = 189 = 75% des valeurs sont en dessous de cette valeur et 25% au-dessus<br>\n",
    "L'écart interquartile = 189 - 64 = 125<br>\n",
    "50% des valeurs se situent entre 189 et 64<br>\n",
    "La valeur minimale est 10 et la valeur maximale est 4682"
   ]
  },
  {
   "cell_type": "markdown",
   "id": "a5cb8c23-85a1-4ffc-9ac4-160faead4092",
   "metadata": {
    "tags": []
   },
   "source": [
    "### Evaluation client"
   ]
  },
  {
   "cell_type": "markdown",
   "id": "ca7d2b0c-8c6e-44b1-a85d-365fbc2c9cfb",
   "metadata": {},
   "source": [
    "<center><img alt=\"recence\" src=\"images/segmentation/rfme/kmpp/evaluation.png\"></center>"
   ]
  },
  {
   "cell_type": "markdown",
   "id": "c5dba627-6c03-4e68-89e9-9cec5ba93b8e",
   "metadata": {
    "tags": []
   },
   "source": [
    "###### <a href=\"Renard_Anthony_2_notebook_essais_012023.ipynb#C822121\"> 8.2.2.1.2.1 Clustering 0 <a>"
   ]
  },
  {
   "cell_type": "markdown",
   "id": "fa278ce9-de36-4e61-94e6-fc7761619975",
   "metadata": {},
   "source": [
    "<center><img alt=\"evaluation\" src=\"images/segmentation/rfme/kmpp/univ_evaluation_0.png\"></center>"
   ]
  },
  {
   "cell_type": "markdown",
   "id": "49cafbd2-738c-46f1-b102-e1316d956612",
   "metadata": {},
   "source": [
    "<table>\n",
    "      <tr>\n",
    "        <th><center>Nom</center></th>\n",
    "        <th><center>Valeur</center></th>\n",
    "      </tr>\n",
    "      <tr>\n",
    "        <td><center>Min</center></td>\n",
    "        <td><center>1</center></td>\n",
    "      </tr>\n",
    "      <tr>\n",
    "        <td><center>Max</center></td>\n",
    "        <td><center>5</center></td>\n",
    "      </tr>\n",
    "      <tr>\n",
    "        <td><center>Moyenne</center></td>\n",
    "        <td><center>2</center></td>\n",
    "      </tr>\n",
    "        <tr>\n",
    "        <td><center>Mediane</center></td>\n",
    "        <td><center>1</center></td>\n",
    "        </tr>\n",
    "       <tr>\n",
    "        <td><center>Mode</center></td>\n",
    "        <td><center>1</center></td>\n",
    "       </tr>\n",
    "          <tr>\n",
    "        <td><center>Ecart-type</center></td>\n",
    "        <td><center>0.87</center></td>\n",
    "      </tr>\n",
    "        <tr>\n",
    "        <td><center>Var</center></td>\n",
    "        <td><center>0.75</center></td>\n",
    "        </tr>\n",
    "       <tr>\n",
    "        <td><center>CV</center></td>\n",
    "        <td><center>0.5</center></td>\n",
    "       </tr>\n",
    "       <tr>\n",
    "        <td><center>Q1</center></td>\n",
    "        <td><center>1</center></td>\n",
    "       </tr>\n",
    "        <tr>\n",
    "        <td><center>Q2</center></td>\n",
    "        <td><center>1</center></td>\n",
    "       </tr>\n",
    "        <tr>\n",
    "        <td><center>Q3</center></td>\n",
    "        <td><center>3</center></td>\n",
    "       </tr>\n",
    "</table>"
   ]
  },
  {
   "cell_type": "markdown",
   "id": "a285a69a-78d5-46c8-b165-d0bf1ed3d1fb",
   "metadata": {},
   "source": [
    "<b>Tendances centrales</b><br>\n",
    "Le mode est de 1. Ce qui signifie que c'est la valeur la plus fréquente qui apparait dans le jeu de données. Cela étant dit la moyenne globale est de 2 avec une médiane à 1.<br>\n",
    "<b>Dispersions</b> <br>\n",
    "Concernant les mesures de dispersions, la variance empirique est de 0.75. Cette valeur nous montre que les mesures sont peu dispersées autour de la valeur moyenne. Cette dispersion est aussi illustrée par l'écart-type = 0.87 (qui est tout simplement la racine carrée de la variance empirique). Le coefficient de variation = 0.5 (écart-type empirique/moyenne).<br>\n",
    "Le 1er Quartile = 1 : 25% des valeurs sont en dessous de cette valeur et 75% sont au-dessus<br>\n",
    "Le 2eme Quartile = 1 = valeur médiane vu au-dessus : 50% des valeurs sont en dessous de cette valeur et 50% au-dessus<br>\n",
    "Le 3eme Quartile = 3 = 75% des valeurs sont en dessous de cette valeur et 25% au-dessus<br>\n",
    "L'écart interquartile = 3 - 1 = 2<br>\n",
    "50% des valeurs se situent entre 1 et 3<br>\n",
    "La valeur minimale est 1 et la valeur maximale est 5"
   ]
  },
  {
   "cell_type": "markdown",
   "id": "22f0c4fd-0e58-477d-bfb2-de42d591259c",
   "metadata": {
    "tags": []
   },
   "source": [
    "###### <a href=\"Renard_Anthony_2_notebook_essais_012023.ipynb#C822122\"> 8.2.2.1.2.2 Clustering 1 <a>"
   ]
  },
  {
   "cell_type": "markdown",
   "id": "eb64de65-b5b4-4318-9dce-d83acd3abdc0",
   "metadata": {},
   "source": [
    "<center><img alt=\"evaluation\" src=\"images/segmentation/rfme/kmpp/univ_evaluation_1.png\"></center>"
   ]
  },
  {
   "cell_type": "markdown",
   "id": "1da96237-c2e6-4441-9855-753fc1344519",
   "metadata": {},
   "source": [
    "<table>\n",
    "      <tr>\n",
    "        <th><center>Nom</center></th>\n",
    "        <th><center>Valeur</center></th>\n",
    "      </tr>\n",
    "      <tr>\n",
    "        <td><center>Min</center></td>\n",
    "        <td><center>2</center></td>\n",
    "      </tr>\n",
    "      <tr>\n",
    "        <td><center>Max</center></td>\n",
    "        <td><center>5</center></td>\n",
    "      </tr>\n",
    "      <tr>\n",
    "        <td><center>Moyenne</center></td>\n",
    "        <td><center>5</center></td>\n",
    "      </tr>\n",
    "        <tr>\n",
    "        <td><center>Mediane</center></td>\n",
    "        <td><center>5</center></td>\n",
    "        </tr>\n",
    "       <tr>\n",
    "        <td><center>Mode</center></td>\n",
    "        <td><center>5</center></td>\n",
    "       </tr>\n",
    "          <tr>\n",
    "        <td><center>Ecart-type</center></td>\n",
    "        <td><center>0.59</center></td>\n",
    "      </tr>\n",
    "        <tr>\n",
    "        <td><center>Var</center></td>\n",
    "        <td><center>0.35</center></td>\n",
    "        </tr>\n",
    "       <tr>\n",
    "        <td><center>CV</center></td>\n",
    "        <td><center>0.13</center></td>\n",
    "       </tr>\n",
    "       <tr>\n",
    "        <td><center>Q1</center></td>\n",
    "        <td><center>4</center></td>\n",
    "       </tr>\n",
    "        <tr>\n",
    "        <td><center>Q2</center></td>\n",
    "        <td><center>5</center></td>\n",
    "       </tr>\n",
    "        <tr>\n",
    "        <td><center>Q3</center></td>\n",
    "        <td><center>5</center></td>\n",
    "       </tr>\n",
    "</table>"
   ]
  },
  {
   "cell_type": "markdown",
   "id": "04df2cb5-5969-441a-8ae1-2cce908b2b20",
   "metadata": {},
   "source": [
    "<b>Tendances centrales</b><br>\n",
    "Le mode est de 5. Ce qui signifie que c'est la valeur la plus fréquente qui apparait dans le jeu de données. Cela étant dit la moyenne globale est de 5 avec une médiane à 5.<br>\n",
    "<b>Dispersions</b> <br>\n",
    "Concernant les mesures de dispersions, la variance empirique est de 0.35. Cette valeur nous montre que les mesures sont peu dispersées autour de la valeur moyenne. Cette dispersion est aussi illustrée par l'écart-type = 0.59 (qui est tout simplement la racine carrée de la variance empirique). Le coefficient de variation = 0.35 (écart-type empirique/moyenne).<br>\n",
    "Le 1er Quartile = 4 : 25% des valeurs sont en dessous de cette valeur et 75% sont au-dessus<br>\n",
    "Le 2eme Quartile = 5 = valeur médiane vu au-dessus : 50% des valeurs sont en dessous de cette valeur et 50% au-dessus<br>\n",
    "Le 3eme Quartile = 5 = 75% des valeurs sont en dessous de cette valeur et 25% au-dessus<br>\n",
    "L'écart interquartile = 5 - 4 = 1<br>\n",
    "50% des valeurs se situent entre 4 et 5<br>\n",
    "La valeur minimale est 2 et la valeur maximale est 5"
   ]
  },
  {
   "cell_type": "markdown",
   "id": "a967175c-0708-4252-bb43-fdfee976242f",
   "metadata": {
    "tags": []
   },
   "source": [
    "###### <a href=\"Renard_Anthony_2_notebook_essais_012023.ipynb#C822123\"> 8.2.2.1.2.3 Clustering 2 <a>"
   ]
  },
  {
   "cell_type": "markdown",
   "id": "3a421980-898d-4fd3-9290-cb898a9a9540",
   "metadata": {},
   "source": [
    "<center><img alt=\"evaluation\" src=\"images/segmentation/rfme/kmpp/univ_evaluation_2.png\"></center>"
   ]
  },
  {
   "cell_type": "markdown",
   "id": "ebf80f5d-05f0-4c14-9cb6-903b6ab7b6d4",
   "metadata": {},
   "source": [
    "<table>\n",
    "      <tr>\n",
    "        <th><center>Nom</center></th>\n",
    "        <th><center>Valeur</center></th>\n",
    "      </tr>\n",
    "      <tr>\n",
    "        <td><center>Min</center></td>\n",
    "        <td><center>3</center></td>\n",
    "      </tr>\n",
    "      <tr>\n",
    "        <td><center>Max</center></td>\n",
    "        <td><center>5</center></td>\n",
    "      </tr>\n",
    "      <tr>\n",
    "        <td><center>Moyenne</center></td>\n",
    "        <td><center>5</center></td>\n",
    "      </tr>\n",
    "        <tr>\n",
    "        <td><center>Mediane</center></td>\n",
    "        <td><center>5</center></td>\n",
    "        </tr>\n",
    "       <tr>\n",
    "        <td><center>Mode</center></td>\n",
    "        <td><center>5</center></td>\n",
    "       </tr>\n",
    "          <tr>\n",
    "        <td><center>Ecart-type</center></td>\n",
    "        <td><center>0.5</center></td>\n",
    "      </tr>\n",
    "        <tr>\n",
    "        <td><center>Var</center></td>\n",
    "        <td><center>0.27</center></td>\n",
    "        </tr>\n",
    "       <tr>\n",
    "        <td><center>CV</center></td>\n",
    "        <td><center>0.11</center></td>\n",
    "       </tr>\n",
    "       <tr>\n",
    "        <td><center>Q1</center></td>\n",
    "        <td><center>4</center></td>\n",
    "       </tr>\n",
    "        <tr>\n",
    "        <td><center>Q2</center></td>\n",
    "        <td><center>5</center></td>\n",
    "       </tr>\n",
    "        <tr>\n",
    "        <td><center>Q3</center></td>\n",
    "        <td><center>5</center></td>\n",
    "       </tr>\n",
    "</table>"
   ]
  },
  {
   "cell_type": "markdown",
   "id": "535aea40-5d54-4cb6-98f2-76e18098fd62",
   "metadata": {},
   "source": [
    "<b>Tendances centrales</b><br>\n",
    "Le mode est de 5. Ce qui signifie que c'est la valeur la plus fréquente qui apparait dans le jeu de données. Cela étant dit la moyenne globale est de 5 avec une médiane à 5.<br>\n",
    "<b>Dispersions</b> <br>\n",
    "Concernant les mesures de dispersions, la variance empirique est de 0.27. Cette valeur nous montre que les mesures sont peu dispersées autour de la valeur moyenne. Cette dispersion est aussi illustrée par l'écart-type = 0.5 (qui est tout simplement la racine carrée de la variance empirique). Le coefficient de variation = 0.11 (écart-type empirique/moyenne).<br>\n",
    "Le 1er Quartile = 4 : 25% des valeurs sont en dessous de cette valeur et 75% sont au-dessus<br>\n",
    "Le 2eme Quartile = 5 = valeur médiane vu au-dessus : 50% des valeurs sont en dessous de cette valeur et 50% au-dessus<br>\n",
    "Le 3eme Quartile = 5 = 75% des valeurs sont en dessous de cette valeur et 25% au-dessus<br>\n",
    "L'écart interquartile = 5 - 4 = 1<br>\n",
    "50% des valeurs se situent entre 4 et 5<br>\n",
    "La valeur minimale est 3 et la valeur maximale est 5"
   ]
  },
  {
   "cell_type": "markdown",
   "id": "33cf9af7-c291-4e3e-94fa-d9bfe3f1dead",
   "metadata": {
    "tags": []
   },
   "source": [
    "##### <a href=\"Renard_Anthony_2_notebook_essais_012023.ipynb#C82213\"> 8.2.2.1.3 Comparaison clustering RFM et RFME <a>"
   ]
  },
  {
   "cell_type": "markdown",
   "id": "a212c56f-4ba9-4114-ae0c-6d6489acd3ab",
   "metadata": {},
   "source": [
    "Afin d'estimer la similitude entre le clustering RFM (3 clusters) et RFME (3 clusters) et donc observer l'impact d'avoir ajouté \"Evaluation client\" dans le clustering, j'ai calculé  le ARI score = 0.57. On se rend donc compte que les 2 clusterings se ressemble à 60% environ et que 40% des clients ont été changés de cluster vis à vis de leur(s) notation(s). Cependant, 60% montre une similitude assez intéressante entre les clusters.  "
   ]
  },
  {
   "cell_type": "markdown",
   "id": "6324772f-5900-4f31-b849-436003ba7a3c",
   "metadata": {
    "tags": []
   },
   "source": [
    "### BILAN"
   ]
  },
  {
   "cell_type": "markdown",
   "id": "c19babe9-1368-4bfe-adc1-d869717a5cc3",
   "metadata": {},
   "source": [
    "<center><img alt=\"bilan rfme\" src=\"images/segmentation/rfme/kmpp/bilan_rfme.png\"></center>"
   ]
  },
  {
   "cell_type": "markdown",
   "id": "5d4135a3-9fdb-440e-8ba8-cb5c25b98095",
   "metadata": {
    "tags": []
   },
   "source": [
    "### <a href=\"Renard_Anthony_2_notebook_essais_012023.ipynb#C823\"> 8.2.3 RFM + évaluation client + retard de livraison <a>"
   ]
  },
  {
   "cell_type": "markdown",
   "id": "3f757d7c-d3b0-4d0a-babe-61a9306d5bc4",
   "metadata": {},
   "source": [
    "Nous allons maintenant intégrer la notion de retard de livraison à notre classification (5eme axes de réflexion qui ressort de l'analyse multivariée)"
   ]
  },
  {
   "cell_type": "markdown",
   "id": "abd56e7c-70e3-4611-bfd0-93205d25b280",
   "metadata": {},
   "source": [
    "#### <a href=\"Renard_Anthony_2_notebook_essais_012023.ipynb#C8231\"> 8.2.3.1 kmeans++ <a>"
   ]
  },
  {
   "cell_type": "markdown",
   "id": "60e4292e-fcc2-4102-a078-91e29b7cccd8",
   "metadata": {
    "tags": []
   },
   "source": [
    "##### <a href=\"Renard_Anthony_2_notebook_essais_012023.ipynb#C8231\"> 8.2.3.1.1 Choix du nombre de clusters <a>"
   ]
  },
  {
   "cell_type": "markdown",
   "id": "be1f8421-79d8-4f8d-a3fa-3b8efcb15150",
   "metadata": {},
   "source": [
    "Nous allons utiliser la méthode du coude avec 3 métriques possibles :\n",
    "<center><img alt=\"coude\" src=\"images/segmentation/rfmer/kmpp/nb_clusters/coude_distortion.png\"></center>\n",
    "<center><img alt=\"coude\" src=\"images/segmentation/rfmer/kmpp/nb_clusters/coude_calinski.png\"></center>\n",
    "<center><img alt=\"coude\" src=\"images/segmentation/rfmer/kmpp/nb_clusters/coude_silhouette.png\"></center>"
   ]
  },
  {
   "cell_type": "markdown",
   "id": "4dadbb9f-d9fe-4047-b5ff-46b59896408b",
   "metadata": {},
   "source": [
    "On peut ajouter à ces propositions une analyse de silhouette pour observer la densité et la séparation entre les clusters :\n",
    "<center><img alt=\"sil\" src=\"images/segmentation/rfmer/kmpp/nb_clusters/silhouette_plot_2.png\"></center>\n",
    "<center><img alt=\"sil\" src=\"images/segmentation/rfmer/kmpp/nb_clusters/silhouette_plot_3.png\"></center>\n",
    "<center><img alt=\"sil\" src=\"images/segmentation/rfmer/kmpp/nb_clusters/silhouette_plot_4.png\"></center>\n",
    "<center><img alt=\"sil\" src=\"images/segmentation/rfmer/kmpp/nb_clusters/silhouette_plot_5.png\"></center>\n",
    "<center><img alt=\"sil\" src=\"images/segmentation/rfmer/kmpp/nb_clusters/silhouette_plot_6.png\"></center>"
   ]
  },
  {
   "cell_type": "markdown",
   "id": "2a0282eb-ea18-47b3-88ae-d6956b704410",
   "metadata": {},
   "source": [
    "Au vu des silhouettes, nous allons choisir 5 clusters car elle paraissent les plus équilibrées."
   ]
  },
  {
   "cell_type": "markdown",
   "id": "36fccade-788c-4d77-8bf4-d130b5986524",
   "metadata": {
    "tags": []
   },
   "source": [
    "##### <a href=\"Renard_Anthony_2_notebook_essais_012023.ipynb#C82312\"> 8.2.3.1.2 Création du clustering <a>"
   ]
  },
  {
   "cell_type": "markdown",
   "id": "58ab0217-bc7f-4fd6-b0e6-8fe42ed06c29",
   "metadata": {},
   "source": [
    "Voici le résultat obtenu en terme de classification sur 5 clusters (quelques vues 3D sont représentées ici) : <br>\n",
    "<center><img alt=\"rfmer\" src=\"images/segmentation/rfmer/kmpp/kmeanpp_rer3d_rfmer.png\"></center>\n",
    "<center><img alt=\"rfmer\" src=\"images/segmentation/rfmer/kmpp/kmeanpp_rfme3d_rfmer.png\"></center>\n",
    "<center><img alt=\"rfmer\" src=\"images/segmentation/rfmer/kmpp/kmeanpp_rfmer_pie.png\"></center>"
   ]
  },
  {
   "cell_type": "markdown",
   "id": "92261f05-4ce9-44ec-ab5a-fa505dc1ad15",
   "metadata": {},
   "source": [
    "<table>\n",
    "      <tr>\n",
    "        <th><center>Clusters</center></th>\n",
    "        <th><center>Quantité</center></th>\n",
    "      </tr>\n",
    "      <tr>\n",
    "        <td><center>0</center></td>\n",
    "        <td><center>13371</center></td>\n",
    "      </tr>\n",
    "      <tr>\n",
    "        <td><center>1</center></td>\n",
    "        <td><center>29204</center></td>\n",
    "      </tr>\n",
    "      <tr>\n",
    "        <td><center>2</center></td>\n",
    "        <td><center>6426</center></td>\n",
    "      </tr>\n",
    "          <tr>\n",
    "        <td><center>3</center></td>\n",
    "        <td><center>27280</center></td>\n",
    "      </tr>\n",
    "          <tr>\n",
    "        <td><center>4</center></td>\n",
    "        <td><center>19534</center></td>\n",
    "      </tr>\n",
    "</table>"
   ]
  },
  {
   "cell_type": "markdown",
   "id": "606dbe01-a3a7-4243-8ec7-a6c6606e291b",
   "metadata": {
    "tags": []
   },
   "source": [
    "### Récence"
   ]
  },
  {
   "cell_type": "markdown",
   "id": "7f2c4f63-2f9d-411b-b93d-419ac3ba2f50",
   "metadata": {},
   "source": [
    "<center><img alt=\"recence\" src=\"images/segmentation/rfmer/kmpp/recence.png\"></center>"
   ]
  },
  {
   "cell_type": "markdown",
   "id": "662220fa-e368-49f1-a833-8f491f71b012",
   "metadata": {},
   "source": [
    "###### <a href=\"Renard_Anthony_2_notebook_essais_012023.ipynb#C823121\"> 8.2.3.1.2.1 Clustering 0 <a>"
   ]
  },
  {
   "cell_type": "markdown",
   "id": "544c1015-7e0c-4abe-87f1-6236aad4f4a3",
   "metadata": {},
   "source": [
    "<center><img alt=\"rfmer\" src=\"images/segmentation/rfmer/kmpp/univ_recence_0.png\"></center>"
   ]
  },
  {
   "cell_type": "markdown",
   "id": "44367810-5437-4161-8f77-4576a4ec9e1a",
   "metadata": {},
   "source": [
    "<table>\n",
    "      <tr>\n",
    "        <th><center>Nom</center></th>\n",
    "        <th><center>Valeur</center></th>\n",
    "      </tr>\n",
    "      <tr>\n",
    "        <td><center>Min</center></td>\n",
    "        <td><center>0</center></td>\n",
    "      </tr>\n",
    "      <tr>\n",
    "        <td><center>Max</center></td>\n",
    "        <td><center>713</center></td>\n",
    "      </tr>\n",
    "      <tr>\n",
    "        <td><center>Moyenne</center></td>\n",
    "        <td><center>233</center></td>\n",
    "      </tr>\n",
    "        <tr>\n",
    "        <td><center>Mediane</center></td>\n",
    "        <td><center>215</center></td>\n",
    "        </tr>\n",
    "       <tr>\n",
    "        <td><center>Mode</center></td>\n",
    "        <td><center>277</center></td>\n",
    "       </tr>\n",
    "          <tr>\n",
    "        <td><center>Ecart-type</center></td>\n",
    "        <td><center>127</center></td>\n",
    "      </tr>\n",
    "        <tr>\n",
    "        <td><center>Var</center></td>\n",
    "        <td><center>16015</center></td>\n",
    "        </tr>\n",
    "       <tr>\n",
    "        <td><center>CV</center></td>\n",
    "        <td><center>0.54</center></td>\n",
    "       </tr>\n",
    "       <tr>\n",
    "        <td><center>Q1</center></td>\n",
    "        <td><center>153</center></td>\n",
    "       </tr>\n",
    "        <tr>\n",
    "        <td><center>Q2</center></td>\n",
    "        <td><center>215</center></td>\n",
    "       </tr>\n",
    "        <tr>\n",
    "        <td><center>Q3</center></td>\n",
    "        <td><center>292</center></td>\n",
    "       </tr>\n",
    "</table>"
   ]
  },
  {
   "cell_type": "markdown",
   "id": "cd58b7f0-0e52-44f0-8b8f-778cdd73626a",
   "metadata": {},
   "source": [
    "<b>Tendances centrales</b><br>\n",
    "Le mode est de 277. Ce qui signifie que c'est la valeur la plus fréquente qui apparait dans le jeu de données. Cela étant dit la moyenne globale est de 233 avec une médiane à 215. Cette dernière valeur signifie que j’ai autant de valeurs supérieures ou inférieures à 215.<br>\n",
    "<b>Dispersions</b> <br>\n",
    "Concernant les mesures de dispersions, la variance empirique est de 16015. Cette valeur nous montre que les mesures sont assez dispersées autour de la valeur moyenne. Cette dispersion est aussi illustrée par l'écart-type = 127 (qui est tout simplement la racine carrée de la variance empirique). Le coefficient de variation = 0.54 (écart-type empirique/moyenne).<br>\n",
    "Le 1er Quartile = 153 : 25% des valeurs sont en dessous de cette valeur et 75% sont au-dessus<br>\n",
    "Le 2eme Quartile = 215 = valeur médiane vu au-dessus : 50% des valeurs sont en dessous de cette valeur et 50% au-dessus<br>\n",
    "Le 3eme Quartile = 292 = 75% des valeurs sont en dessous de cette valeur et 25% au-dessus<br>\n",
    "L'écart interquartile = 292 - 153 = 139<br>\n",
    "50% des valeurs se situent entre 153 et 292<br>\n",
    "La valeur minimale est 0 et la valeur maximale est 713"
   ]
  },
  {
   "cell_type": "markdown",
   "id": "e00eb17e-ef6e-4e93-94a3-88a7137a6860",
   "metadata": {},
   "source": [
    "###### <a href=\"Renard_Anthony_2_notebook_essais_012023.ipynb#C823122\"> 8.2.3.1.2.2 Clustering 1 <a>"
   ]
  },
  {
   "cell_type": "markdown",
   "id": "6e1f2c9b-f5a5-4f03-9da8-f2630489a1fe",
   "metadata": {},
   "source": [
    "<center><img alt=\"rfmer\" src=\"images/segmentation/rfmer/kmpp/univ_recence_1.png\"></center>"
   ]
  },
  {
   "cell_type": "markdown",
   "id": "db04a9b9-5287-452d-ab58-47bd3aa3c688",
   "metadata": {},
   "source": [
    "<table>\n",
    "      <tr>\n",
    "        <th><center>Nom</center></th>\n",
    "        <th><center>Valeur</center></th>\n",
    "      </tr>\n",
    "      <tr>\n",
    "        <td><center>Min</center></td>\n",
    "        <td><center>0</center></td>\n",
    "      </tr>\n",
    "      <tr>\n",
    "        <td><center>Max</center></td>\n",
    "        <td><center>448</center></td>\n",
    "      </tr>\n",
    "      <tr>\n",
    "        <td><center>Moyenne</center></td>\n",
    "        <td><center>135</center></td>\n",
    "      </tr>\n",
    "        <tr>\n",
    "        <td><center>Mediane</center></td>\n",
    "        <td><center>137</center></td>\n",
    "        </tr>\n",
    "       <tr>\n",
    "        <td><center>Mode</center></td>\n",
    "        <td><center>277</center></td>\n",
    "       </tr>\n",
    "          <tr>\n",
    "        <td><center>Ecart-type</center></td>\n",
    "        <td><center>86</center></td>\n",
    "      </tr>\n",
    "        <tr>\n",
    "        <td><center>Var</center></td>\n",
    "        <td><center>7437</center></td>\n",
    "        </tr>\n",
    "       <tr>\n",
    "        <td><center>CV</center></td>\n",
    "        <td><center>0.64</center></td>\n",
    "       </tr>\n",
    "       <tr>\n",
    "        <td><center>Q1</center></td>\n",
    "        <td><center>48</center></td>\n",
    "       </tr>\n",
    "        <tr>\n",
    "        <td><center>Q2</center></td>\n",
    "        <td><center>137</center></td>\n",
    "       </tr>\n",
    "        <tr>\n",
    "        <td><center>Q3</center></td>\n",
    "        <td><center>199</center></td>\n",
    "       </tr>\n",
    "</table>"
   ]
  },
  {
   "cell_type": "markdown",
   "id": "fb260072-0395-4281-bd91-406b8b4bddf8",
   "metadata": {},
   "source": [
    "<b>Tendances centrales</b><br>\n",
    "Le mode est de 277. Ce qui signifie que c'est la valeur la plus fréquente qui apparait dans le jeu de données. Cela étant dit la moyenne globale est de 135 avec une médiane à 137. Cette dernière valeur signifie que j’ai autant de valeurs supérieures ou inférieures à 137.<br>\n",
    "<b>Dispersions</b> <br>\n",
    "Concernant les mesures de dispersions, la variance empirique est de 7437. Cette valeur nous montre que les mesures sont assez dispersées autour de la valeur moyenne. Cette dispersion est aussi illustrée par l'écart-type = 86 (qui est tout simplement la racine carrée de la variance empirique). Le coefficient de variation = 0.64 (écart-type empirique/moyenne).<br>\n",
    "Le 1er Quartile = 48 : 25% des valeurs sont en dessous de cette valeur et 75% sont au-dessus<br>\n",
    "Le 2eme Quartile = 137 = valeur médiane vu au-dessus : 50% des valeurs sont en dessous de cette valeur et 50% au-dessus<br>\n",
    "Le 3eme Quartile = 199 = 75% des valeurs sont en dessous de cette valeur et 25% au-dessus<br>\n",
    "L'écart interquartile = 199 - 48 = 151<br>\n",
    "50% des valeurs se situent entre 48 et 199<br>\n",
    "La valeur minimale est 0 et la valeur maximale est 448"
   ]
  },
  {
   "cell_type": "markdown",
   "id": "39226384-d49f-4657-8582-7d0aed895ae5",
   "metadata": {},
   "source": [
    "###### <a href=\"Renard_Anthony_2_notebook_essais_012023.ipynb#C823123\"> 8.2.3.1.2.3 Clustering 2 <a>"
   ]
  },
  {
   "cell_type": "markdown",
   "id": "0dd26ef2-b61a-4065-aefc-36f56c5c2617",
   "metadata": {},
   "source": [
    "<center><img alt=\"rfmer\" src=\"images/segmentation/rfmer/kmpp/univ_recence_2.png\"></center>"
   ]
  },
  {
   "cell_type": "markdown",
   "id": "9d5c178d-a271-4773-aa59-913730d790b7",
   "metadata": {},
   "source": [
    "<table>\n",
    "      <tr>\n",
    "        <th><center>Nom</center></th>\n",
    "        <th><center>Valeur</center></th>\n",
    "      </tr>\n",
    "      <tr>\n",
    "        <td><center>Min</center></td>\n",
    "        <td><center>0</center></td>\n",
    "      </tr>\n",
    "      <tr>\n",
    "        <td><center>Max</center></td>\n",
    "        <td><center>690</center></td>\n",
    "      </tr>\n",
    "      <tr>\n",
    "        <td><center>Moyenne</center></td>\n",
    "        <td><center>217</center></td>\n",
    "      </tr>\n",
    "        <tr>\n",
    "        <td><center>Mediane</center></td>\n",
    "        <td><center>197</center></td>\n",
    "        </tr>\n",
    "       <tr>\n",
    "        <td><center>Mode</center></td>\n",
    "        <td><center>277</center></td>\n",
    "       </tr>\n",
    "          <tr>\n",
    "        <td><center>Ecart-type</center></td>\n",
    "        <td><center>144</center></td>\n",
    "      </tr>\n",
    "        <tr>\n",
    "        <td><center>Var</center></td>\n",
    "        <td><center>20749</center></td>\n",
    "        </tr>\n",
    "       <tr>\n",
    "        <td><center>CV</center></td>\n",
    "        <td><center>0.66</center></td>\n",
    "       </tr>\n",
    "       <tr>\n",
    "        <td><center>Q1</center></td>\n",
    "        <td><center>100</center></td>\n",
    "       </tr>\n",
    "        <tr>\n",
    "        <td><center>Q2</center></td>\n",
    "        <td><center>197</center></td>\n",
    "       </tr>\n",
    "        <tr>\n",
    "        <td><center>Q3</center></td>\n",
    "        <td><center>319</center></td>\n",
    "       </tr>\n",
    "</table>"
   ]
  },
  {
   "cell_type": "markdown",
   "id": "f893285b-03a0-44fb-88b7-2c70b096f774",
   "metadata": {},
   "source": [
    "<b>Tendances centrales</b><br>\n",
    "Le mode est de 277. Ce qui signifie que c'est la valeur la plus fréquente qui apparait dans le jeu de données. Cela étant dit la moyenne globale est de 217 avec une médiane à 197. Cette dernière valeur signifie que j’ai autant de valeurs supérieures ou inférieures à 197.<br>\n",
    "<b>Dispersions</b> <br>\n",
    "Concernant les mesures de dispersions, la variance empirique est de 20749. Cette valeur nous montre que les mesures sont assez dispersées autour de la valeur moyenne. Cette dispersion est aussi illustrée par l'écart-type = 144 (qui est tout simplement la racine carrée de la variance empirique). Le coefficient de variation = 0.66 (écart-type empirique/moyenne).<br>\n",
    "Le 1er Quartile = 100 : 25% des valeurs sont en dessous de cette valeur et 75% sont au-dessus<br>\n",
    "Le 2eme Quartile = 197 = valeur médiane vu au-dessus : 50% des valeurs sont en dessous de cette valeur et 50% au-dessus<br>\n",
    "Le 3eme Quartile = 319 = 75% des valeurs sont en dessous de cette valeur et 25% au-dessus<br>\n",
    "L'écart interquartile = 319 - 100 = 219<br>\n",
    "50% des valeurs se situent entre 100 et 319<br>\n",
    "La valeur minimale est 0 et la valeur maximale est 690"
   ]
  },
  {
   "cell_type": "markdown",
   "id": "e9c24597-9bb2-4a50-91d6-bee51a72e194",
   "metadata": {},
   "source": [
    "###### <a href=\"Renard_Anthony_2_notebook_essais_012023.ipynb#C823124\"> 8.2.3.1.2.4 Clustering 3 <a>"
   ]
  },
  {
   "cell_type": "markdown",
   "id": "804982e3-7205-43d3-902d-ddc15b7e77e3",
   "metadata": {},
   "source": [
    "<center><img alt=\"rfmer\" src=\"images/segmentation/rfmer/kmpp/univ_recence_3.png\"></center>"
   ]
  },
  {
   "cell_type": "markdown",
   "id": "ba008107-4f76-4dd2-8a25-d4d07b4215de",
   "metadata": {},
   "source": [
    "<table>\n",
    "      <tr>\n",
    "        <th><center>Nom</center></th>\n",
    "        <th><center>Valeur</center></th>\n",
    "      </tr>\n",
    "      <tr>\n",
    "        <td><center>Min</center></td>\n",
    "        <td><center>258</center></td>\n",
    "      </tr>\n",
    "      <tr>\n",
    "        <td><center>Max</center></td>\n",
    "        <td><center>694</center></td>\n",
    "      </tr>\n",
    "      <tr>\n",
    "        <td><center>Moyenne</center></td>\n",
    "        <td><center>414</center></td>\n",
    "      </tr>\n",
    "        <tr>\n",
    "        <td><center>Mediane</center></td>\n",
    "        <td><center>405</center></td>\n",
    "        </tr>\n",
    "       <tr>\n",
    "        <td><center>Mode</center></td>\n",
    "        <td><center>277</center></td>\n",
    "       </tr>\n",
    "          <tr>\n",
    "        <td><center>Ecart-type</center></td>\n",
    "        <td><center>89</center></td>\n",
    "      </tr>\n",
    "        <tr>\n",
    "        <td><center>Var</center></td>\n",
    "        <td><center>7945</center></td>\n",
    "        </tr>\n",
    "       <tr>\n",
    "        <td><center>CV</center></td>\n",
    "        <td><center>0.22</center></td>\n",
    "       </tr>\n",
    "       <tr>\n",
    "        <td><center>Q1</center></td>\n",
    "        <td><center>342</center></td>\n",
    "       </tr>\n",
    "        <tr>\n",
    "        <td><center>Q2</center></td>\n",
    "        <td><center>405</center></td>\n",
    "       </tr>\n",
    "        <tr>\n",
    "        <td><center>Q3</center></td>\n",
    "        <td><center>479</center></td>\n",
    "       </tr>\n",
    "</table>"
   ]
  },
  {
   "cell_type": "markdown",
   "id": "24742885-0450-4c9d-95ab-1af571e5f78a",
   "metadata": {},
   "source": [
    "<b>Tendances centrales</b><br>\n",
    "Le mode est de 277. Ce qui signifie que c'est la valeur la plus fréquente qui apparait dans le jeu de données. Cela étant dit la moyenne globale est de 414 avec une médiane à 405. Cette dernière valeur signifie que j’ai autant de valeurs supérieures ou inférieures à 405.<br>\n",
    "<b>Dispersions</b> <br>\n",
    "Concernant les mesures de dispersions, la variance empirique est de 7945. Cette valeur nous montre que les mesures sont assez dispersées autour de la valeur moyenne. Cette dispersion est aussi illustrée par l'écart-type = 89 (qui est tout simplement la racine carrée de la variance empirique). Le coefficient de variation = 0.22 (écart-type empirique/moyenne).<br>\n",
    "Le 1er Quartile = 342 : 25% des valeurs sont en dessous de cette valeur et 75% sont au-dessus<br>\n",
    "Le 2eme Quartile = 405 = valeur médiane vu au-dessus : 50% des valeurs sont en dessous de cette valeur et 50% au-dessus<br>\n",
    "Le 3eme Quartile = 479 = 75% des valeurs sont en dessous de cette valeur et 25% au-dessus<br>\n",
    "L'écart interquartile = 479 - 342 = 137<br>\n",
    "50% des valeurs se situent entre 342 et 479<br>\n",
    "La valeur minimale est 258 et la valeur maximale est 694"
   ]
  },
  {
   "cell_type": "markdown",
   "id": "66b96f13-9a61-4dd6-9a05-f95f7f2faef8",
   "metadata": {},
   "source": [
    "###### <a href=\"Renard_Anthony_2_notebook_essais_012023.ipynb#C823125\"> 8.2.3.1.2.5 Clustering 4 <a>"
   ]
  },
  {
   "cell_type": "markdown",
   "id": "ee24fe50-9890-4e99-b403-dbada5846ed5",
   "metadata": {},
   "source": [
    "<center><img alt=\"rfmer\" src=\"images/segmentation/rfmer/kmpp/univ_recence_4.png\"></center>"
   ]
  },
  {
   "cell_type": "markdown",
   "id": "249d36f5-1017-44c1-b3d7-f6de4e7d1330",
   "metadata": {},
   "source": [
    "<table>\n",
    "      <tr>\n",
    "        <th><center>Nom</center></th>\n",
    "        <th><center>Valeur</center></th>\n",
    "      </tr>\n",
    "      <tr>\n",
    "        <td><center>Min</center></td>\n",
    "        <td><center>0</center></td>\n",
    "      </tr>\n",
    "      <tr>\n",
    "        <td><center>Max</center></td>\n",
    "        <td><center>567</center></td>\n",
    "      </tr>\n",
    "      <tr>\n",
    "        <td><center>Moyenne</center></td>\n",
    "        <td><center>147</center></td>\n",
    "      </tr>\n",
    "        <tr>\n",
    "        <td><center>Mediane</center></td>\n",
    "        <td><center>134</center></td>\n",
    "        </tr>\n",
    "       <tr>\n",
    "        <td><center>Mode</center></td>\n",
    "        <td><center>84</center></td>\n",
    "       </tr>\n",
    "          <tr>\n",
    "        <td><center>Ecart-type</center></td>\n",
    "        <td><center>80</center></td>\n",
    "      </tr>\n",
    "        <tr>\n",
    "        <td><center>Var</center></td>\n",
    "        <td><center>6345</center></td>\n",
    "        </tr>\n",
    "       <tr>\n",
    "        <td><center>CV</center></td>\n",
    "        <td><center>0.54</center></td>\n",
    "       </tr>\n",
    "       <tr>\n",
    "        <td><center>Q1</center></td>\n",
    "        <td><center>79</center></td>\n",
    "       </tr>\n",
    "        <tr>\n",
    "        <td><center>Q2</center></td>\n",
    "        <td><center>134</center></td>\n",
    "       </tr>\n",
    "        <tr>\n",
    "        <td><center>Q3</center></td>\n",
    "        <td><center>221</center></td>\n",
    "       </tr>\n",
    "</table>"
   ]
  },
  {
   "cell_type": "markdown",
   "id": "39c17c24-eab5-4e84-9271-677cb4144916",
   "metadata": {},
   "source": [
    "<b>Tendances centrales</b><br>\n",
    "Le mode est de 84. Ce qui signifie que c'est la valeur la plus fréquente qui apparait dans le jeu de données. Cela étant dit la moyenne globale est de 147 avec une médiane à 134. Cette dernière valeur signifie que j’ai autant de valeurs supérieures ou inférieures à 134.<br>\n",
    "<b>Dispersions</b> <br>\n",
    "Concernant les mesures de dispersions, la variance empirique est de 6345. Cette valeur nous montre que les mesures sont assez dispersées autour de la valeur moyenne. Cette dispersion est aussi illustrée par l'écart-type = 80 (qui est tout simplement la racine carrée de la variance empirique). Le coefficient de variation = 0.54 (écart-type empirique/moyenne).<br>\n",
    "Le 1er Quartile = 79 : 25% des valeurs sont en dessous de cette valeur et 75% sont au-dessus<br>\n",
    "Le 2eme Quartile = 134 = valeur médiane vu au-dessus : 50% des valeurs sont en dessous de cette valeur et 50% au-dessus<br>\n",
    "Le 3eme Quartile = 221 = 75% des valeurs sont en dessous de cette valeur et 25% au-dessus<br>\n",
    "L'écart interquartile = 221 - 79 = 142<br>\n",
    "50% des valeurs se situent entre 79 et 221<br>\n",
    "La valeur minimale est 0 et la valeur maximale est 567"
   ]
  },
  {
   "cell_type": "markdown",
   "id": "985292a8-3892-4ad0-b7bc-7fed67eb3ab4",
   "metadata": {
    "tags": []
   },
   "source": [
    "### Fréquence"
   ]
  },
  {
   "cell_type": "markdown",
   "id": "c16f6bfd-0cc9-4224-8003-548b4873bb84",
   "metadata": {},
   "source": [
    "<center><img alt=\"frequence\" src=\"images/segmentation/rfmer/kmpp/frequence.png\"></center>"
   ]
  },
  {
   "cell_type": "markdown",
   "id": "39cc0d66-a635-47cf-8bf0-19d6509527c1",
   "metadata": {},
   "source": [
    "###### <a href=\"Renard_Anthony_2_notebook_essais_012023.ipynb#C823121\"> 8.2.3.1.2.1 Clustering 0 <a>"
   ]
  },
  {
   "cell_type": "markdown",
   "id": "08712c96-7e9d-4ab2-b1b9-76093ff8d777",
   "metadata": {},
   "source": [
    "<center><img alt=\"rfmer\" src=\"images/segmentation/rfmer/kmpp/univ_frequence_0.png\"></center>"
   ]
  },
  {
   "cell_type": "markdown",
   "id": "3a70ead2-40c9-419d-ba09-7f7c17e79310",
   "metadata": {},
   "source": [
    "<table>\n",
    "      <tr>\n",
    "        <th><center>Nom</center></th>\n",
    "        <th><center>Valeur</center></th>\n",
    "      </tr>\n",
    "      <tr>\n",
    "        <td><center>Min</center></td>\n",
    "        <td><center>1</center></td>\n",
    "      </tr>\n",
    "      <tr>\n",
    "        <td><center>Max</center></td>\n",
    "        <td><center>2</center></td>\n",
    "      </tr>\n",
    "      <tr>\n",
    "        <td><center>Moyenne</center></td>\n",
    "        <td><center>1</center></td>\n",
    "      </tr>\n",
    "        <tr>\n",
    "        <td><center>Mediane</center></td>\n",
    "        <td><center>1</center></td>\n",
    "        </tr>\n",
    "       <tr>\n",
    "        <td><center>Mode</center></td>\n",
    "        <td><center>1</center></td>\n",
    "       </tr>\n",
    "          <tr>\n",
    "        <td><center>Ecart-type</center></td>\n",
    "        <td><center>0.16</center></td>\n",
    "      </tr>\n",
    "        <tr>\n",
    "        <td><center>Var</center></td>\n",
    "        <td><center>0.02</center></td>\n",
    "        </tr>\n",
    "       <tr>\n",
    "        <td><center>CV</center></td>\n",
    "        <td><center>0.15</center></td>\n",
    "       </tr>\n",
    "       <tr>\n",
    "        <td><center>Q1</center></td>\n",
    "        <td><center>1</center></td>\n",
    "       </tr>\n",
    "        <tr>\n",
    "        <td><center>Q2</center></td>\n",
    "        <td><center>1</center></td>\n",
    "       </tr>\n",
    "        <tr>\n",
    "        <td><center>Q3</center></td>\n",
    "        <td><center>1</center></td>\n",
    "       </tr>\n",
    "</table>"
   ]
  },
  {
   "cell_type": "markdown",
   "id": "245a7c4e-3f2c-4c04-af0d-9ad0fe0ca890",
   "metadata": {},
   "source": [
    "<b>Tendances centrales</b><br>\n",
    "Le mode est de 1. Ce qui signifie que c'est la valeur la plus fréquente qui apparait dans le jeu de données. Cela étant dit la moyenne globale est de 1 avec une médiane à 1.<br>\n",
    "<b>Dispersions</b> <br>\n",
    "Concernant les mesures de dispersions, la variance empirique est de 0.02. Cette valeur nous montre que les mesures sont presque toutes égales à la valeur moyenne. Cette dispersion est aussi illustrée par l'écart-type = 0.16 (qui est tout simplement la racine carrée de la variance empirique). Le coefficient de variation = 0.15 (écart-type empirique/moyenne).<br>\n",
    "Le 1er Quartile = 1 : 25% des valeurs sont en dessous de cette valeur et 75% sont au-dessus<br>\n",
    "Le 2eme Quartile = 1 = valeur médiane vu au-dessus : 50% des valeurs sont en dessous de cette valeur et 50% au-dessus<br>\n",
    "Le 3eme Quartile = 1 = 75% des valeurs sont en dessous de cette valeur et 25% au-dessus<br>\n",
    "L'écart interquartile = 0<br>\n",
    "La valeur minimale est 1 et la valeur maximale est 2"
   ]
  },
  {
   "cell_type": "markdown",
   "id": "874e2324-8bc2-4644-86c1-26be8bccc9a9",
   "metadata": {},
   "source": [
    "###### <a href=\"Renard_Anthony_2_notebook_essais_012023.ipynb#C823122\"> 8.2.3.1.2.2 Clustering 1 <a>"
   ]
  },
  {
   "cell_type": "markdown",
   "id": "84f82ad7-e99c-48a1-a850-26a0907c9790",
   "metadata": {},
   "source": [
    "<center><img alt=\"rfmer\" src=\"images/segmentation/rfmer/kmpp/univ_frequence_1.png\"></center>"
   ]
  },
  {
   "cell_type": "markdown",
   "id": "22be2115-7f52-41dc-a494-ae7f16686c97",
   "metadata": {},
   "source": [
    "<table>\n",
    "      <tr>\n",
    "        <th><center>Nom</center></th>\n",
    "        <th><center>Valeur</center></th>\n",
    "      </tr>\n",
    "      <tr>\n",
    "        <td><center>Min</center></td>\n",
    "        <td><center>1</center></td>\n",
    "      </tr>\n",
    "      <tr>\n",
    "        <td><center>Max</center></td>\n",
    "        <td><center>2</center></td>\n",
    "      </tr>\n",
    "      <tr>\n",
    "        <td><center>Moyenne</center></td>\n",
    "        <td><center>1</center></td>\n",
    "      </tr>\n",
    "        <tr>\n",
    "        <td><center>Mediane</center></td>\n",
    "        <td><center>1</center></td>\n",
    "        </tr>\n",
    "       <tr>\n",
    "        <td><center>Mode</center></td>\n",
    "        <td><center>1</center></td>\n",
    "       </tr>\n",
    "          <tr>\n",
    "        <td><center>Ecart-type</center></td>\n",
    "        <td><center>0.008</center></td>\n",
    "      </tr>\n",
    "        <tr>\n",
    "        <td><center>Var</center></td>\n",
    "        <td><center>0</center></td>\n",
    "        </tr>\n",
    "       <tr>\n",
    "        <td><center>CV</center></td>\n",
    "        <td><center>0.008</center></td>\n",
    "       </tr>\n",
    "       <tr>\n",
    "        <td><center>Q1</center></td>\n",
    "        <td><center>1</center></td>\n",
    "       </tr>\n",
    "        <tr>\n",
    "        <td><center>Q2</center></td>\n",
    "        <td><center>1</center></td>\n",
    "       </tr>\n",
    "        <tr>\n",
    "        <td><center>Q3</center></td>\n",
    "        <td><center>1</center></td>\n",
    "       </tr>\n",
    "</table>"
   ]
  },
  {
   "cell_type": "markdown",
   "id": "21912e7a-f214-428f-8db4-3677d22e0a5a",
   "metadata": {},
   "source": [
    "<b>Tendances centrales</b><br>\n",
    "Le mode est de 1. Ce qui signifie que c'est la valeur la plus fréquente qui apparait dans le jeu de données. Cela étant dit la moyenne globale est de 1 avec une médiane à 1.<br>\n",
    "<b>Dispersions</b> <br>\n",
    "Concernant les mesures de dispersions, la variance empirique est de 0. Cette valeur nous montre que les mesures sont presque toutes égales à la valeur moyenne. Cette dispersion est aussi illustrée par l'écart-type = 0.008 (qui est tout simplement la racine carrée de la variance empirique). Le coefficient de variation = 0.008 (écart-type empirique/moyenne).<br>\n",
    "Le 1er Quartile = 1 : 25% des valeurs sont en dessous de cette valeur et 75% sont au-dessus<br>\n",
    "Le 2eme Quartile = 1 = valeur médiane vu au-dessus : 50% des valeurs sont en dessous de cette valeur et 50% au-dessus<br>\n",
    "Le 3eme Quartile = 1 = 75% des valeurs sont en dessous de cette valeur et 25% au-dessus<br>\n",
    "L'écart interquartile = 0<br>\n",
    "La valeur minimale est 1 et la valeur maximale est 2"
   ]
  },
  {
   "cell_type": "markdown",
   "id": "9c8146f6-f018-4820-ae5e-bb4792281d5a",
   "metadata": {},
   "source": [
    "###### <a href=\"Renard_Anthony_2_notebook_essais_012023.ipynb#C823123\"> 8.2.3.1.2.3 Clustering 2 <a>"
   ]
  },
  {
   "cell_type": "markdown",
   "id": "3615489e-85ae-4ca3-a5fb-463acba51a3d",
   "metadata": {},
   "source": [
    "<center><img alt=\"rfmer\" src=\"images/segmentation/rfmer/kmpp/univ_frequence_2.png\"></center>"
   ]
  },
  {
   "cell_type": "markdown",
   "id": "380f1aed-14bd-4e2e-b9be-a09326875cef",
   "metadata": {},
   "source": [
    "<table>\n",
    "      <tr>\n",
    "        <th><center>Nom</center></th>\n",
    "        <th><center>Valeur</center></th>\n",
    "      </tr>\n",
    "      <tr>\n",
    "        <td><center>Min</center></td>\n",
    "        <td><center>1</center></td>\n",
    "      </tr>\n",
    "      <tr>\n",
    "        <td><center>Max</center></td>\n",
    "        <td><center>15</center></td>\n",
    "      </tr>\n",
    "      <tr>\n",
    "        <td><center>Moyenne</center></td>\n",
    "        <td><center>2</center></td>\n",
    "      </tr>\n",
    "        <tr>\n",
    "        <td><center>Mediane</center></td>\n",
    "        <td><center>2</center></td>\n",
    "        </tr>\n",
    "       <tr>\n",
    "        <td><center>Mode</center></td>\n",
    "        <td><center>2</center></td>\n",
    "       </tr>\n",
    "          <tr>\n",
    "        <td><center>Ecart-type</center></td>\n",
    "        <td><center>1</center></td>\n",
    "      </tr>\n",
    "        <tr>\n",
    "        <td><center>Var</center></td>\n",
    "        <td><center>1</center></td>\n",
    "        </tr>\n",
    "       <tr>\n",
    "        <td><center>CV</center></td>\n",
    "        <td><center>0.5</center></td>\n",
    "       </tr>\n",
    "       <tr>\n",
    "        <td><center>Q1</center></td>\n",
    "        <td><center>2</center></td>\n",
    "       </tr>\n",
    "        <tr>\n",
    "        <td><center>Q2</center></td>\n",
    "        <td><center>2</center></td>\n",
    "       </tr>\n",
    "        <tr>\n",
    "        <td><center>Q3</center></td>\n",
    "        <td><center>2</center></td>\n",
    "       </tr>\n",
    "</table>"
   ]
  },
  {
   "cell_type": "markdown",
   "id": "c0f4f6cb-4ca4-4901-bbc7-82ff1deac667",
   "metadata": {},
   "source": [
    "<b>Tendances centrales</b><br>\n",
    "Le mode est de 2. Ce qui signifie que c'est la valeur la plus fréquente qui apparait dans le jeu de données. Cela étant dit la moyenne globale est de 2 avec une médiane à 2.<br>\n",
    "<b>Dispersions</b> <br>\n",
    "Concernant les mesures de dispersions, la variance empirique est de 1. Cette valeur nous montre que les mesures sont presque toutes égales à la valeur moyenne. Cette dispersion est aussi illustrée par l'écart-type = 1 (qui est tout simplement la racine carrée de la variance empirique). Le coefficient de variation = 0.5 (écart-type empirique/moyenne).<br>\n",
    "Le 1er Quartile = 2 : 25% des valeurs sont en dessous de cette valeur et 75% sont au-dessus<br>\n",
    "Le 2eme Quartile = 2 = valeur médiane vu au-dessus : 50% des valeurs sont en dessous de cette valeur et 50% au-dessus<br>\n",
    "Le 3eme Quartile = 2 = 75% des valeurs sont en dessous de cette valeur et 25% au-dessus<br>\n",
    "L'écart interquartile = 0<br>\n",
    "La valeur minimale est 1 et la valeur maximale est 15"
   ]
  },
  {
   "cell_type": "markdown",
   "id": "8f41ac7f-9573-4b4d-b3f0-752917e9b3a3",
   "metadata": {},
   "source": [
    "###### <a href=\"Renard_Anthony_2_notebook_essais_012023.ipynb#C823124\"> 8.2.3.1.2.4 Clustering 3 <a>"
   ]
  },
  {
   "cell_type": "markdown",
   "id": "d45c012f-4a2a-4eb3-9ec3-f64204d9d336",
   "metadata": {},
   "source": [
    "<center><img alt=\"rfmer\" src=\"images/segmentation/rfmer/kmpp/univ_frequence_3.png\"></center>"
   ]
  },
  {
   "cell_type": "markdown",
   "id": "5e2ee832-1525-4f66-9d9a-f8631e36a600",
   "metadata": {},
   "source": [
    "<table>\n",
    "      <tr>\n",
    "        <th><center>Nom</center></th>\n",
    "        <th><center>Valeur</center></th>\n",
    "      </tr>\n",
    "      <tr>\n",
    "        <td><center>Min</center></td>\n",
    "        <td><center>1</center></td>\n",
    "      </tr>\n",
    "      <tr>\n",
    "        <td><center>Max</center></td>\n",
    "        <td><center>2</center></td>\n",
    "      </tr>\n",
    "      <tr>\n",
    "        <td><center>Moyenne</center></td>\n",
    "        <td><center>1</center></td>\n",
    "      </tr>\n",
    "        <tr>\n",
    "        <td><center>Mediane</center></td>\n",
    "        <td><center>1</center></td>\n",
    "        </tr>\n",
    "       <tr>\n",
    "        <td><center>Mode</center></td>\n",
    "        <td><center>1</center></td>\n",
    "       </tr>\n",
    "          <tr>\n",
    "        <td><center>Ecart-type</center></td>\n",
    "        <td><center>0.04</center></td>\n",
    "      </tr>\n",
    "        <tr>\n",
    "        <td><center>Var</center></td>\n",
    "        <td><center>0.002</center></td>\n",
    "        </tr>\n",
    "       <tr>\n",
    "        <td><center>CV</center></td>\n",
    "        <td><center>0.04</center></td>\n",
    "       </tr>\n",
    "       <tr>\n",
    "        <td><center>Q1</center></td>\n",
    "        <td><center>1</center></td>\n",
    "       </tr>\n",
    "        <tr>\n",
    "        <td><center>Q2</center></td>\n",
    "        <td><center>1</center></td>\n",
    "       </tr>\n",
    "        <tr>\n",
    "        <td><center>Q3</center></td>\n",
    "        <td><center>1</center></td>\n",
    "       </tr>\n",
    "</table>"
   ]
  },
  {
   "cell_type": "markdown",
   "id": "e3f24d5a-dcc1-478d-98cc-15d923a051de",
   "metadata": {},
   "source": [
    "<b>Tendances centrales</b><br>\n",
    "Le mode est de 1. Ce qui signifie que c'est la valeur la plus fréquente qui apparait dans le jeu de données. Cela étant dit la moyenne globale est de 1 avec une médiane à 1.<br>\n",
    "<b>Dispersions</b> <br>\n",
    "Concernant les mesures de dispersions, la variance empirique est de 0.002. Cette valeur nous montre que les mesures sont presque toutes égales à la valeur moyenne. Cette dispersion est aussi illustrée par l'écart-type = 0.04 (qui est tout simplement la racine carrée de la variance empirique). Le coefficient de variation = 0.04 (écart-type empirique/moyenne).<br>\n",
    "Le 1er Quartile = 1 : 25% des valeurs sont en dessous de cette valeur et 75% sont au-dessus<br>\n",
    "Le 2eme Quartile = 1 = valeur médiane vu au-dessus : 50% des valeurs sont en dessous de cette valeur et 50% au-dessus<br>\n",
    "Le 3eme Quartile = 1 = 75% des valeurs sont en dessous de cette valeur et 25% au-dessus<br>\n",
    "L'écart interquartile = 0<br>\n",
    "La valeur minimale est 1 et la valeur maximale est 2"
   ]
  },
  {
   "cell_type": "markdown",
   "id": "e8fe130f-654c-45d1-8ef9-df8cb6d5b19d",
   "metadata": {},
   "source": [
    "###### <a href=\"Renard_Anthony_2_notebook_essais_012023.ipynb#C823125\"> 8.2.3.1.2.5 Clustering 4 <a>"
   ]
  },
  {
   "cell_type": "markdown",
   "id": "0c3bafc2-5bf3-49a9-9796-7705c93f2e68",
   "metadata": {},
   "source": [
    "<center><img alt=\"rfmer\" src=\"images/segmentation/rfmer/kmpp/univ_frequence_4.png\"></center>"
   ]
  },
  {
   "cell_type": "markdown",
   "id": "20a80af1-6be9-47f2-bc6a-b5265bc9fb0e",
   "metadata": {},
   "source": [
    "<table>\n",
    "      <tr>\n",
    "        <th><center>Nom</center></th>\n",
    "        <th><center>Valeur</center></th>\n",
    "      </tr>\n",
    "      <tr>\n",
    "        <td><center>Min</center></td>\n",
    "        <td><center>1</center></td>\n",
    "      </tr>\n",
    "      <tr>\n",
    "        <td><center>Max</center></td>\n",
    "        <td><center>2</center></td>\n",
    "      </tr>\n",
    "      <tr>\n",
    "        <td><center>Moyenne</center></td>\n",
    "        <td><center>1</center></td>\n",
    "      </tr>\n",
    "        <tr>\n",
    "        <td><center>Mediane</center></td>\n",
    "        <td><center>1</center></td>\n",
    "        </tr>\n",
    "       <tr>\n",
    "        <td><center>Mode</center></td>\n",
    "        <td><center>1</center></td>\n",
    "       </tr>\n",
    "          <tr>\n",
    "        <td><center>Ecart-type</center></td>\n",
    "        <td><center>0.018</center></td>\n",
    "      </tr>\n",
    "        <tr>\n",
    "        <td><center>Var</center></td>\n",
    "        <td><center>0.0003</center></td>\n",
    "        </tr>\n",
    "       <tr>\n",
    "        <td><center>CV</center></td>\n",
    "        <td><center>0.02</center></td>\n",
    "       </tr>\n",
    "       <tr>\n",
    "        <td><center>Q1</center></td>\n",
    "        <td><center>1</center></td>\n",
    "       </tr>\n",
    "        <tr>\n",
    "        <td><center>Q2</center></td>\n",
    "        <td><center>1</center></td>\n",
    "       </tr>\n",
    "        <tr>\n",
    "        <td><center>Q3</center></td>\n",
    "        <td><center>1</center></td>\n",
    "       </tr>\n",
    "</table>"
   ]
  },
  {
   "cell_type": "markdown",
   "id": "216d557c-1101-44db-adea-ffaa7e4f6153",
   "metadata": {},
   "source": [
    "<b>Tendances centrales</b><br>\n",
    "Le mode est de 1. Ce qui signifie que c'est la valeur la plus fréquente qui apparait dans le jeu de données. Cela étant dit la moyenne globale est de 1 avec une médiane à 1.<br>\n",
    "<b>Dispersions</b> <br>\n",
    "Concernant les mesures de dispersions, la variance empirique est de 0.0003. Cette valeur nous montre que les mesures sont presque toutes égales à la valeur moyenne. Cette dispersion est aussi illustrée par l'écart-type = 0.018 (qui est tout simplement la racine carrée de la variance empirique). Le coefficient de variation = 0.02 (écart-type empirique/moyenne).<br>\n",
    "Le 1er Quartile = 1 : 25% des valeurs sont en dessous de cette valeur et 75% sont au-dessus<br>\n",
    "Le 2eme Quartile = 1 = valeur médiane vu au-dessus : 50% des valeurs sont en dessous de cette valeur et 50% au-dessus<br>\n",
    "Le 3eme Quartile = 1 = 75% des valeurs sont en dessous de cette valeur et 25% au-dessus<br>\n",
    "L'écart interquartile = 0<br>\n",
    "La valeur minimale est 1 et la valeur maximale est 2"
   ]
  },
  {
   "cell_type": "markdown",
   "id": "d7de8018-72f8-4309-9536-b351eb9a168b",
   "metadata": {
    "tags": []
   },
   "source": [
    "### Monétaire"
   ]
  },
  {
   "cell_type": "markdown",
   "id": "73754071-2839-49d8-a4a0-49d854252458",
   "metadata": {},
   "source": [
    "<center><img alt=\"montant\" src=\"images/segmentation/rfmer/kmpp/montant.png\"></center>"
   ]
  },
  {
   "cell_type": "markdown",
   "id": "16066101-1185-4a07-9aa1-7bfffe221f6c",
   "metadata": {},
   "source": [
    "###### <a href=\"Renard_Anthony_2_notebook_essais_012023.ipynb#C823121\"> 8.2.3.1.2.1 Clustering 0 <a>"
   ]
  },
  {
   "cell_type": "markdown",
   "id": "3ef14157-6e2a-4e33-8786-f471420677ca",
   "metadata": {},
   "source": [
    "<center><img alt=\"rfmer\" src=\"images/segmentation/rfmer/kmpp/univ_montant_0.png\"></center>"
   ]
  },
  {
   "cell_type": "markdown",
   "id": "d9c28e71-048d-4d54-a8a6-54616debb355",
   "metadata": {},
   "source": [
    "<table>\n",
    "      <tr>\n",
    "        <th><center>Nom</center></th>\n",
    "        <th><center>Valeur</center></th>\n",
    "      </tr>\n",
    "      <tr>\n",
    "        <td><center>Min</center></td>\n",
    "        <td><center>14</center></td>\n",
    "      </tr>\n",
    "      <tr>\n",
    "        <td><center>Max</center></td>\n",
    "        <td><center>2093</center></td>\n",
    "      </tr>\n",
    "      <tr>\n",
    "        <td><center>Moyenne</center></td>\n",
    "        <td><center>169</center></td>\n",
    "      </tr>\n",
    "        <tr>\n",
    "        <td><center>Mediane</center></td>\n",
    "        <td><center>118</center></td>\n",
    "        </tr>\n",
    "       <tr>\n",
    "        <td><center>Mode</center></td>\n",
    "        <td><center>117</center></td>\n",
    "       </tr>\n",
    "          <tr>\n",
    "        <td><center>Ecart-type</center></td>\n",
    "        <td><center>171</center></td>\n",
    "      </tr>\n",
    "        <tr>\n",
    "        <td><center>Var</center></td>\n",
    "        <td><center>29299</center></td>\n",
    "        </tr>\n",
    "       <tr>\n",
    "        <td><center>CV</center></td>\n",
    "        <td><center>1</center></td>\n",
    "       </tr>\n",
    "       <tr>\n",
    "        <td><center>Q1</center></td>\n",
    "        <td><center>68</center></td>\n",
    "       </tr>\n",
    "        <tr>\n",
    "        <td><center>Q2</center></td>\n",
    "        <td><center>118</center></td>\n",
    "       </tr>\n",
    "        <tr>\n",
    "        <td><center>Q3</center></td>\n",
    "        <td><center>199</center></td>\n",
    "       </tr>\n",
    "</table>"
   ]
  },
  {
   "cell_type": "markdown",
   "id": "b7496a37-244d-4575-b902-a01f7b5b261c",
   "metadata": {},
   "source": [
    "<b>Tendances centrales</b><br>\n",
    "Le mode est de 117. Ce qui signifie que c'est la valeur la plus fréquente qui apparait dans le jeu de données. Cela étant dit la moyenne globale est de 169 avec une médiane à 118. Cette dernière valeur signifie que j’ai autant de valeurs supérieures ou inférieures à 118.<br>\n",
    "<b>Dispersions</b> <br>\n",
    "Concernant les mesures de dispersions, la variance empirique est de 29299. Cette valeur nous montre que les mesures sont assez dispersées autour de la valeur moyenne. Cette dispersion est aussi illustrée par l'écart-type = 171 (qui est tout simplement la racine carrée de la variance empirique). Le coefficient de variation = 1 (écart-type empirique/moyenne).<br>\n",
    "Le 1er Quartile = 68 : 25% des valeurs sont en dessous de cette valeur et 75% sont au-dessus<br>\n",
    "Le 2eme Quartile = 118 = valeur médiane vu au-dessus : 50% des valeurs sont en dessous de cette valeur et 50% au-dessus<br>\n",
    "Le 3eme Quartile = 199 = 75% des valeurs sont en dessous de cette valeur et 25% au-dessus<br>\n",
    "L'écart interquartile = 199 - 68 = 131<br>\n",
    "50% des valeurs se situent entre 68 et 199<br>\n",
    "La valeur minimale est 14 et la valeur maximale est 2093"
   ]
  },
  {
   "cell_type": "markdown",
   "id": "a9afa3b2-3b27-4600-9e17-bddfe53796d0",
   "metadata": {},
   "source": [
    "###### <a href=\"Renard_Anthony_2_notebook_essais_012023.ipynb#C823122\"> 8.2.3.1.2.2 Clustering 1 <a>"
   ]
  },
  {
   "cell_type": "markdown",
   "id": "b2299680-9643-40af-a48d-a441d391d06a",
   "metadata": {},
   "source": [
    "<center><img alt=\"rfmer\" src=\"images/segmentation/rfmer/kmpp/univ_montant_1.png\"></center>"
   ]
  },
  {
   "cell_type": "markdown",
   "id": "3aba2ff9-c034-4f96-a472-5c64057a08e0",
   "metadata": {},
   "source": [
    "<table>\n",
    "      <tr>\n",
    "        <th><center>Nom</center></th>\n",
    "        <th><center>Valeur</center></th>\n",
    "      </tr>\n",
    "      <tr>\n",
    "        <td><center>Min</center></td>\n",
    "        <td><center>10</center></td>\n",
    "      </tr>\n",
    "      <tr>\n",
    "        <td><center>Max</center></td>\n",
    "        <td><center>996</center></td>\n",
    "      </tr>\n",
    "      <tr>\n",
    "        <td><center>Moyenne</center></td>\n",
    "        <td><center>121</center></td>\n",
    "      </tr>\n",
    "        <tr>\n",
    "        <td><center>Mediane</center></td>\n",
    "        <td><center>91</center></td>\n",
    "        </tr>\n",
    "       <tr>\n",
    "        <td><center>Mode</center></td>\n",
    "        <td><center>38</center></td>\n",
    "       </tr>\n",
    "          <tr>\n",
    "        <td><center>Ecart-type</center></td>\n",
    "        <td><center>106</center></td>\n",
    "      </tr>\n",
    "        <tr>\n",
    "        <td><center>Var</center></td>\n",
    "        <td><center>11340</center></td>\n",
    "        </tr>\n",
    "       <tr>\n",
    "        <td><center>CV</center></td>\n",
    "        <td><center>0.88</center></td>\n",
    "       </tr>\n",
    "       <tr>\n",
    "        <td><center>Q1</center></td>\n",
    "        <td><center>54</center></td>\n",
    "       </tr>\n",
    "        <tr>\n",
    "        <td><center>Q2</center></td>\n",
    "        <td><center>91</center></td>\n",
    "       </tr>\n",
    "        <tr>\n",
    "        <td><center>Q3</center></td>\n",
    "        <td><center>150</center></td>\n",
    "       </tr>\n",
    "</table>"
   ]
  },
  {
   "cell_type": "markdown",
   "id": "e5f94d91-eb79-4b40-909d-2da16f73d496",
   "metadata": {},
   "source": [
    "<b>Tendances centrales</b><br>\n",
    "Le mode est de 38. Ce qui signifie que c'est la valeur la plus fréquente qui apparait dans le jeu de données. Cela étant dit la moyenne globale est de 121 avec une médiane à 91. Cette dernière valeur signifie que j’ai autant de valeurs supérieures ou inférieures à 91.<br>\n",
    "<b>Dispersions</b> <br>\n",
    "Concernant les mesures de dispersions, la variance empirique est de 11340. Cette valeur nous montre que les mesures sont assez dispersées autour de la valeur moyenne. Cette dispersion est aussi illustrée par l'écart-type = 106 (qui est tout simplement la racine carrée de la variance empirique). Le coefficient de variation = 0.88 (écart-type empirique/moyenne).<br>\n",
    "Le 1er Quartile = 54 : 25% des valeurs sont en dessous de cette valeur et 75% sont au-dessus<br>\n",
    "Le 2eme Quartile = 91 = valeur médiane vu au-dessus : 50% des valeurs sont en dessous de cette valeur et 50% au-dessus<br>\n",
    "Le 3eme Quartile = 150 = 75% des valeurs sont en dessous de cette valeur et 25% au-dessus<br>\n",
    "L'écart interquartile = 150 - 54 = 96<br>\n",
    "50% des valeurs se situent entre 54 et 150<br>\n",
    "La valeur minimale est 10 et la valeur maximale est 996"
   ]
  },
  {
   "cell_type": "markdown",
   "id": "5299af86-528a-4fa7-8854-462054bd0ab1",
   "metadata": {},
   "source": [
    "###### <a href=\"Renard_Anthony_2_notebook_essais_012023.ipynb#C823123\"> 8.2.3.1.2.3 Clustering 2 <a>"
   ]
  },
  {
   "cell_type": "markdown",
   "id": "76da44f6-a011-442a-9b46-389057fb492b",
   "metadata": {},
   "source": [
    "<center><img alt=\"rfmer\" src=\"images/segmentation/rfmer/kmpp/univ_montant_2.png\"></center>"
   ]
  },
  {
   "cell_type": "markdown",
   "id": "5a01b4b0-1e12-44a5-9ff6-91363445ea0b",
   "metadata": {},
   "source": [
    "<table>\n",
    "      <tr>\n",
    "        <th><center>Nom</center></th>\n",
    "        <th><center>Valeur</center></th>\n",
    "      </tr>\n",
    "      <tr>\n",
    "        <td><center>Min</center></td>\n",
    "        <td><center>36</center></td>\n",
    "      </tr>\n",
    "      <tr>\n",
    "        <td><center>Max</center></td>\n",
    "        <td><center>13664</center></td>\n",
    "      </tr>\n",
    "      <tr>\n",
    "        <td><center>Moyenne</center></td>\n",
    "        <td><center>523</center></td>\n",
    "      </tr>\n",
    "        <tr>\n",
    "        <td><center>Mediane</center></td>\n",
    "        <td><center>276</center></td>\n",
    "        </tr>\n",
    "       <tr>\n",
    "        <td><center>Mode</center></td>\n",
    "        <td><center>879</center></td>\n",
    "       </tr>\n",
    "          <tr>\n",
    "        <td><center>Ecart-type</center></td>\n",
    "        <td><center>636</center></td>\n",
    "      </tr>\n",
    "        <tr>\n",
    "        <td><center>Var</center></td>\n",
    "        <td><center>403970</center></td>\n",
    "        </tr>\n",
    "       <tr>\n",
    "        <td><center>CV</center></td>\n",
    "        <td><center>1.22</center></td>\n",
    "       </tr>\n",
    "       <tr>\n",
    "        <td><center>Q1</center></td>\n",
    "        <td><center>166</center></td>\n",
    "       </tr>\n",
    "        <tr>\n",
    "        <td><center>Q2</center></td>\n",
    "        <td><center>276</center></td>\n",
    "       </tr>\n",
    "        <tr>\n",
    "        <td><center>Q3</center></td>\n",
    "        <td><center>589</center></td>\n",
    "       </tr>\n",
    "</table>"
   ]
  },
  {
   "cell_type": "markdown",
   "id": "e0ac2c36-7c6a-4845-84ac-2cd0c123f6a1",
   "metadata": {},
   "source": [
    "<b>Tendances centrales</b><br>\n",
    "Le mode est de 879. Ce qui signifie que c'est la valeur la plus fréquente qui apparait dans le jeu de données. Cela étant dit la moyenne globale est de 523 avec une médiane à 276. Cette dernière valeur signifie que j’ai autant de valeurs supérieures ou inférieures à 276.<br>\n",
    "<b>Dispersions</b> <br>\n",
    "Concernant les mesures de dispersions, la variance empirique est de 403970. Cette valeur nous montre que les mesures sont très dispersées autour de la valeur moyenne. Cette dispersion est aussi illustrée par l'écart-type = 636 (qui est tout simplement la racine carrée de la variance empirique). Le coefficient de variation = 1.22 (écart-type empirique/moyenne).<br>\n",
    "Le 1er Quartile = 166 : 25% des valeurs sont en dessous de cette valeur et 75% sont au-dessus<br>\n",
    "Le 2eme Quartile = 276 = valeur médiane vu au-dessus : 50% des valeurs sont en dessous de cette valeur et 50% au-dessus<br>\n",
    "Le 3eme Quartile = 589 = 75% des valeurs sont en dessous de cette valeur et 25% au-dessus<br>\n",
    "L'écart interquartile = 589 - 166 = 423<br>\n",
    "50% des valeurs se situent entre 166 et 589<br>\n",
    "La valeur minimale est 36 et la valeur maximale est 13664"
   ]
  },
  {
   "cell_type": "markdown",
   "id": "a2b22f27-05b8-4a44-82cf-9ae5aa511829",
   "metadata": {},
   "source": [
    "###### <a href=\"Renard_Anthony_2_notebook_essais_012023.ipynb#C823124\"> 8.2.3.1.2.4 Clustering 3 <a>"
   ]
  },
  {
   "cell_type": "markdown",
   "id": "313b0be2-9e5d-4ec3-a45f-b197bb7db579",
   "metadata": {},
   "source": [
    "<center><img alt=\"rfmer\" src=\"images/segmentation/rfmer/kmpp/univ_montant_3.png\"></center>"
   ]
  },
  {
   "cell_type": "markdown",
   "id": "bf4e7a50-62e8-4626-beb8-9b4f881854c6",
   "metadata": {},
   "source": [
    "<table>\n",
    "      <tr>\n",
    "        <th><center>Nom</center></th>\n",
    "        <th><center>Valeur</center></th>\n",
    "      </tr>\n",
    "      <tr>\n",
    "        <td><center>Min</center></td>\n",
    "        <td><center>10</center></td>\n",
    "      </tr>\n",
    "      <tr>\n",
    "        <td><center>Max</center></td>\n",
    "        <td><center>1156</center></td>\n",
    "      </tr>\n",
    "      <tr>\n",
    "        <td><center>Moyenne</center></td>\n",
    "        <td><center>142</center></td>\n",
    "      </tr>\n",
    "        <tr>\n",
    "        <td><center>Mediane</center></td>\n",
    "        <td><center>101</center></td>\n",
    "        </tr>\n",
    "       <tr>\n",
    "        <td><center>Mode</center></td>\n",
    "        <td><center>78</center></td>\n",
    "       </tr>\n",
    "          <tr>\n",
    "        <td><center>Ecart-type</center></td>\n",
    "        <td><center>135</center></td>\n",
    "      </tr>\n",
    "        <tr>\n",
    "        <td><center>Var</center></td>\n",
    "        <td><center>18097</center></td>\n",
    "        </tr>\n",
    "       <tr>\n",
    "        <td><center>CV</center></td>\n",
    "        <td><center>0.95</center></td>\n",
    "       </tr>\n",
    "       <tr>\n",
    "        <td><center>Q1</center></td>\n",
    "        <td><center>61</center></td>\n",
    "       </tr>\n",
    "        <tr>\n",
    "        <td><center>Q2</center></td>\n",
    "        <td><center>101</center></td>\n",
    "       </tr>\n",
    "        <tr>\n",
    "        <td><center>Q3</center></td>\n",
    "        <td><center>168</center></td>\n",
    "       </tr>\n",
    "</table>"
   ]
  },
  {
   "cell_type": "markdown",
   "id": "0c6e14a2-e49c-4672-9da0-c0650bf81722",
   "metadata": {},
   "source": [
    "<b>Tendances centrales</b><br>\n",
    "Le mode est de 78. Ce qui signifie que c'est la valeur la plus fréquente qui apparait dans le jeu de données. Cela étant dit la moyenne globale est de 142 avec une médiane à 101. Cette dernière valeur signifie que j’ai autant de valeurs supérieures ou inférieures à 101.<br>\n",
    "<b>Dispersions</b> <br>\n",
    "Concernant les mesures de dispersions, la variance empirique est de 18097. Cette valeur nous montre que les mesures sont assez dispersées autour de la valeur moyenne. Cette dispersion est aussi illustrée par l'écart-type = 135 (qui est tout simplement la racine carrée de la variance empirique). Le coefficient de variation = 0.95 (écart-type empirique/moyenne).<br>\n",
    "Le 1er Quartile = 61 : 25% des valeurs sont en dessous de cette valeur et 75% sont au-dessus<br>\n",
    "Le 2eme Quartile = 101 = valeur médiane vu au-dessus : 50% des valeurs sont en dessous de cette valeur et 50% au-dessus<br>\n",
    "Le 3eme Quartile = 168 = 75% des valeurs sont en dessous de cette valeur et 25% au-dessus<br>\n",
    "L'écart interquartile = 168 - 61 = 107<br>\n",
    "50% des valeurs se situent entre 61 et 168<br>\n",
    "La valeur minimale est 10 et la valeur maximale est 1156"
   ]
  },
  {
   "cell_type": "markdown",
   "id": "0cb3fbd5-114f-421c-add2-463019154fab",
   "metadata": {},
   "source": [
    "###### <a href=\"Renard_Anthony_2_notebook_essais_012023.ipynb#C823125\"> 8.2.3.1.2.5 Clustering 4 <a>"
   ]
  },
  {
   "cell_type": "markdown",
   "id": "8a4907d2-04db-4dec-8db5-395adb7b2a7d",
   "metadata": {},
   "source": [
    "<center><img alt=\"rfmer\" src=\"images/segmentation/rfmer/kmpp/univ_montant_4.png\"></center>"
   ]
  },
  {
   "cell_type": "markdown",
   "id": "c685cd57-0daf-4f89-882a-cb956e575401",
   "metadata": {},
   "source": [
    "<table>\n",
    "      <tr>\n",
    "        <th><center>Nom</center></th>\n",
    "        <th><center>Valeur</center></th>\n",
    "      </tr>\n",
    "      <tr>\n",
    "        <td><center>Min</center></td>\n",
    "        <td><center>12</center></td>\n",
    "      </tr>\n",
    "      <tr>\n",
    "        <td><center>Max</center></td>\n",
    "        <td><center>1126</center></td>\n",
    "      </tr>\n",
    "      <tr>\n",
    "        <td><center>Moyenne</center></td>\n",
    "        <td><center>170</center></td>\n",
    "      </tr>\n",
    "        <tr>\n",
    "        <td><center>Mediane</center></td>\n",
    "        <td><center>123</center></td>\n",
    "        </tr>\n",
    "       <tr>\n",
    "        <td><center>Mode</center></td>\n",
    "        <td><center>100</center></td>\n",
    "       </tr>\n",
    "          <tr>\n",
    "        <td><center>Ecart-type</center></td>\n",
    "        <td><center>154</center></td>\n",
    "      </tr>\n",
    "        <tr>\n",
    "        <td><center>Var</center></td>\n",
    "        <td><center>23780</center></td>\n",
    "        </tr>\n",
    "       <tr>\n",
    "        <td><center>CV</center></td>\n",
    "        <td><center>0.91</center></td>\n",
    "       </tr>\n",
    "       <tr>\n",
    "        <td><center>Q1</center></td>\n",
    "        <td><center>72</center></td>\n",
    "       </tr>\n",
    "        <tr>\n",
    "        <td><center>Q2</center></td>\n",
    "        <td><center>123</center></td>\n",
    "       </tr>\n",
    "        <tr>\n",
    "        <td><center>Q3</center></td>\n",
    "        <td><center>204</center></td>\n",
    "       </tr>\n",
    "</table>"
   ]
  },
  {
   "cell_type": "markdown",
   "id": "86f94df0-e38a-4f76-9615-7c04bb171a55",
   "metadata": {},
   "source": [
    "<b>Tendances centrales</b><br>\n",
    "Le mode est de 100. Ce qui signifie que c'est la valeur la plus fréquente qui apparait dans le jeu de données. Cela étant dit la moyenne globale est de 170 avec une médiane à 123. Cette dernière valeur signifie que j’ai autant de valeurs supérieures ou inférieures à 123.<br>\n",
    "<b>Dispersions</b> <br>\n",
    "Concernant les mesures de dispersions, la variance empirique est de 23780. Cette valeur nous montre que les mesures sont assez dispersées autour de la valeur moyenne. Cette dispersion est aussi illustrée par l'écart-type = 154 (qui est tout simplement la racine carrée de la variance empirique). Le coefficient de variation = 0.91 (écart-type empirique/moyenne).<br>\n",
    "Le 1er Quartile = 72 : 25% des valeurs sont en dessous de cette valeur et 75% sont au-dessus<br>\n",
    "Le 2eme Quartile = 123 = valeur médiane vu au-dessus : 50% des valeurs sont en dessous de cette valeur et 50% au-dessus<br>\n",
    "Le 3eme Quartile = 204 = 75% des valeurs sont en dessous de cette valeur et 25% au-dessus<br>\n",
    "L'écart interquartile = 204 - 72 = 132<br>\n",
    "50% des valeurs se situent entre 72 et 204<br>\n",
    "La valeur minimale est 12 et la valeur maximale est 1126"
   ]
  },
  {
   "cell_type": "markdown",
   "id": "3e1bab75-10ee-4ce8-bb00-91e64ee72be5",
   "metadata": {
    "tags": []
   },
   "source": [
    "### Evaluation clients"
   ]
  },
  {
   "cell_type": "markdown",
   "id": "da62515b-1024-40a8-bf67-81ef76de3c62",
   "metadata": {},
   "source": [
    "<center><img alt=\"evaluatiion\" src=\"images/segmentation/rfmer/kmpp/evaluation.png\"></center>"
   ]
  },
  {
   "cell_type": "markdown",
   "id": "8712f74e-377b-4854-b806-7eb44127cd44",
   "metadata": {},
   "source": [
    "###### <a href=\"Renard_Anthony_2_notebook_essais_012023.ipynb#C823121\"> 8.2.3.1.2.1 Clustering 0 <a>"
   ]
  },
  {
   "cell_type": "markdown",
   "id": "af5ec619-2db1-415d-a42b-48e93c4a1a2a",
   "metadata": {},
   "source": [
    "<center><img alt=\"rfmer\" src=\"images/segmentation/rfmer/kmpp/univ_eval_0.png\"></center>"
   ]
  },
  {
   "cell_type": "markdown",
   "id": "85336828-7c01-4422-84ef-9998046e02a4",
   "metadata": {},
   "source": [
    "<table>\n",
    "      <tr>\n",
    "        <th><center>Nom</center></th>\n",
    "        <th><center>Valeur</center></th>\n",
    "      </tr>\n",
    "      <tr>\n",
    "        <td><center>Min</center></td>\n",
    "        <td><center>1</center></td>\n",
    "      </tr>\n",
    "      <tr>\n",
    "        <td><center>Max</center></td>\n",
    "        <td><center>5</center></td>\n",
    "      </tr>\n",
    "      <tr>\n",
    "        <td><center>Moyenne</center></td>\n",
    "        <td><center>1.5</center></td>\n",
    "      </tr>\n",
    "        <tr>\n",
    "        <td><center>Mediane</center></td>\n",
    "        <td><center>1</center></td>\n",
    "        </tr>\n",
    "       <tr>\n",
    "        <td><center>Mode</center></td>\n",
    "        <td><center>1</center></td>\n",
    "       </tr>\n",
    "          <tr>\n",
    "        <td><center>Ecart-type</center></td>\n",
    "        <td><center>0.77</center></td>\n",
    "      </tr>\n",
    "        <tr>\n",
    "        <td><center>Var</center></td>\n",
    "        <td><center>0.6</center></td>\n",
    "        </tr>\n",
    "       <tr>\n",
    "        <td><center>CV</center></td>\n",
    "        <td><center>0.5</center></td>\n",
    "       </tr>\n",
    "       <tr>\n",
    "        <td><center>Q1</center></td>\n",
    "        <td><center>1</center></td>\n",
    "       </tr>\n",
    "        <tr>\n",
    "        <td><center>Q2</center></td>\n",
    "        <td><center>1</center></td>\n",
    "       </tr>\n",
    "        <tr>\n",
    "        <td><center>Q3</center></td>\n",
    "        <td><center>2</center></td>\n",
    "       </tr>\n",
    "</table>"
   ]
  },
  {
   "cell_type": "markdown",
   "id": "87f1fd6c-797d-425d-a14c-f9136aaa6328",
   "metadata": {},
   "source": [
    "<b>Tendances centrales</b><br>\n",
    "Le mode est de 1. Ce qui signifie que c'est la valeur la plus fréquente qui apparait dans le jeu de données. Cela étant dit la moyenne globale est de 1.5 avec une médiane à 1.<br>\n",
    "<b>Dispersions</b> <br>\n",
    "Concernant les mesures de dispersions, la variance empirique est de 0.6. Cette valeur nous montre que les mesures sont peu dispersées autour de la valeur moyenne. Cette dispersion est aussi illustrée par l'écart-type = 0.77 (qui est tout simplement la racine carrée de la variance empirique). Le coefficient de variation = 0.5 (écart-type empirique/moyenne).<br>\n",
    "Le 1er Quartile = 1 : 25% des valeurs sont en dessous de cette valeur et 75% sont au-dessus<br>\n",
    "Le 2eme Quartile = 1 = valeur médiane vu au-dessus : 50% des valeurs sont en dessous de cette valeur et 50% au-dessus<br>\n",
    "Le 3eme Quartile = 2 = 75% des valeurs sont en dessous de cette valeur et 25% au-dessus<br>\n",
    "L'écart interquartile = 2 - 1 = 1<br>\n",
    "Au moins 50% des valeurs valent 1 et 2<br>\n",
    "La valeur minimale est 1 et la valeur maximale est 5"
   ]
  },
  {
   "cell_type": "markdown",
   "id": "6a8e1a01-25f1-4078-bc85-0642ac2bf6bb",
   "metadata": {},
   "source": [
    "###### <a href=\"Renard_Anthony_2_notebook_essais_012023.ipynb#C823122\"> 8.2.3.1.2.2 Clustering 1 <a>"
   ]
  },
  {
   "cell_type": "markdown",
   "id": "3fc1d080-33a4-4e83-9b6e-e8bca5c1faf0",
   "metadata": {},
   "source": [
    "<center><img alt=\"rfmer\" src=\"images/segmentation/rfmer/kmpp/univ_eval_1.png\"></center>"
   ]
  },
  {
   "cell_type": "markdown",
   "id": "1d618208-e174-4cae-ba66-7b836c959795",
   "metadata": {},
   "source": [
    "<table>\n",
    "      <tr>\n",
    "        <th><center>Nom</center></th>\n",
    "        <th><center>Valeur</center></th>\n",
    "      </tr>\n",
    "      <tr>\n",
    "        <td><center>Min</center></td>\n",
    "        <td><center>3</center></td>\n",
    "      </tr>\n",
    "      <tr>\n",
    "        <td><center>Max</center></td>\n",
    "        <td><center>5</center></td>\n",
    "      </tr>\n",
    "      <tr>\n",
    "        <td><center>Moyenne</center></td>\n",
    "        <td><center>4.7</center></td>\n",
    "      </tr>\n",
    "        <tr>\n",
    "        <td><center>Mediane</center></td>\n",
    "        <td><center>5</center></td>\n",
    "        </tr>\n",
    "       <tr>\n",
    "        <td><center>Mode</center></td>\n",
    "        <td><center>5</center></td>\n",
    "       </tr>\n",
    "          <tr>\n",
    "        <td><center>Ecart-type</center></td>\n",
    "        <td><center>0.57</center></td>\n",
    "      </tr>\n",
    "        <tr>\n",
    "        <td><center>Var</center></td>\n",
    "        <td><center>0.33</center></td>\n",
    "        </tr>\n",
    "       <tr>\n",
    "        <td><center>CV</center></td>\n",
    "        <td><center>0.12</center></td>\n",
    "       </tr>\n",
    "       <tr>\n",
    "        <td><center>Q1</center></td>\n",
    "        <td><center>4</center></td>\n",
    "       </tr>\n",
    "        <tr>\n",
    "        <td><center>Q2</center></td>\n",
    "        <td><center>5</center></td>\n",
    "       </tr>\n",
    "        <tr>\n",
    "        <td><center>Q3</center></td>\n",
    "        <td><center>5</center></td>\n",
    "       </tr>\n",
    "</table>"
   ]
  },
  {
   "cell_type": "markdown",
   "id": "8dabc078-4850-4b6b-8122-a9404687b15f",
   "metadata": {},
   "source": [
    "<b>Tendances centrales</b><br>\n",
    "Le mode est de 5. Ce qui signifie que c'est la valeur la plus fréquente qui apparait dans le jeu de données. Cela étant dit la moyenne globale est de 4.7 avec une médiane à 5.<br>\n",
    "<b>Dispersions</b> <br>\n",
    "Concernant les mesures de dispersions, la variance empirique est de 0.33. Cette valeur nous montre que les mesures sont peu dispersées autour de la valeur moyenne. Cette dispersion est aussi illustrée par l'écart-type = 0.57 (qui est tout simplement la racine carrée de la variance empirique). Le coefficient de variation = 0.12 (écart-type empirique/moyenne).<br>\n",
    "Le 1er Quartile = 4 : 25% des valeurs sont en dessous de cette valeur et 75% sont au-dessus<br>\n",
    "Le 2eme Quartile = 5 = valeur médiane vu au-dessus : 50% des valeurs sont en dessous de cette valeur et 50% au-dessus<br>\n",
    "Le 3eme Quartile = 5 = 75% des valeurs sont en dessous de cette valeur et 25% au-dessus<br>\n",
    "L'écart interquartile = 5 - 4 = 1<br>\n",
    "Au moins 50% des valeurs valent 4 et 5<br>\n",
    "La valeur minimale est 3 et la valeur maximale est 5"
   ]
  },
  {
   "cell_type": "markdown",
   "id": "ee38ff77-e780-440c-84d1-03c3544605bc",
   "metadata": {},
   "source": [
    "###### <a href=\"Renard_Anthony_2_notebook_essais_012023.ipynb#C823123\"> 8.2.3.1.2.3 Clustering 2 <a>"
   ]
  },
  {
   "cell_type": "markdown",
   "id": "f27bc0e2-66f6-4ce1-85fe-42a5fa9c52ae",
   "metadata": {},
   "source": [
    "<center><img alt=\"rfmer\" src=\"images/segmentation/rfmer/kmpp/univ_eval_2.png\"></center>"
   ]
  },
  {
   "cell_type": "markdown",
   "id": "96159c9f-668e-4a4d-8e5d-d1043df81d9e",
   "metadata": {},
   "source": [
    "<table>\n",
    "      <tr>\n",
    "        <th><center>Nom</center></th>\n",
    "        <th><center>Valeur</center></th>\n",
    "      </tr>\n",
    "      <tr>\n",
    "        <td><center>Min</center></td>\n",
    "        <td><center>1</center></td>\n",
    "      </tr>\n",
    "      <tr>\n",
    "        <td><center>Max</center></td>\n",
    "        <td><center>5</center></td>\n",
    "      </tr>\n",
    "      <tr>\n",
    "        <td><center>Moyenne</center></td>\n",
    "        <td><center>4.38</center></td>\n",
    "      </tr>\n",
    "        <tr>\n",
    "        <td><center>Mediane</center></td>\n",
    "        <td><center>5</center></td>\n",
    "        </tr>\n",
    "       <tr>\n",
    "        <td><center>Mode</center></td>\n",
    "        <td><center>5</center></td>\n",
    "       </tr>\n",
    "          <tr>\n",
    "        <td><center>Ecart-type</center></td>\n",
    "        <td><center>1.06</center></td>\n",
    "      </tr>\n",
    "        <tr>\n",
    "        <td><center>Var</center></td>\n",
    "        <td><center>1.12</center></td>\n",
    "        </tr>\n",
    "       <tr>\n",
    "        <td><center>CV</center></td>\n",
    "        <td><center>0.24</center></td>\n",
    "       </tr>\n",
    "       <tr>\n",
    "        <td><center>Q1</center></td>\n",
    "        <td><center>4</center></td>\n",
    "       </tr>\n",
    "        <tr>\n",
    "        <td><center>Q2</center></td>\n",
    "        <td><center>5</center></td>\n",
    "       </tr>\n",
    "        <tr>\n",
    "        <td><center>Q3</center></td>\n",
    "        <td><center>5</center></td>\n",
    "       </tr>\n",
    "</table>"
   ]
  },
  {
   "cell_type": "markdown",
   "id": "dcc32f55-c7ab-49f4-8e4f-4810e45a72ed",
   "metadata": {},
   "source": [
    "<b>Tendances centrales</b><br>\n",
    "Le mode est de 5. Ce qui signifie que c'est la valeur la plus fréquente qui apparait dans le jeu de données. Cela étant dit la moyenne globale est de 4.38 avec une médiane à 5.<br>\n",
    "<b>Dispersions</b> <br>\n",
    "Concernant les mesures de dispersions, la variance empirique est de 1.12. Cette valeur nous montre que les mesures sont peu dispersées autour de la valeur moyenne. Cette dispersion est aussi illustrée par l'écart-type = 1.06 (qui est tout simplement la racine carrée de la variance empirique). Le coefficient de variation = 0.24 (écart-type empirique/moyenne).<br>\n",
    "Le 1er Quartile = 4 : 25% des valeurs sont en dessous de cette valeur et 75% sont au-dessus<br>\n",
    "Le 2eme Quartile = 5 = valeur médiane vu au-dessus : 50% des valeurs sont en dessous de cette valeur et 50% au-dessus<br>\n",
    "Le 3eme Quartile = 5 = 75% des valeurs sont en dessous de cette valeur et 25% au-dessus<br>\n",
    "L'écart interquartile = 5 - 4 = 1<br>\n",
    "Au moins 50% des valeurs valent 4 et 5<br>\n",
    "La valeur minimale est X et la valeur maximale est X"
   ]
  },
  {
   "cell_type": "markdown",
   "id": "24366120-17ad-42b1-bc06-71d9ab9972d3",
   "metadata": {},
   "source": [
    "###### <a href=\"Renard_Anthony_2_notebook_essais_012023.ipynb#C823124\"> 8.2.3.1.2.4 Clustering 3 <a>"
   ]
  },
  {
   "cell_type": "markdown",
   "id": "83feebeb-f591-4693-9381-941b84949269",
   "metadata": {},
   "source": [
    "<center><img alt=\"rfmer\" src=\"images/segmentation/rfmer/kmpp/univ_eval_3.png\"></center>"
   ]
  },
  {
   "cell_type": "markdown",
   "id": "91cd0a65-f443-4d1a-8c80-7139c9f6efeb",
   "metadata": {},
   "source": [
    "<table>\n",
    "      <tr>\n",
    "        <th><center>Nom</center></th>\n",
    "        <th><center>Valeur</center></th>\n",
    "      </tr>\n",
    "      <tr>\n",
    "        <td><center>Min</center></td>\n",
    "        <td><center>1</center></td>\n",
    "      </tr>\n",
    "      <tr>\n",
    "        <td><center>Max</center></td>\n",
    "        <td><center>5</center></td>\n",
    "      </tr>\n",
    "      <tr>\n",
    "        <td><center>Moyenne</center></td>\n",
    "        <td><center>4.6</center></td>\n",
    "      </tr>\n",
    "        <tr>\n",
    "        <td><center>Mediane</center></td>\n",
    "        <td><center>5</center></td>\n",
    "        </tr>\n",
    "       <tr>\n",
    "        <td><center>Mode</center></td>\n",
    "        <td><center>5</center></td>\n",
    "       </tr>\n",
    "          <tr>\n",
    "        <td><center>Ecart-type</center></td>\n",
    "        <td><center>0.7</center></td>\n",
    "      </tr>\n",
    "        <tr>\n",
    "        <td><center>Var</center></td>\n",
    "        <td><center>0.5</center></td>\n",
    "        </tr>\n",
    "       <tr>\n",
    "        <td><center>CV</center></td>\n",
    "        <td><center>0.15</center></td>\n",
    "       </tr>\n",
    "       <tr>\n",
    "        <td><center>Q1</center></td>\n",
    "        <td><center>4</center></td>\n",
    "       </tr>\n",
    "        <tr>\n",
    "        <td><center>Q2</center></td>\n",
    "        <td><center>5</center></td>\n",
    "       </tr>\n",
    "        <tr>\n",
    "        <td><center>Q3</center></td>\n",
    "        <td><center>5</center></td>\n",
    "       </tr>\n",
    "</table>"
   ]
  },
  {
   "cell_type": "markdown",
   "id": "c361bb8b-4d55-46c3-bdd6-81c495452ff0",
   "metadata": {},
   "source": [
    "<b>Tendances centrales</b><br>\n",
    "Le mode est de 5. Ce qui signifie que c'est la valeur la plus fréquente qui apparait dans le jeu de données. Cela étant dit la moyenne globale est de 4.6 avec une médiane à 5.<br>\n",
    "<b>Dispersions</b> <br>\n",
    "Concernant les mesures de dispersions, la variance empirique est de 0.5. Cette valeur nous montre que les mesures sont peu dispersées autour de la valeur moyenne. Cette dispersion est aussi illustrée par l'écart-type = 0.7 (qui est tout simplement la racine carrée de la variance empirique). Le coefficient de variation = 0.15 (écart-type empirique/moyenne).<br>\n",
    "Le 1er Quartile = 4 : 25% des valeurs sont en dessous de cette valeur et 75% sont au-dessus<br>\n",
    "Le 2eme Quartile = 5 = valeur médiane vu au-dessus : 50% des valeurs sont en dessous de cette valeur et 50% au-dessus<br>\n",
    "Le 3eme Quartile = 5 = 75% des valeurs sont en dessous de cette valeur et 25% au-dessus<br>\n",
    "L'écart interquartile = 5 - 4 = 1<br>\n",
    "Au moins 50% des valeurs valent 4 et 5<br>\n",
    "La valeur minimale est 1 et la valeur maximale est 5"
   ]
  },
  {
   "cell_type": "markdown",
   "id": "0f76140c-684d-4564-9d50-bbf00b882960",
   "metadata": {},
   "source": [
    "###### <a href=\"Renard_Anthony_2_notebook_essais_012023.ipynb#C823125\"> 8.2.3.1.2.5 Clustering 4 <a>"
   ]
  },
  {
   "cell_type": "markdown",
   "id": "13dc188c-fbfd-4f84-a298-549f11e489b5",
   "metadata": {},
   "source": [
    "<center><img alt=\"rfmer\" src=\"images/segmentation/rfmer/kmpp/univ_eval_4.png\"></center>"
   ]
  },
  {
   "cell_type": "markdown",
   "id": "8e041ea6-9b9b-463d-8d7a-374fbd6c3e8c",
   "metadata": {},
   "source": [
    "<table>\n",
    "      <tr>\n",
    "        <th><center>Nom</center></th>\n",
    "        <th><center>Valeur</center></th>\n",
    "      </tr>\n",
    "      <tr>\n",
    "        <td><center>Min</center></td>\n",
    "        <td><center>1</center></td>\n",
    "      </tr>\n",
    "      <tr>\n",
    "        <td><center>Max</center></td>\n",
    "        <td><center>5</center></td>\n",
    "      </tr>\n",
    "      <tr>\n",
    "        <td><center>Moyenne</center></td>\n",
    "        <td><center>4.6</center></td>\n",
    "      </tr>\n",
    "        <tr>\n",
    "        <td><center>Mediane</center></td>\n",
    "        <td><center>5</center></td>\n",
    "        </tr>\n",
    "       <tr>\n",
    "        <td><center>Mode</center></td>\n",
    "        <td><center>5</center></td>\n",
    "       </tr>\n",
    "          <tr>\n",
    "        <td><center>Ecart-type</center></td>\n",
    "        <td><center>0.73</center></td>\n",
    "      </tr>\n",
    "        <tr>\n",
    "        <td><center>Var</center></td>\n",
    "        <td><center>0.53</center></td>\n",
    "        </tr>\n",
    "       <tr>\n",
    "        <td><center>CV</center></td>\n",
    "        <td><center>0.16</center></td>\n",
    "       </tr>\n",
    "       <tr>\n",
    "        <td><center>Q1</center></td>\n",
    "        <td><center>4</center></td>\n",
    "       </tr>\n",
    "        <tr>\n",
    "        <td><center>Q2</center></td>\n",
    "        <td><center>5</center></td>\n",
    "       </tr>\n",
    "        <tr>\n",
    "        <td><center>Q3</center></td>\n",
    "        <td><center>5</center></td>\n",
    "       </tr>\n",
    "</table>"
   ]
  },
  {
   "cell_type": "markdown",
   "id": "7ab406e9-c9bb-4309-a7a1-5fc6b8a68ecb",
   "metadata": {},
   "source": [
    "<b>Tendances centrales</b><br>\n",
    "Le mode est de 5. Ce qui signifie que c'est la valeur la plus fréquente qui apparait dans le jeu de données. Cela étant dit la moyenne globale est de 4.6 avec une médiane à 5.<br>\n",
    "<b>Dispersions</b> <br>\n",
    "Concernant les mesures de dispersions, la variance empirique est de 0.53. Cette valeur nous montre que les mesures sont peu dispersées autour de la valeur moyenne. Cette dispersion est aussi illustrée par l'écart-type = 0.73 (qui est tout simplement la racine carrée de la variance empirique). Le coefficient de variation = 0.16 (écart-type empirique/moyenne).<br>\n",
    "Le 1er Quartile = 4 : 25% des valeurs sont en dessous de cette valeur et 75% sont au-dessus<br>\n",
    "Le 2eme Quartile = 5 = valeur médiane vu au-dessus : 50% des valeurs sont en dessous de cette valeur et 50% au-dessus<br>\n",
    "Le 3eme Quartile = 5 = 75% des valeurs sont en dessous de cette valeur et 25% au-dessus<br>\n",
    "L'écart interquartile = 5 - 4 = 1<br>\n",
    "Au moins 50% des valeurs valent 4 et 5<br>\n",
    "La valeur minimale est 1 et la valeur maximale est 5"
   ]
  },
  {
   "cell_type": "markdown",
   "id": "797be9f1-2e7e-4ccf-8051-7392f762812d",
   "metadata": {
    "tags": []
   },
   "source": [
    "### Retard livraison"
   ]
  },
  {
   "cell_type": "markdown",
   "id": "ba6a9659-f29f-49d6-a478-95395651a9c5",
   "metadata": {},
   "source": [
    "<center><img alt=\"retard\" src=\"images/segmentation/rfmer/kmpp/retard.png\"></center>"
   ]
  },
  {
   "cell_type": "markdown",
   "id": "01fa5915-d38b-4443-a58c-12262a6e8e4d",
   "metadata": {
    "tags": []
   },
   "source": [
    "###### <a href=\"Renard_Anthony_2_notebook_essais_012023.ipynb#C823121\"> 8.2.3.1.2.1 Clustering 0 <a>"
   ]
  },
  {
   "cell_type": "markdown",
   "id": "03913c19-0bdc-4206-b5c2-232bf5a78a91",
   "metadata": {},
   "source": [
    "<center><img alt=\"rfmer\" src=\"images/segmentation/rfmer/kmpp/univ_retard_0.png\"></center>"
   ]
  },
  {
   "cell_type": "markdown",
   "id": "ae2e78c5-bb56-496c-9bcf-305346da206a",
   "metadata": {},
   "source": [
    "<table>\n",
    "      <tr>\n",
    "        <th><center>Nom</center></th>\n",
    "        <th><center>Valeur</center></th>\n",
    "      </tr>\n",
    "      <tr>\n",
    "        <td><center>Min</center></td>\n",
    "        <td><center>-2.957804e+06</center></td>\n",
    "      </tr>\n",
    "      <tr>\n",
    "        <td><center>Max</center></td>\n",
    "        <td><center>1.632745e+07</center></td>\n",
    "      </tr>\n",
    "      <tr>\n",
    "        <td><center>Moyenne</center></td>\n",
    "        <td><center>-194384</center></td>\n",
    "      </tr>\n",
    "        <tr>\n",
    "        <td><center>Mediane</center></td>\n",
    "        <td><center>-465871</center></td>\n",
    "        </tr>\n",
    "       <tr>\n",
    "        <td><center>Mode</center></td>\n",
    "        <td><center>N valeurs</center></td>\n",
    "       </tr>\n",
    "          <tr>\n",
    "        <td><center>Ecart-type</center></td>\n",
    "        <td><center>1345701</center></td>\n",
    "      </tr>\n",
    "        <tr>\n",
    "        <td><center>Var</center></td>\n",
    "        <td><center>1810911013977</center></td>\n",
    "        </tr>\n",
    "       <tr>\n",
    "        <td><center>CV</center></td>\n",
    "        <td><center>-6.92</center></td>\n",
    "       </tr>\n",
    "       <tr>\n",
    "        <td><center>Q1</center></td>\n",
    "        <td><center>-1.050728e+06</center></td>\n",
    "       </tr>\n",
    "        <tr>\n",
    "        <td><center>Q2</center></td>\n",
    "        <td><center>-4.658710e+05</center></td>\n",
    "       </tr>\n",
    "        <tr>\n",
    "        <td><center>Q3</center></td>\n",
    "        <td><center>4.964295e+05</center></td>\n",
    "       </tr>\n",
    "</table>"
   ]
  },
  {
   "cell_type": "markdown",
   "id": "f9580945-7cdd-48a0-88bf-4b17a4cb2db0",
   "metadata": {},
   "source": [
    "Remarque :\n",
    "unité en secondes\n",
    "valeurs négatives = avance\n",
    "valeurs positives = retard\n",
    "\n",
    "<b>Tendances centrales</b><br>\n",
    "Les valeurs de mode sont multiples (voir code). Ce qui signifie que ce sont les valeurs les plus fréquentes qui apparaissent dans le jeu de données. Cela étant dit la moyenne globale est de -194384 avec une médiane à -465871. Cette dernière valeur signifie que j’ai autant de valeurs supérieures ou inférieures à -465871.<br>\n",
    "<b>Dispersions</b> <br>\n",
    "Concernant les mesures de dispersions, la variance empirique est de 1810911013977. Cette valeur nous montre que les mesures sont très dispersées autour de la valeur moyenne. Cette dispersion est aussi illustrée par l'écart-type = 1345701 (qui est tout simplement la racine carrée de la variance empirique). Le coefficient de variation = -6.92 (écart-type empirique/moyenne).<br>\n",
    "Le 1er Quartile = -1.050728e+06 : 25% des valeurs sont en dessous de cette valeur et 75% sont au-dessus<br>\n",
    "Le 2eme Quartile = -1.050728e+06 = valeur médiane vu au-dessus : 50% des valeurs sont en dessous de cette valeur et 50% au-dessus<br>\n",
    "Le 3eme Quartile = -1.050728e+06 = 75% des valeurs sont en dessous de cette valeur et 25% au-dessus<br>\n",
    "L'écart interquartile = -1.050728e+06 - (-1.050728e+06) = -1 050 728 000 000<br>\n",
    "50% des valeurs se situent entre -1.050728e+06 et -1.050728e+06<br>\n",
    "La valeur minimale est -2.957804e+06 et la valeur maximale est 1.632745e+07"
   ]
  },
  {
   "cell_type": "markdown",
   "id": "921cbd61-a4de-4557-baaf-7cd0f0f4e796",
   "metadata": {
    "tags": []
   },
   "source": [
    "###### <a href=\"Renard_Anthony_2_notebook_essais_012023.ipynb#C823122\"> 8.2.3.1.2.2 Clustering 1 <a>"
   ]
  },
  {
   "cell_type": "markdown",
   "id": "b5aa487a-826d-405c-aa7d-e4d2dfe0001b",
   "metadata": {},
   "source": [
    "<center><img alt=\"rfmer\" src=\"images/segmentation/rfmer/kmpp/univ_retard_1.png\"></center>"
   ]
  },
  {
   "cell_type": "markdown",
   "id": "f692c92d-e788-442e-9182-e0ab1e7b16d4",
   "metadata": {},
   "source": [
    "<table>\n",
    "      <tr>\n",
    "        <th><center>Nom</center></th>\n",
    "        <th><center>Valeur</center></th>\n",
    "      </tr>\n",
    "      <tr>\n",
    "        <td><center>Min</center></td>\n",
    "        <td><center>-1.257980e+06</center></td>\n",
    "      </tr>\n",
    "      <tr>\n",
    "        <td><center>Max</center></td>\n",
    "        <td><center>5.245346e+06</center></td>\n",
    "      </tr>\n",
    "      <tr>\n",
    "        <td><center>Moyenne</center></td>\n",
    "        <td><center>-601532.78</center></td>\n",
    "      </tr>\n",
    "        <tr>\n",
    "        <td><center>Mediane</center></td>\n",
    "        <td><center> -630448.5</center></td>\n",
    "        </tr>\n",
    "       <tr>\n",
    "        <td><center>Mode</center></td>\n",
    "        <td><center>N valeurs</center></td>\n",
    "       </tr>\n",
    "          <tr>\n",
    "        <td><center>Ecart-type</center></td>\n",
    "        <td><center>427548.13</center></td>\n",
    "      </tr>\n",
    "        <tr>\n",
    "        <td><center>Var</center></td>\n",
    "        <td><center>182797402926.94</center></td>\n",
    "        </tr>\n",
    "       <tr>\n",
    "        <td><center>CV</center></td>\n",
    "        <td><center>-0.71</center></td>\n",
    "       </tr>\n",
    "       <tr>\n",
    "        <td><center>Q1</center></td>\n",
    "        <td><center>-9.023118e+05</center></td>\n",
    "       </tr>\n",
    "        <tr>\n",
    "        <td><center>Q2</center></td>\n",
    "        <td><center>-6.304485e+05</center></td>\n",
    "       </tr>\n",
    "        <tr>\n",
    "        <td><center>Q3</center></td>\n",
    "        <td><center>-3.746700e+05</center></td>\n",
    "       </tr>\n",
    "</table>"
   ]
  },
  {
   "cell_type": "markdown",
   "id": "29c2b065-a233-4f7b-a2b0-30ad501e0ef9",
   "metadata": {},
   "source": [
    "Remarque :\n",
    "unité en secondes\n",
    "valeurs négatives = avance\n",
    "valeurs positives = retard\n",
    "\n",
    "<b>Tendances centrales</b><br>\n",
    "Les valeurs de mode sont multiples (voir code). Ce qui signifie que ce sont les valeurs les plus fréquentes qui apparaissent dans le jeu de données. Cela étant dit la moyenne globale est de -601532.78 avec une médiane à -630448.5. Cette dernière valeur signifie que j’ai autant de valeurs supérieures ou inférieures à -630448.5.<br>\n",
    "<b>Dispersions</b> <br>\n",
    "Concernant les mesures de dispersions, la variance empirique est de 182797402926.94. Cette valeur nous montre que les mesures sont très dispersées autour de la valeur moyenne. Cette dispersion est aussi illustrée par l'écart-type = 427548.13 (qui est tout simplement la racine carrée de la variance empirique). Le coefficient de variation = -0.71 (écart-type empirique/moyenne).<br>\n",
    "Le 1er Quartile = -9.023118e+05 : 25% des valeurs sont en dessous de cette valeur et 75% sont au-dessus<br>\n",
    "Le 2eme Quartile = -6.304485e+05 = valeur médiane vu au-dessus : 50% des valeurs sont en dessous de cette valeur et 50% au-dessus<br>\n",
    "Le 3eme Quartile = -3.746700e+05 = 75% des valeurs sont en dessous de cette valeur et 25% au-dessus<br>\n",
    "L'écart interquartile = -3.746700e+05 - (-9.023118e+05) = -902 311 800 000<br>\n",
    "50% des valeurs se situent entre -9.023118e+05 et -3.746700e+05<br>\n",
    "La valeur minimale est -1.257980e+06 et la valeur maximale est 5.245346e+06"
   ]
  },
  {
   "cell_type": "markdown",
   "id": "a00bc0ad-f551-469f-90df-464ed3a4276f",
   "metadata": {},
   "source": [
    "###### <a href=\"Renard_Anthony_2_notebook_essais_012023.ipynb#C823123\"> 8.2.3.1.2.3 Clustering 2 <a>"
   ]
  },
  {
   "cell_type": "markdown",
   "id": "4496b5a1-4c40-4960-ae60-eff3577a08b6",
   "metadata": {},
   "source": [
    "<center><img alt=\"rfmer\" src=\"images/segmentation/rfmer/kmpp/univ_retard_2.png\"></center>"
   ]
  },
  {
   "cell_type": "markdown",
   "id": "07e51402-e9bc-440d-bd96-6a59a6070280",
   "metadata": {},
   "source": [
    "<table>\n",
    "      <tr>\n",
    "        <th><center>Nom</center></th>\n",
    "        <th><center>Valeur</center></th>\n",
    "      </tr>\n",
    "      <tr>\n",
    "        <td><center>Min</center></td>\n",
    "        <td><center>-6.665870e+06</center></td>\n",
    "      </tr>\n",
    "      <tr>\n",
    "        <td><center>Max</center></td>\n",
    "        <td><center>3.595328e+06</center></td>\n",
    "      </tr>\n",
    "      <tr>\n",
    "        <td><center>Moyenne</center></td>\n",
    "        <td><center>-1091755.96</center></td>\n",
    "      </tr>\n",
    "        <tr>\n",
    "        <td><center>Mediane</center></td>\n",
    "        <td><center>-1064804</center></td>\n",
    "        </tr>\n",
    "       <tr>\n",
    "        <td><center>Mode</center></td>\n",
    "        <td><center>N valeurs</center></td>\n",
    "       </tr>\n",
    "          <tr>\n",
    "        <td><center>Ecart-type</center></td>\n",
    "        <td><center>736387.38</center></td>\n",
    "      </tr>\n",
    "        <tr>\n",
    "        <td><center>Var</center></td>\n",
    "        <td><center>542266380386.9</center></td>\n",
    "        </tr>\n",
    "       <tr>\n",
    "        <td><center>CV</center></td>\n",
    "        <td><center>-0.67</center></td>\n",
    "       </tr>\n",
    "       <tr>\n",
    "        <td><center>Q1</center></td>\n",
    "        <td><center>-1.478399e+06</center></td>\n",
    "       </tr>\n",
    "        <tr>\n",
    "        <td><center>Q2</center></td>\n",
    "        <td><center>-1.064804e+06</center></td>\n",
    "       </tr>\n",
    "        <tr>\n",
    "        <td><center>Q3</center></td>\n",
    "        <td><center>-6.502615e+05</center></td>\n",
    "       </tr>\n",
    "</table>"
   ]
  },
  {
   "cell_type": "markdown",
   "id": "39299d6d-2778-4020-8c3e-8bc092b8b432",
   "metadata": {},
   "source": [
    "Remarque :\n",
    "unité en secondes\n",
    "valeurs négatives = avance\n",
    "valeurs positives = retard\n",
    "\n",
    "<b>Tendances centrales</b><br>\n",
    "Les valeurs de mode sont multiples (voir code). Ce qui signifie que ce sont les valeurs les plus fréquentes qui apparaissent dans le jeu de données. Cela étant dit la moyenne globale est de -1091755.96 avec une médiane à -1064804. Cette dernière valeur signifie que j’ai autant de valeurs supérieures ou inférieures à -1064804<br>\n",
    "<b>Dispersions</b> <br>\n",
    "Concernant les mesures de dispersions, la variance empirique est de 542266380386.9. Cette valeur nous montre que les mesures sont très dispersées autour de la valeur moyenne. Cette dispersion est aussi illustrée par l'écart-type = 736387.38 (qui est tout simplement la racine carrée de la variance empirique). Le coefficient de variation = -0.67 (écart-type empirique/moyenne).<br>\n",
    "Le 1er Quartile = -1.478399e+06 : 25% des valeurs sont en dessous de cette valeur et 75% sont au-dessus<br>\n",
    "Le 2eme Quartile = -1.064804e+06 = valeur médiane vu au-dessus : 50% des valeurs sont en dessous de cette valeur et 50% au-dessus<br>\n",
    "Le 3eme Quartile = -6.502615e+05 = 75% des valeurs sont en dessous de cette valeur et 25% au-dessus<br>\n",
    "L'écart interquartile = -6.502615e+05 - (-1.478399e+06) = -1 478 399 000 000<br>\n",
    "50% des valeurs se situent entre -1.478399e+06 et -6.502615e+05<br>\n",
    "La valeur minimale est -6.665870e+06et la valeur maximale est 3.595328e+06"
   ]
  },
  {
   "cell_type": "markdown",
   "id": "843dc835-2210-43e5-98a5-d38095110b38",
   "metadata": {},
   "source": [
    "###### <a href=\"Renard_Anthony_2_notebook_essais_012023.ipynb#C823124\"> 8.2.3.1.2.4 Clustering 3 <a>"
   ]
  },
  {
   "cell_type": "markdown",
   "id": "c524d42e-dc7f-4b05-9629-f8a40715c6cc",
   "metadata": {},
   "source": [
    "<center><img alt=\"rfmer\" src=\"images/segmentation/rfmer/kmpp/univ_retard_3.png\"></center>"
   ]
  },
  {
   "cell_type": "markdown",
   "id": "cae5d98d-13a4-40ab-b42f-520e88b989f9",
   "metadata": {},
   "source": [
    "<table>\n",
    "      <tr>\n",
    "        <th><center>Nom</center></th>\n",
    "        <th><center>Valeur</center></th>\n",
    "      </tr>\n",
    "      <tr>\n",
    "        <td><center>Min</center></td>\n",
    "        <td><center>-6.526885e+06</center></td>\n",
    "      </tr>\n",
    "      <tr>\n",
    "        <td><center>Max</center></td>\n",
    "        <td><center>2.026666e+06</center></td>\n",
    "      </tr>\n",
    "      <tr>\n",
    "        <td><center>Moyenne</center></td>\n",
    "        <td><center>-1177385</center></td>\n",
    "      </tr>\n",
    "        <tr>\n",
    "        <td><center>Mediane</center></td>\n",
    "        <td><center>-1136253.5</center></td>\n",
    "        </tr>\n",
    "       <tr>\n",
    "        <td><center>Mode</center></td>\n",
    "        <td><center>N valeurs</center></td>\n",
    "       </tr>\n",
    "          <tr>\n",
    "        <td><center>Ecart-type</center></td>\n",
    "        <td><center>605917</center></td>\n",
    "      </tr>\n",
    "        <tr>\n",
    "        <td><center>Var</center></td>\n",
    "        <td><center>367135691256</center></td>\n",
    "        </tr>\n",
    "       <tr>\n",
    "        <td><center>CV</center></td>\n",
    "        <td><center>-0.51</center></td>\n",
    "       </tr>\n",
    "       <tr>\n",
    "        <td><center>Q1</center></td>\n",
    "        <td><center>-1.428608e+06</center></td>\n",
    "       </tr>\n",
    "        <tr>\n",
    "        <td><center>Q2</center></td>\n",
    "        <td><center>-1.136254e+06</center></td>\n",
    "       </tr>\n",
    "        <tr>\n",
    "        <td><center>Q3</center></td>\n",
    "        <td><center>-8.041902e+05</center></td>\n",
    "       </tr>\n",
    "</table>"
   ]
  },
  {
   "cell_type": "markdown",
   "id": "2d921d2b-9a56-43b3-a1ae-2b8a483c16fb",
   "metadata": {},
   "source": [
    "Remarque :\n",
    "unité en secondes\n",
    "valeurs négatives = avance\n",
    "valeurs positives = retard\n",
    "\n",
    "<b>Tendances centrales</b><br>\n",
    "Les valeurs de mode sont multiples (voir code). Ce qui signifie que ce sont les valeurs les plus fréquentes qui apparaissent dans le jeu de données. Cela étant dit la moyenne globale est de -1177385 avec une médiane à -1136253.5. Cette dernière valeur signifie que j’ai autant de valeurs supérieures ou inférieures à -1136253.5<br>\n",
    "<b>Dispersions</b> <br>\n",
    "Concernant les mesures de dispersions, la variance empirique est de 367135691256. Cette valeur nous montre que les mesures sont très dispersées autour de la valeur moyenne. Cette dispersion est aussi illustrée par l'écart-type = 605917 (qui est tout simplement la racine carrée de la variance empirique). Le coefficient de variation = -0.51 (écart-type empirique/moyenne).<br>\n",
    "Le 1er Quartile = -1.428608e+06 : 25% des valeurs sont en dessous de cette valeur et 75% sont au-dessus<br>\n",
    "Le 2eme Quartile = -1.136254e+06 = valeur médiane vu au-dessus : 50% des valeurs sont en dessous de cette valeur et 50% au-dessus<br>\n",
    "Le 3eme Quartile = -8.041902e+05 = 75% des valeurs sont en dessous de cette valeur et 25% au-dessus<br>\n",
    "L'écart interquartile = -8.041902e+05 - (-1.428608e+06) = -1 428 608 000 000<br>\n",
    "50% des valeurs se situent entre -1.428608e+06 et -8.041902e+05<br>\n",
    "La valeur minimale est -6.526885e+06 et la valeur maximale est 2.026666e+06"
   ]
  },
  {
   "cell_type": "markdown",
   "id": "62f12377-23a6-4e75-9fb4-07e2d6e4cffa",
   "metadata": {},
   "source": [
    "###### <a href=\"Renard_Anthony_2_notebook_essais_012023.ipynb#C823125\"> 8.2.3.1.2.5 Clustering 4 <a>"
   ]
  },
  {
   "cell_type": "markdown",
   "id": "1d85a72b-82bf-40d1-bdf8-aeb1e4506a69",
   "metadata": {},
   "source": [
    "<center><img alt=\"rfmer\" src=\"images/segmentation/rfmer/kmpp/univ_retard_4.png\"></center>"
   ]
  },
  {
   "cell_type": "markdown",
   "id": "7b9401ed-f5da-419d-ac29-db2b034d9644",
   "metadata": {},
   "source": [
    "<table>\n",
    "      <tr>\n",
    "        <th><center>Nom</center></th>\n",
    "        <th><center>Valeur</center></th>\n",
    "      </tr>\n",
    "      <tr>\n",
    "        <td><center>Min</center></td>\n",
    "        <td><center>-1.261579e+07</center></td>\n",
    "      </tr>\n",
    "      <tr>\n",
    "        <td><center>Max</center></td>\n",
    "        <td><center>-7.050410e+05</center></td>\n",
    "      </tr>\n",
    "      <tr>\n",
    "        <td><center>Moyenne</center></td>\n",
    "        <td><center>-1.717030e+06</center></td>\n",
    "      </tr>\n",
    "        <tr>\n",
    "        <td><center>Mediane</center></td>\n",
    "        <td><center>-1586514</center></td>\n",
    "        </tr>\n",
    "       <tr>\n",
    "        <td><center>Mode</center></td>\n",
    "        <td><center>N valeurs</center></td>\n",
    "       </tr>\n",
    "          <tr>\n",
    "        <td><center>Ecart-type</center></td>\n",
    "        <td><center>552167.58</center></td>\n",
    "      </tr>\n",
    "        <tr>\n",
    "        <td><center>Var</center></td>\n",
    "        <td><center>304889039636.5688</center></td>\n",
    "        </tr>\n",
    "       <tr>\n",
    "        <td><center>CV</center></td>\n",
    "        <td><center>-0.32</center></td>\n",
    "       </tr>\n",
    "       <tr>\n",
    "        <td><center>Q1</center></td>\n",
    "        <td><center>-1.919304e+06</center></td>\n",
    "       </tr>\n",
    "        <tr>\n",
    "        <td><center>Q2</center></td>\n",
    "        <td><center>-1.586514e+06</center></td>\n",
    "       </tr>\n",
    "        <tr>\n",
    "        <td><center>Q3</center></td>\n",
    "        <td><center>-1.324280e+06</center></td>\n",
    "       </tr>\n",
    "</table>"
   ]
  },
  {
   "cell_type": "markdown",
   "id": "88d19db6-0008-4294-bc4b-e501a062091b",
   "metadata": {},
   "source": [
    "Remarque :\n",
    "unité en secondes\n",
    "valeurs négatives = avance\n",
    "valeurs positives = retard\n",
    "\n",
    "<b>Tendances centrales</b><br>\n",
    "Les valeurs de mode sont multiples (voir code). Ce qui signifie que ce sont les valeurs les plus fréquentes qui apparaissent dans le jeu de données. Cela étant dit la moyenne globale est de -1.717030e+06 avec une médiane à -1586514. Cette dernière valeur signifie que j’ai autant de valeurs supérieures ou inférieures à -1586514<br>\n",
    "<b>Dispersions</b> <br>\n",
    "Concernant les mesures de dispersions, la variance empirique est de 304889039636.5688. Cette valeur nous montre que les mesures sont très dispersées autour de la valeur moyenne. Cette dispersion est aussi illustrée par l'écart-type = 552167.58(qui est tout simplement la racine carrée de la variance empirique). Le coefficient de variation = -0.32 (écart-type empirique/moyenne).<br>\n",
    "Le 1er Quartile = -1.919304e+06 : 25% des valeurs sont en dessous de cette valeur et 75% sont au-dessus<br>\n",
    "Le 2eme Quartile = -1.586514e+06 = valeur médiane vu au-dessus : 50% des valeurs sont en dessous de cette valeur et 50% au-dessus<br>\n",
    "Le 3eme Quartile = -1.324280e+06 = 75% des valeurs sont en dessous de cette valeur et 25% au-dessus<br>\n",
    "L'écart interquartile = -1.324280e+06 - (-1.919304e+06) = -1 919 304 000 000<br>\n",
    "50% des valeurs se situent entre -1.919304e+06 et -1.324280e+06<br>\n",
    "La valeur minimale est -1.261579e+07 et la valeur maximale est -7.050410e+05"
   ]
  },
  {
   "cell_type": "markdown",
   "id": "dfe0f431-e09d-4d34-9e98-fe31198c06e4",
   "metadata": {},
   "source": [
    "##### <a href=\"Renard_Anthony_2_notebook_essais_012023.ipynb#C82313\"> 8.2.3.1.3 Intégration du clustering dans le modèle RFM et comparaison clusters RFM vs RFM_5C <a>"
   ]
  },
  {
   "cell_type": "markdown",
   "id": "aa8dc5be-e333-4487-90cb-993b7a3c4f84",
   "metadata": {},
   "source": [
    "Afin de comparer le clustering RFM (3 clusters) et RFMER (5 clusters), j'ai intégré le résultat du clustering dans RFM pour créer RFM-5C et créer 3 clusters. Le calcul du ARI score entre RFM (3 clusters) et RFM-5C (3 clusters) nous donne ARI = 0.73. Les 2 clusterings sont donc proches et on peut estimer que le clustering RFMER est une spécialisation du clustering RFM."
   ]
  },
  {
   "cell_type": "markdown",
   "id": "0ceafe25-6237-42e9-9a65-73e699dbbff7",
   "metadata": {},
   "source": [
    "### BILAN "
   ]
  },
  {
   "cell_type": "markdown",
   "id": "9e39a9a3-0cc3-4fcb-a4c6-63f5985465b8",
   "metadata": {},
   "source": [
    "<center><img alt=\"bilan rfmer\" src=\"images/segmentation/rfmer/kmpp/bilan_rfmer.png\"></center>"
   ]
  },
  {
   "cell_type": "markdown",
   "id": "a69ff0f0-a870-4068-8a50-b0b47643ffdf",
   "metadata": {},
   "source": [
    "## 8.3 Bilan de la segmentation"
   ]
  },
  {
   "cell_type": "markdown",
   "id": "1a9c4082-dbca-46b4-a4ca-ac1d9af9f691",
   "metadata": {},
   "source": [
    "<center><img alt=\"bilan segmenation\" src=\"images/segmentation/bilan_segmentation.png\"></center>"
   ]
  },
  {
   "cell_type": "markdown",
   "id": "defa9e0f-37fc-4624-bfed-532aaa1b75b9",
   "metadata": {},
   "source": [
    "# <a href=\"Renard_Anthony_3_notebook_simulation_012023.ipynb#C9\"> 9 Maintenance <a>"
   ]
  },
  {
   "cell_type": "markdown",
   "id": "6f888f98-78e7-478e-bd96-a7a0aac3a928",
   "metadata": {},
   "source": [
    "L'objectif dans cette partie est de déterminer quand la clustering a besoin d'être mis à jour. Etant donné que le clustering RFM est le clustering le plus intéressants (voir partie précédente), nous allons regarder la stabilité de ce cluster dans le temps vis vis à vis du panier moyen."
   ]
  },
  {
   "cell_type": "markdown",
   "id": "23fff463-1da5-4c34-ab76-95ef3150d8e6",
   "metadata": {},
   "source": [
    "<center><img alt=\"bilan segmenation\" src=\"images/maintenance/rfm_maintenance.png\"></center>"
   ]
  },
  {
   "cell_type": "markdown",
   "id": "99dde77c-22e5-4435-8dd5-18136e5872e3",
   "metadata": {},
   "source": [
    "Dans notre cas, nous savons que les leviers détectés impactent les clusters 1 (levier P1) et 0 (levier P2) : les actions sur ces clusters impactent le plus en termes de gain financier ; un levier sur le cluster 2 impacte financièrement de manière plus mineure. A 1 mois on voit que le cluster 1 est resté stable mais pas les clusters 0 et 2. Si l'on regarde à 3 mois, on voit que le cluster 0 est resté stable mais pas les clusters 1 et 2. Du coup, on revient à 2 mois, si l'on regarde à 2 mois, les 3 clusters sont presque revenus à leur statut initial. A 4 mois également (la situation se répète). A 6 mois les clusters 0 et 1 sont presque revenus à leur statut initial (pas le cluster 2 mais le levier associé impacte de manière mineure). Au vu de la stabilité des clusters vis à vis du \"panier moyen\", la maintenance doit donc se faire minimum tous les 2 mois. On aurait pu prendre 4 mois par exemple mais il faudrait regarder plus de paramètres pour vérifier la cohérence des clusters (quantité d'individus par cluster par exemple) car là nous avons seulement le paramètre \"panier moyen\" (de plus la situation à 8 mois n'est pas identique à 4 mois donc la répétition n'est pas validée). Dans 2 mois il faudra vérifier que la répétition à 2 et 4 mois actuellement est encore valide."
   ]
  },
  {
   "cell_type": "markdown",
   "id": "38e962dc-9831-4021-87d6-aa08ac7f4c69",
   "metadata": {
    "tags": []
   },
   "source": [
    "# 10. Synthèse"
   ]
  },
  {
   "cell_type": "markdown",
   "id": "dd4f1b0c-8fc0-4507-8ad8-d089b6136e98",
   "metadata": {},
   "source": [
    "Les objectifs de ce projet sont de fournir à l’équipe marketing une description actionnable de la segmentation et de sa logique sous-jacente pour une utilisation optimale, ainsi qu’une proposition de contrat de maintenance basée sur une analyse de la stabilité des segments au cours du temps.\n",
    "\n",
    "Lors de la récupération des données, j'ai eu à disposition 9 dataframes provenant de Olist, un site spécialisé dans le e-commerce. J'ai donc exploré 8 dataframes utiles (1 servait juste de traduction de catégories). Afin d'ajouter de la valeur à ces datas, j'ai créé quelques features complémentaires (exemple : retard de livraison) afin de pouvoir optimiser mes analyses et créer un clustering plus précis.\n",
    "\n",
    "Ensuite j'ai rassemblé certaines dataframes et/ou certaines colonnes afin de pouvoir lier chaque client à leur comportement d'achat. Je suis resté focus sur l'aspect marketing lors de ce rassemblement. \n",
    "\n",
    "D'un point de vue marketing, j'ai réalisé le calcul de la récence, montant et fréquence pour chacun des clients. \n",
    "\n",
    "Ensuite j'ai réalisé les analyses multivariés et univariés afin de détecter les variables pertinentes pour la segmentation clientèle. Ces variables sont : la récence, la fréquence, le montant, l'évaluation client et le retard de livraison. Pour cette segmentation j'ai réalisé le test de 3 classifieurs : kmeans++, classification hiérarchique et DBSCAN et j'ai selectionné celui qui répond le plus à notre besoin : le kmeans++. Ensuite, j'ai créé la segmentation RFM, RFME et RFMER afin de détecter les leviers par cluster (actions commerciales) et les gains financiers associés. Pour cela, j'ai imaginé un scénario (passage d'un cluster à un autre de 25% des clients du cluster) avec lequel j'ai comparé les 3 classifications vis à vis du panier moyen.\n",
    "Il s'avère que RFM est plus performant en termes de gain que RFME et RFMER mais RFMER apporte plus de précisions sur les actions à effectuer (malgré un gain financier moins important). RFME n'apporte pas une plus-value significative. On retiendra donc la classification RFM. \n",
    "\n",
    "Finalement, j'ai réalisé une proposition de contrat de maintenance. Pour cela j’ai détecté la stabilité temporelle des clusters sur RFM vis à vis du \"panier moyen\" et ainsi déduit la fréquence de mise à jour; une mise à jour tous les 2 mois est pertinente.\n",
    "\n",
    "Perspectives :<br>\n",
    "-Une intégration de la segmentation par « produit » afin d’affiner les actions par type de produits pourrait être intéressante malgré une disparité importante des produits achetés sur le site.<br>\n",
    "-Au niveau de la maintenance, on a constaté qu'une fréquence de 2 mois serait adéquat pour réaliser la mise à jour des clusters. Cependant, est ce valide pour les 2 mois suivants ? "
   ]
  },
  {
   "cell_type": "markdown",
   "id": "ce641b85-97a6-4711-bd08-49e6da27252c",
   "metadata": {},
   "source": [
    "# FIN"
   ]
  }
 ],
 "metadata": {
  "extensions": {
   "jupyter_dashboards": {
    "activeView": "grid_default",
    "version": 1,
    "views": {
     "grid_default": {
      "cellMargin": 2,
      "defaultCellHeight": 40,
      "maxColumns": 12,
      "name": "grid",
      "type": "grid"
     }
    }
   }
  },
  "kernelspec": {
   "display_name": "Python 3 (ipykernel)",
   "language": "python",
   "name": "python3"
  },
  "language_info": {
   "codemirror_mode": {
    "name": "ipython",
    "version": 3
   },
   "file_extension": ".py",
   "mimetype": "text/x-python",
   "name": "python",
   "nbconvert_exporter": "python",
   "pygments_lexer": "ipython3",
   "version": "3.10.9"
  }
 },
 "nbformat": 4,
 "nbformat_minor": 5
}
